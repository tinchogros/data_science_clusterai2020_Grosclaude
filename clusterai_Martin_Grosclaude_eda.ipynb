{
 "cells": [
  {
   "cell_type": "code",
   "execution_count": 1,
   "metadata": {},
   "outputs": [],
   "source": [
    "import numpy as np\n",
    "import pandas as pd\n",
    "import matplotlib.pyplot as plt\n",
    "import seaborn as sns\n",
    "from scipy.stats import norm, skew, boxcox\n",
    "\n",
    "#SK-Learn\n",
    "from sklearn.model_selection import train_test_split, GridSearchCV\n",
    "from sklearn.preprocessing import PolynomialFeatures\n",
    "from sklearn.preprocessing import LabelEncoder\n",
    "\n",
    "#Scalers\n",
    "#https://scikit-learn.org/stable/modules/classes.html#module-sklearn.preprocessing\n",
    "from sklearn.preprocessing import StandardScaler,MinMaxScaler\n",
    "\n",
    "#Modelos Lineales\n",
    "# https://scikit-learn.org/stable/modules/linear_model.html\n",
    "from sklearn.linear_model import LinearRegression , Ridge\n",
    "from sklearn.svm import SVR\n",
    "from sklearn.linear_model import LassoCV\n",
    "from sklearn.tree import DecisionTreeRegressor\n",
    "from sklearn.neighbors import KNeighborsRegressor\n",
    "\n",
    "#Metricas\n",
    "from sklearn.metrics import r2_score, mean_squared_error, mean_absolute_error\n",
    "\n",
    "#Geopandas\n",
    "import geopandas as gpd\n",
    "\n"
   ]
  },
  {
   "cell_type": "code",
   "execution_count": 20,
   "metadata": {},
   "outputs": [],
   "source": [
    "#Pretratamiento del dataset"
   ]
  },
  {
   "cell_type": "code",
   "execution_count": 2,
   "metadata": {},
   "outputs": [],
   "source": [
    "encuesta = pd.read_csv(r'C:\\Users\\SANTI\\Desktop\\UTN\\Quinto Año\\Ciencia de datos\\TP\\encuesta-anual-hogares-2019.csv',delimiter=',',encoding=\"ISO-8859-1\")"
   ]
  },
  {
   "cell_type": "code",
   "execution_count": 3,
   "metadata": {},
   "outputs": [
    {
     "data": {
      "text/html": [
       "<div>\n",
       "<style scoped>\n",
       "    .dataframe tbody tr th:only-of-type {\n",
       "        vertical-align: middle;\n",
       "    }\n",
       "\n",
       "    .dataframe tbody tr th {\n",
       "        vertical-align: top;\n",
       "    }\n",
       "\n",
       "    .dataframe thead th {\n",
       "        text-align: right;\n",
       "    }\n",
       "</style>\n",
       "<table border=\"1\" class=\"dataframe\">\n",
       "  <thead>\n",
       "    <tr style=\"text-align: right;\">\n",
       "      <th></th>\n",
       "      <th>id</th>\n",
       "      <th>nhogar</th>\n",
       "      <th>miembro</th>\n",
       "      <th>comuna</th>\n",
       "      <th>dominio</th>\n",
       "      <th>edad</th>\n",
       "      <th>sexo</th>\n",
       "      <th>parentesco_jefe</th>\n",
       "      <th>situacion_conyugal</th>\n",
       "      <th>num_miembro_padre</th>\n",
       "      <th>...</th>\n",
       "      <th>ingreso_per_capita_familiar</th>\n",
       "      <th>estado_educativo</th>\n",
       "      <th>sector_educativo</th>\n",
       "      <th>nivel_actual</th>\n",
       "      <th>nivel_max_educativo</th>\n",
       "      <th>años_escolaridad</th>\n",
       "      <th>lugar_nacimiento</th>\n",
       "      <th>afiliacion_salud</th>\n",
       "      <th>hijos_nacidos_vivos</th>\n",
       "      <th>cantidad_hijos_nac_vivos</th>\n",
       "    </tr>\n",
       "  </thead>\n",
       "  <tbody>\n",
       "    <tr>\n",
       "      <th>0</th>\n",
       "      <td>1</td>\n",
       "      <td>1</td>\n",
       "      <td>1</td>\n",
       "      <td>5</td>\n",
       "      <td>Resto de la Ciudad</td>\n",
       "      <td>18</td>\n",
       "      <td>Mujer</td>\n",
       "      <td>Jefe</td>\n",
       "      <td>Soltero/a</td>\n",
       "      <td>Padre no vive en el hogar</td>\n",
       "      <td>...</td>\n",
       "      <td>9000</td>\n",
       "      <td>Asiste</td>\n",
       "      <td>Estatal/publico</td>\n",
       "      <td>Universitario</td>\n",
       "      <td>Otras escuelas especiales</td>\n",
       "      <td>12</td>\n",
       "      <td>PBA excepto GBA</td>\n",
       "      <td>Solo obra social</td>\n",
       "      <td>No</td>\n",
       "      <td>No corresponde</td>\n",
       "    </tr>\n",
       "    <tr>\n",
       "      <th>1</th>\n",
       "      <td>1</td>\n",
       "      <td>1</td>\n",
       "      <td>2</td>\n",
       "      <td>5</td>\n",
       "      <td>Resto de la Ciudad</td>\n",
       "      <td>18</td>\n",
       "      <td>Mujer</td>\n",
       "      <td>Otro no familiar</td>\n",
       "      <td>Soltero/a</td>\n",
       "      <td>Padre no vive en el hogar</td>\n",
       "      <td>...</td>\n",
       "      <td>9000</td>\n",
       "      <td>Asiste</td>\n",
       "      <td>Estatal/publico</td>\n",
       "      <td>Universitario</td>\n",
       "      <td>Otras escuelas especiales</td>\n",
       "      <td>12</td>\n",
       "      <td>Otra provincia</td>\n",
       "      <td>Solo plan de medicina prepaga por contratación...</td>\n",
       "      <td>No</td>\n",
       "      <td>No corresponde</td>\n",
       "    </tr>\n",
       "    <tr>\n",
       "      <th>2</th>\n",
       "      <td>2</td>\n",
       "      <td>1</td>\n",
       "      <td>1</td>\n",
       "      <td>2</td>\n",
       "      <td>Resto de la Ciudad</td>\n",
       "      <td>18</td>\n",
       "      <td>Varon</td>\n",
       "      <td>Jefe</td>\n",
       "      <td>Soltero/a</td>\n",
       "      <td>Padre no vive en el hogar</td>\n",
       "      <td>...</td>\n",
       "      <td>33333</td>\n",
       "      <td>Asiste</td>\n",
       "      <td>Privado religioso</td>\n",
       "      <td>Universitario</td>\n",
       "      <td>Otras escuelas especiales</td>\n",
       "      <td>12</td>\n",
       "      <td>CABA</td>\n",
       "      <td>Solo plan de medicina prepaga por contratación...</td>\n",
       "      <td>NaN</td>\n",
       "      <td>No corresponde</td>\n",
       "    </tr>\n",
       "    <tr>\n",
       "      <th>3</th>\n",
       "      <td>2</td>\n",
       "      <td>1</td>\n",
       "      <td>2</td>\n",
       "      <td>2</td>\n",
       "      <td>Resto de la Ciudad</td>\n",
       "      <td>50</td>\n",
       "      <td>Mujer</td>\n",
       "      <td>Padre/Madre/Suegro/a</td>\n",
       "      <td>Viudo/a</td>\n",
       "      <td>No corresponde</td>\n",
       "      <td>...</td>\n",
       "      <td>33333</td>\n",
       "      <td>No asiste pero asistió</td>\n",
       "      <td>No corresponde</td>\n",
       "      <td>No corresponde</td>\n",
       "      <td>Secundario/medio comun</td>\n",
       "      <td>17</td>\n",
       "      <td>CABA</td>\n",
       "      <td>Solo prepaga o mutual via OS</td>\n",
       "      <td>Si</td>\n",
       "      <td>2</td>\n",
       "    </tr>\n",
       "    <tr>\n",
       "      <th>4</th>\n",
       "      <td>2</td>\n",
       "      <td>1</td>\n",
       "      <td>3</td>\n",
       "      <td>2</td>\n",
       "      <td>Resto de la Ciudad</td>\n",
       "      <td>17</td>\n",
       "      <td>Varon</td>\n",
       "      <td>Otro familiar</td>\n",
       "      <td>Soltero/a</td>\n",
       "      <td>Padre no vive en el hogar</td>\n",
       "      <td>...</td>\n",
       "      <td>33333</td>\n",
       "      <td>Asiste</td>\n",
       "      <td>Privado religioso</td>\n",
       "      <td>Secundario/medio comun</td>\n",
       "      <td>EGB (1° a 9° año)</td>\n",
       "      <td>10</td>\n",
       "      <td>CABA</td>\n",
       "      <td>Solo plan de medicina prepaga por contratación...</td>\n",
       "      <td>NaN</td>\n",
       "      <td>No corresponde</td>\n",
       "    </tr>\n",
       "    <tr>\n",
       "      <th>...</th>\n",
       "      <td>...</td>\n",
       "      <td>...</td>\n",
       "      <td>...</td>\n",
       "      <td>...</td>\n",
       "      <td>...</td>\n",
       "      <td>...</td>\n",
       "      <td>...</td>\n",
       "      <td>...</td>\n",
       "      <td>...</td>\n",
       "      <td>...</td>\n",
       "      <td>...</td>\n",
       "      <td>...</td>\n",
       "      <td>...</td>\n",
       "      <td>...</td>\n",
       "      <td>...</td>\n",
       "      <td>...</td>\n",
       "      <td>...</td>\n",
       "      <td>...</td>\n",
       "      <td>...</td>\n",
       "      <td>...</td>\n",
       "      <td>...</td>\n",
       "    </tr>\n",
       "    <tr>\n",
       "      <th>14314</th>\n",
       "      <td>5794</td>\n",
       "      <td>1</td>\n",
       "      <td>1</td>\n",
       "      <td>10</td>\n",
       "      <td>Resto de la Ciudad</td>\n",
       "      <td>99</td>\n",
       "      <td>Varon</td>\n",
       "      <td>Jefe</td>\n",
       "      <td>Casado/a</td>\n",
       "      <td>No corresponde</td>\n",
       "      <td>...</td>\n",
       "      <td>14250</td>\n",
       "      <td>No asiste pero asistió</td>\n",
       "      <td>No corresponde</td>\n",
       "      <td>No corresponde</td>\n",
       "      <td>Sala de 5</td>\n",
       "      <td>5</td>\n",
       "      <td>Pais no limitrofe</td>\n",
       "      <td>Solo obra social</td>\n",
       "      <td>NaN</td>\n",
       "      <td>No corresponde</td>\n",
       "    </tr>\n",
       "    <tr>\n",
       "      <th>14315</th>\n",
       "      <td>5794</td>\n",
       "      <td>1</td>\n",
       "      <td>2</td>\n",
       "      <td>10</td>\n",
       "      <td>Resto de la Ciudad</td>\n",
       "      <td>78</td>\n",
       "      <td>Mujer</td>\n",
       "      <td>Otro familiar</td>\n",
       "      <td>Soltero/a</td>\n",
       "      <td>No corresponde</td>\n",
       "      <td>...</td>\n",
       "      <td>14250</td>\n",
       "      <td>No asiste pero asistió</td>\n",
       "      <td>No corresponde</td>\n",
       "      <td>No corresponde</td>\n",
       "      <td>EGB (1° a 9° año)</td>\n",
       "      <td>9</td>\n",
       "      <td>Partido GBA</td>\n",
       "      <td>Solo obra social</td>\n",
       "      <td>No</td>\n",
       "      <td>No corresponde</td>\n",
       "    </tr>\n",
       "    <tr>\n",
       "      <th>14316</th>\n",
       "      <td>5794</td>\n",
       "      <td>1</td>\n",
       "      <td>3</td>\n",
       "      <td>10</td>\n",
       "      <td>Resto de la Ciudad</td>\n",
       "      <td>60</td>\n",
       "      <td>Mujer</td>\n",
       "      <td>Hijo/a - Hijastro/a</td>\n",
       "      <td>Separado/a de unión o matrimonio</td>\n",
       "      <td>No corresponde</td>\n",
       "      <td>...</td>\n",
       "      <td>14250</td>\n",
       "      <td>No asiste pero asistió</td>\n",
       "      <td>No corresponde</td>\n",
       "      <td>No corresponde</td>\n",
       "      <td>Primario especial</td>\n",
       "      <td>12</td>\n",
       "      <td>CABA</td>\n",
       "      <td>Solo obra social</td>\n",
       "      <td>Si</td>\n",
       "      <td>2</td>\n",
       "    </tr>\n",
       "    <tr>\n",
       "      <th>14317</th>\n",
       "      <td>5794</td>\n",
       "      <td>1</td>\n",
       "      <td>4</td>\n",
       "      <td>10</td>\n",
       "      <td>Resto de la Ciudad</td>\n",
       "      <td>92</td>\n",
       "      <td>Mujer</td>\n",
       "      <td>Conyugue o pareja</td>\n",
       "      <td>Casado/a</td>\n",
       "      <td>No corresponde</td>\n",
       "      <td>...</td>\n",
       "      <td>14250</td>\n",
       "      <td>No asiste pero asistió</td>\n",
       "      <td>No corresponde</td>\n",
       "      <td>No corresponde</td>\n",
       "      <td>Primario comun</td>\n",
       "      <td>7</td>\n",
       "      <td>CABA</td>\n",
       "      <td>Solo obra social</td>\n",
       "      <td>Si</td>\n",
       "      <td>1</td>\n",
       "    </tr>\n",
       "    <tr>\n",
       "      <th>14318</th>\n",
       "      <td>5795</td>\n",
       "      <td>1</td>\n",
       "      <td>1</td>\n",
       "      <td>2</td>\n",
       "      <td>Resto de la Ciudad</td>\n",
       "      <td>100</td>\n",
       "      <td>Mujer</td>\n",
       "      <td>Jefe</td>\n",
       "      <td>Viudo/a</td>\n",
       "      <td>No corresponde</td>\n",
       "      <td>...</td>\n",
       "      <td>82000</td>\n",
       "      <td>No asiste pero asistió</td>\n",
       "      <td>No corresponde</td>\n",
       "      <td>No corresponde</td>\n",
       "      <td>Secundario/medio comun</td>\n",
       "      <td>15</td>\n",
       "      <td>CABA</td>\n",
       "      <td>Solo obra social</td>\n",
       "      <td>Si</td>\n",
       "      <td>1</td>\n",
       "    </tr>\n",
       "  </tbody>\n",
       "</table>\n",
       "<p>14319 rows × 31 columns</p>\n",
       "</div>"
      ],
      "text/plain": [
       "         id  nhogar  miembro  comuna             dominio  edad   sexo  \\\n",
       "0         1       1        1       5  Resto de la Ciudad    18  Mujer   \n",
       "1         1       1        2       5  Resto de la Ciudad    18  Mujer   \n",
       "2         2       1        1       2  Resto de la Ciudad    18  Varon   \n",
       "3         2       1        2       2  Resto de la Ciudad    50  Mujer   \n",
       "4         2       1        3       2  Resto de la Ciudad    17  Varon   \n",
       "...     ...     ...      ...     ...                 ...   ...    ...   \n",
       "14314  5794       1        1      10  Resto de la Ciudad    99  Varon   \n",
       "14315  5794       1        2      10  Resto de la Ciudad    78  Mujer   \n",
       "14316  5794       1        3      10  Resto de la Ciudad    60  Mujer   \n",
       "14317  5794       1        4      10  Resto de la Ciudad    92  Mujer   \n",
       "14318  5795       1        1       2  Resto de la Ciudad   100  Mujer   \n",
       "\n",
       "            parentesco_jefe                situacion_conyugal  \\\n",
       "0                      Jefe                         Soltero/a   \n",
       "1          Otro no familiar                         Soltero/a   \n",
       "2                      Jefe                         Soltero/a   \n",
       "3      Padre/Madre/Suegro/a                           Viudo/a   \n",
       "4             Otro familiar                         Soltero/a   \n",
       "...                     ...                               ...   \n",
       "14314                  Jefe                          Casado/a   \n",
       "14315         Otro familiar                         Soltero/a   \n",
       "14316   Hijo/a - Hijastro/a  Separado/a de unión o matrimonio   \n",
       "14317     Conyugue o pareja                          Casado/a   \n",
       "14318                  Jefe                           Viudo/a   \n",
       "\n",
       "               num_miembro_padre  ... ingreso_per_capita_familiar  \\\n",
       "0      Padre no vive en el hogar  ...                        9000   \n",
       "1      Padre no vive en el hogar  ...                        9000   \n",
       "2      Padre no vive en el hogar  ...                       33333   \n",
       "3                 No corresponde  ...                       33333   \n",
       "4      Padre no vive en el hogar  ...                       33333   \n",
       "...                          ...  ...                         ...   \n",
       "14314             No corresponde  ...                       14250   \n",
       "14315             No corresponde  ...                       14250   \n",
       "14316             No corresponde  ...                       14250   \n",
       "14317             No corresponde  ...                       14250   \n",
       "14318             No corresponde  ...                       82000   \n",
       "\n",
       "             estado_educativo   sector_educativo            nivel_actual  \\\n",
       "0                      Asiste    Estatal/publico           Universitario   \n",
       "1                      Asiste    Estatal/publico           Universitario   \n",
       "2                      Asiste  Privado religioso           Universitario   \n",
       "3      No asiste pero asistió     No corresponde          No corresponde   \n",
       "4                      Asiste  Privado religioso  Secundario/medio comun   \n",
       "...                       ...                ...                     ...   \n",
       "14314  No asiste pero asistió     No corresponde          No corresponde   \n",
       "14315  No asiste pero asistió     No corresponde          No corresponde   \n",
       "14316  No asiste pero asistió     No corresponde          No corresponde   \n",
       "14317  No asiste pero asistió     No corresponde          No corresponde   \n",
       "14318  No asiste pero asistió     No corresponde          No corresponde   \n",
       "\n",
       "             nivel_max_educativo años_escolaridad   lugar_nacimiento  \\\n",
       "0      Otras escuelas especiales               12    PBA excepto GBA   \n",
       "1      Otras escuelas especiales               12     Otra provincia   \n",
       "2      Otras escuelas especiales               12               CABA   \n",
       "3         Secundario/medio comun               17               CABA   \n",
       "4              EGB (1° a 9° año)               10               CABA   \n",
       "...                          ...              ...                ...   \n",
       "14314                  Sala de 5                5  Pais no limitrofe   \n",
       "14315          EGB (1° a 9° año)                9        Partido GBA   \n",
       "14316          Primario especial               12               CABA   \n",
       "14317             Primario comun                7               CABA   \n",
       "14318     Secundario/medio comun               15               CABA   \n",
       "\n",
       "                                        afiliacion_salud  hijos_nacidos_vivos  \\\n",
       "0                                       Solo obra social                   No   \n",
       "1      Solo plan de medicina prepaga por contratación...                   No   \n",
       "2      Solo plan de medicina prepaga por contratación...                  NaN   \n",
       "3                           Solo prepaga o mutual via OS                   Si   \n",
       "4      Solo plan de medicina prepaga por contratación...                  NaN   \n",
       "...                                                  ...                  ...   \n",
       "14314                                   Solo obra social                  NaN   \n",
       "14315                                   Solo obra social                   No   \n",
       "14316                                   Solo obra social                   Si   \n",
       "14317                                   Solo obra social                   Si   \n",
       "14318                                   Solo obra social                   Si   \n",
       "\n",
       "      cantidad_hijos_nac_vivos  \n",
       "0               No corresponde  \n",
       "1               No corresponde  \n",
       "2               No corresponde  \n",
       "3                            2  \n",
       "4               No corresponde  \n",
       "...                        ...  \n",
       "14314           No corresponde  \n",
       "14315           No corresponde  \n",
       "14316                        2  \n",
       "14317                        1  \n",
       "14318                        1  \n",
       "\n",
       "[14319 rows x 31 columns]"
      ]
     },
     "execution_count": 3,
     "metadata": {},
     "output_type": "execute_result"
    }
   ],
   "source": [
    "encuesta"
   ]
  },
  {
   "cell_type": "code",
   "execution_count": 4,
   "metadata": {},
   "outputs": [
    {
     "name": "stdout",
     "output_type": "stream",
     "text": [
      "<class 'pandas.core.frame.DataFrame'>\n",
      "RangeIndex: 14319 entries, 0 to 14318\n",
      "Data columns (total 31 columns):\n",
      " #   Column                       Non-Null Count  Dtype \n",
      "---  ------                       --------------  ----- \n",
      " 0   id                           14319 non-null  int64 \n",
      " 1   nhogar                       14319 non-null  int64 \n",
      " 2   miembro                      14319 non-null  int64 \n",
      " 3   comuna                       14319 non-null  int64 \n",
      " 4   dominio                      14319 non-null  object\n",
      " 5   edad                         14319 non-null  int64 \n",
      " 6   sexo                         14319 non-null  object\n",
      " 7   parentesco_jefe              14319 non-null  object\n",
      " 8   situacion_conyugal           14318 non-null  object\n",
      " 9   num_miembro_padre            14319 non-null  object\n",
      " 10  num_miembro_madre            14319 non-null  object\n",
      " 11  estado_ocupacional           14319 non-null  object\n",
      " 12  cat_ocupacional              14319 non-null  object\n",
      " 13  calidad_ingresos_lab         14319 non-null  object\n",
      " 14  ingreso_total_lab            14319 non-null  int64 \n",
      " 15  calidad_ingresos_no_lab      14319 non-null  object\n",
      " 16  ingreso_total_no_lab         14319 non-null  int64 \n",
      " 17  calidad_ingresos_totales     14319 non-null  object\n",
      " 18  ingresos_totales             14319 non-null  int64 \n",
      " 19  calidad_ingresos_familiares  14319 non-null  object\n",
      " 20  ingresos_familiares          14319 non-null  int64 \n",
      " 21  ingreso_per_capita_familiar  14319 non-null  int64 \n",
      " 22  estado_educativo             14319 non-null  object\n",
      " 23  sector_educativo             14316 non-null  object\n",
      " 24  nivel_actual                 14319 non-null  object\n",
      " 25  nivel_max_educativo          13265 non-null  object\n",
      " 26  años_escolaridad             14257 non-null  object\n",
      " 27  lugar_nacimiento             14318 non-null  object\n",
      " 28  afiliacion_salud             14315 non-null  object\n",
      " 29  hijos_nacidos_vivos          6535 non-null   object\n",
      " 30  cantidad_hijos_nac_vivos     14319 non-null  object\n",
      "dtypes: int64(10), object(21)\n",
      "memory usage: 3.4+ MB\n"
     ]
    }
   ],
   "source": [
    "# Vemos que datos tiene el dataset\n",
    "\n",
    "encuesta.info()"
   ]
  },
  {
   "cell_type": "code",
   "execution_count": 5,
   "metadata": {},
   "outputs": [
    {
     "data": {
      "text/plain": [
       "id                             False\n",
       "nhogar                         False\n",
       "miembro                        False\n",
       "comuna                         False\n",
       "dominio                        False\n",
       "edad                           False\n",
       "sexo                           False\n",
       "parentesco_jefe                False\n",
       "situacion_conyugal              True\n",
       "num_miembro_padre              False\n",
       "num_miembro_madre              False\n",
       "estado_ocupacional             False\n",
       "cat_ocupacional                False\n",
       "calidad_ingresos_lab           False\n",
       "ingreso_total_lab              False\n",
       "calidad_ingresos_no_lab        False\n",
       "ingreso_total_no_lab           False\n",
       "calidad_ingresos_totales       False\n",
       "ingresos_totales               False\n",
       "calidad_ingresos_familiares    False\n",
       "ingresos_familiares            False\n",
       "ingreso_per_capita_familiar    False\n",
       "estado_educativo               False\n",
       "sector_educativo                True\n",
       "nivel_actual                   False\n",
       "nivel_max_educativo             True\n",
       "años_escolaridad                True\n",
       "lugar_nacimiento                True\n",
       "afiliacion_salud                True\n",
       "hijos_nacidos_vivos             True\n",
       "cantidad_hijos_nac_vivos       False\n",
       "dtype: bool"
      ]
     },
     "execution_count": 5,
     "metadata": {},
     "output_type": "execute_result"
    }
   ],
   "source": [
    "# Revisamos valores nulos \n",
    "\n",
    "encuesta.isnull().any()"
   ]
  },
  {
   "cell_type": "code",
   "execution_count": 6,
   "metadata": {},
   "outputs": [
    {
     "name": "stdout",
     "output_type": "stream",
     "text": [
      "<class 'pandas.core.frame.DataFrame'>\n",
      "RangeIndex: 14319 entries, 0 to 14318\n",
      "Data columns (total 18 columns):\n",
      " #   Column                    Non-Null Count  Dtype \n",
      "---  ------                    --------------  ----- \n",
      " 0   id                        14319 non-null  int64 \n",
      " 1   nhogar                    14319 non-null  int64 \n",
      " 2   miembro                   14319 non-null  int64 \n",
      " 3   comuna                    14319 non-null  int64 \n",
      " 4   dominio                   14319 non-null  object\n",
      " 5   edad                      14319 non-null  int64 \n",
      " 6   sexo                      14319 non-null  object\n",
      " 7   parentesco_jefe           14319 non-null  object\n",
      " 8   situacion_conyugal        14318 non-null  object\n",
      " 9   estado_ocupacional        14319 non-null  object\n",
      " 10  cat_ocupacional           14319 non-null  object\n",
      " 11  ingreso_total_lab         14319 non-null  int64 \n",
      " 12  estado_educativo          14319 non-null  object\n",
      " 13  nivel_actual              14319 non-null  object\n",
      " 14  años_escolaridad          14257 non-null  object\n",
      " 15  lugar_nacimiento          14318 non-null  object\n",
      " 16  afiliacion_salud          14315 non-null  object\n",
      " 17  cantidad_hijos_nac_vivos  14319 non-null  object\n",
      "dtypes: int64(6), object(12)\n",
      "memory usage: 2.0+ MB\n"
     ]
    }
   ],
   "source": [
    "# ACA EMPEZAMOS A SACAR INFORMACION QUE NO NOS SIRVE\n",
    "\n",
    "encuesta.drop(columns=['num_miembro_padre','num_miembro_madre','calidad_ingresos_no_lab','ingreso_total_no_lab','calidad_ingresos_totales','ingresos_totales','calidad_ingresos_familiares','ingresos_familiares','ingreso_per_capita_familiar','nivel_max_educativo','hijos_nacidos_vivos','calidad_ingresos_lab','sector_educativo'],inplace=True)\n",
    "\n",
    "# Como queda el dataset\n",
    "\n",
    "encuesta.info()"
   ]
  },
  {
   "cell_type": "code",
   "execution_count": 7,
   "metadata": {},
   "outputs": [
    {
     "data": {
      "text/plain": [
       "array(['Resto de la Ciudad', 'Villas de emergencia'], dtype=object)"
      ]
     },
     "execution_count": 7,
     "metadata": {},
     "output_type": "execute_result"
    }
   ],
   "source": [
    "np.unique(encuesta.dominio)"
   ]
  },
  {
   "cell_type": "code",
   "execution_count": 8,
   "metadata": {},
   "outputs": [
    {
     "data": {
      "text/plain": [
       "array(['Conyugue o pareja', 'Hijo/a - Hijastro/a', 'Jefe', 'Nieto/a',\n",
       "       'Otro familiar', 'Otro no familiar', 'Padre/Madre/Suegro/a',\n",
       "       'Servicio domestico y sus familiares', 'Yerno/nuera'], dtype=object)"
      ]
     },
     "execution_count": 8,
     "metadata": {},
     "output_type": "execute_result"
    }
   ],
   "source": [
    "# Empezamos a ver como se compone cada feature\n",
    "encuesta['parentesco_jefe'] = encuesta['parentesco_jefe'].apply(str)\n",
    "np.unique(encuesta.parentesco_jefe)"
   ]
  },
  {
   "cell_type": "code",
   "execution_count": 9,
   "metadata": {},
   "outputs": [],
   "source": [
    "# Cambiamos estructura\n",
    "\n",
    "mask = encuesta.parentesco_jefe == 'Jefe'\n",
    "encuesta.parentesco_jefe.where(mask, 'No Jefe',inplace=True)"
   ]
  },
  {
   "cell_type": "code",
   "execution_count": 10,
   "metadata": {},
   "outputs": [
    {
     "data": {
      "text/plain": [
       "array(['Jefe', 'No Jefe'], dtype=object)"
      ]
     },
     "execution_count": 10,
     "metadata": {},
     "output_type": "execute_result"
    }
   ],
   "source": [
    "np.unique(encuesta.parentesco_jefe)"
   ]
  },
  {
   "cell_type": "code",
   "execution_count": 11,
   "metadata": {},
   "outputs": [
    {
     "data": {
      "text/plain": [
       "array(['Casado/a', 'Divorciado/a', 'No corresponde',\n",
       "       'Separado/a de unión o matrimonio', 'Soltero/a', 'Unido/a',\n",
       "       'Viudo/a', 'nan'], dtype=object)"
      ]
     },
     "execution_count": 11,
     "metadata": {},
     "output_type": "execute_result"
    }
   ],
   "source": [
    "encuesta['situacion_conyugal'] = encuesta['situacion_conyugal'].apply(str)\n",
    "np.unique(encuesta.situacion_conyugal)"
   ]
  },
  {
   "cell_type": "code",
   "execution_count": 12,
   "metadata": {},
   "outputs": [
    {
     "data": {
      "text/plain": [
       "Soltero/a                           3542\n",
       "Casado/a                            3511\n",
       "Unido/a                             2467\n",
       "No corresponde                      2375\n",
       "Separado/a de unión o matrimonio    1110\n",
       "Viudo/a                              797\n",
       "Divorciado/a                         516\n",
       "nan                                    1\n",
       "Name: situacion_conyugal, dtype: int64"
      ]
     },
     "execution_count": 12,
     "metadata": {},
     "output_type": "execute_result"
    }
   ],
   "source": [
    "encuesta.situacion_conyugal.value_counts()"
   ]
  },
  {
   "cell_type": "code",
   "execution_count": 13,
   "metadata": {},
   "outputs": [],
   "source": [
    "# Cambiamos estructura\n",
    "\n",
    "mask = encuesta.situacion_conyugal != 'Separado/a de unión o matrimonio'\n",
    "mask2 = encuesta.situacion_conyugal != 'No corresponde'\n",
    "mask3 = encuesta.situacion_conyugal != 'nan'\n",
    "encuesta.situacion_conyugal.where(mask, 'Soltero/a',inplace=True)\n",
    "encuesta.situacion_conyugal.where(mask2, 'Soltero/a',inplace=True)\n",
    "encuesta.situacion_conyugal.where(mask3, 'Soltero/a',inplace=True)"
   ]
  },
  {
   "cell_type": "code",
   "execution_count": 14,
   "metadata": {},
   "outputs": [
    {
     "data": {
      "text/plain": [
       "array(['Casado/a', 'Divorciado/a', 'Soltero/a', 'Unido/a', 'Viudo/a'],\n",
       "      dtype=object)"
      ]
     },
     "execution_count": 14,
     "metadata": {},
     "output_type": "execute_result"
    }
   ],
   "source": [
    "np.unique(encuesta.situacion_conyugal)"
   ]
  },
  {
   "cell_type": "code",
   "execution_count": 15,
   "metadata": {},
   "outputs": [
    {
     "data": {
      "text/plain": [
       "Soltero/a       7028\n",
       "Casado/a        3511\n",
       "Unido/a         2467\n",
       "Viudo/a          797\n",
       "Divorciado/a     516\n",
       "Name: situacion_conyugal, dtype: int64"
      ]
     },
     "execution_count": 15,
     "metadata": {},
     "output_type": "execute_result"
    }
   ],
   "source": [
    "encuesta.situacion_conyugal.value_counts()"
   ]
  },
  {
   "cell_type": "code",
   "execution_count": 16,
   "metadata": {},
   "outputs": [
    {
     "data": {
      "text/plain": [
       "array(['Desocupado', 'Inactivo', 'Ocupado'], dtype=object)"
      ]
     },
     "execution_count": 16,
     "metadata": {},
     "output_type": "execute_result"
    }
   ],
   "source": [
    "encuesta['estado_ocupacional'] = encuesta['estado_ocupacional'].apply(str)\n",
    "np.unique(encuesta.estado_ocupacional)  "
   ]
  },
  {
   "cell_type": "code",
   "execution_count": 17,
   "metadata": {},
   "outputs": [
    {
     "data": {
      "text/plain": [
       "array(['Asalariado', 'No corresponde', 'Patron/empleador',\n",
       "       'Trabajador familiar', 'Trabajador por cuenta propia'],\n",
       "      dtype=object)"
      ]
     },
     "execution_count": 17,
     "metadata": {},
     "output_type": "execute_result"
    }
   ],
   "source": [
    "#ver si lo tomamos en cuenta#\n",
    "\n",
    "encuesta['cat_ocupacional'] = encuesta['cat_ocupacional'].apply(str)\n",
    "np.unique(encuesta.cat_ocupacional)"
   ]
  },
  {
   "cell_type": "code",
   "execution_count": 18,
   "metadata": {},
   "outputs": [
    {
     "data": {
      "text/plain": [
       "No corresponde                  6932\n",
       "Asalariado                      5514\n",
       "Trabajador por cuenta propia    1503\n",
       "Patron/empleador                 316\n",
       "Trabajador familiar               54\n",
       "Name: cat_ocupacional, dtype: int64"
      ]
     },
     "execution_count": 18,
     "metadata": {},
     "output_type": "execute_result"
    }
   ],
   "source": [
    "#ver si lo tomamos en cuenta#\n",
    "\n",
    "encuesta.cat_ocupacional.value_counts()"
   ]
  },
  {
   "cell_type": "code",
   "execution_count": 19,
   "metadata": {},
   "outputs": [
    {
     "data": {
      "text/plain": [
       "array(['Jardin maternal', 'No corresponde', 'Otras escuelas especiales',\n",
       "       'Postgrado', 'Primario adultos', 'Primario comun',\n",
       "       'Primario especial', 'Sala de 3', 'Sala de 4', 'Sala de 5',\n",
       "       'Secundario/medio adultos', 'Secundario/medio comun',\n",
       "       'Terciario/superior no universitario', 'Universitario'],\n",
       "      dtype=object)"
      ]
     },
     "execution_count": 19,
     "metadata": {},
     "output_type": "execute_result"
    }
   ],
   "source": [
    "encuesta['nivel_actual'] = encuesta['nivel_actual'].apply(str)\n",
    "np.unique(encuesta.nivel_actual)"
   ]
  },
  {
   "cell_type": "code",
   "execution_count": 21,
   "metadata": {},
   "outputs": [
    {
     "data": {
      "text/plain": [
       "No corresponde                         9903\n",
       "Primario comun                         1227\n",
       "Universitario                          1042\n",
       "Secundario/medio comun                  910\n",
       "Terciario/superior no universitario     262\n",
       "Postgrado                               180\n",
       "Sala de 4                               173\n",
       "Sala de 5                               162\n",
       "Jardin maternal                         161\n",
       "Sala de 3                               147\n",
       "Secundario/medio adultos                105\n",
       "Otras escuelas especiales                23\n",
       "Primario especial                        15\n",
       "Primario adultos                          9\n",
       "Name: nivel_actual, dtype: int64"
      ]
     },
     "execution_count": 21,
     "metadata": {},
     "output_type": "execute_result"
    }
   ],
   "source": [
    "encuesta.nivel_actual.value_counts()"
   ]
  },
  {
   "cell_type": "code",
   "execution_count": 22,
   "metadata": {},
   "outputs": [
    {
     "data": {
      "text/html": [
       "<div>\n",
       "<style scoped>\n",
       "    .dataframe tbody tr th:only-of-type {\n",
       "        vertical-align: middle;\n",
       "    }\n",
       "\n",
       "    .dataframe tbody tr th {\n",
       "        vertical-align: top;\n",
       "    }\n",
       "\n",
       "    .dataframe thead tr th {\n",
       "        text-align: left;\n",
       "    }\n",
       "\n",
       "    .dataframe thead tr:last-of-type th {\n",
       "        text-align: right;\n",
       "    }\n",
       "</style>\n",
       "<table border=\"1\" class=\"dataframe\">\n",
       "  <thead>\n",
       "    <tr>\n",
       "      <th></th>\n",
       "      <th colspan=\"2\" halign=\"left\">ingreso_total_lab</th>\n",
       "    </tr>\n",
       "    <tr>\n",
       "      <th></th>\n",
       "      <th>count</th>\n",
       "      <th>sum</th>\n",
       "    </tr>\n",
       "    <tr>\n",
       "      <th>nivel_actual</th>\n",
       "      <th></th>\n",
       "      <th></th>\n",
       "    </tr>\n",
       "  </thead>\n",
       "  <tbody>\n",
       "    <tr>\n",
       "      <th>Jardin maternal</th>\n",
       "      <td>161</td>\n",
       "      <td>0</td>\n",
       "    </tr>\n",
       "    <tr>\n",
       "      <th>No corresponde</th>\n",
       "      <td>9903</td>\n",
       "      <td>254009562</td>\n",
       "    </tr>\n",
       "    <tr>\n",
       "      <th>Otras escuelas especiales</th>\n",
       "      <td>23</td>\n",
       "      <td>0</td>\n",
       "    </tr>\n",
       "    <tr>\n",
       "      <th>Postgrado</th>\n",
       "      <td>180</td>\n",
       "      <td>9885600</td>\n",
       "    </tr>\n",
       "    <tr>\n",
       "      <th>Primario adultos</th>\n",
       "      <td>9</td>\n",
       "      <td>34200</td>\n",
       "    </tr>\n",
       "    <tr>\n",
       "      <th>Primario comun</th>\n",
       "      <td>1227</td>\n",
       "      <td>200</td>\n",
       "    </tr>\n",
       "    <tr>\n",
       "      <th>Primario especial</th>\n",
       "      <td>15</td>\n",
       "      <td>0</td>\n",
       "    </tr>\n",
       "    <tr>\n",
       "      <th>Sala de 3</th>\n",
       "      <td>147</td>\n",
       "      <td>0</td>\n",
       "    </tr>\n",
       "    <tr>\n",
       "      <th>Sala de 4</th>\n",
       "      <td>173</td>\n",
       "      <td>0</td>\n",
       "    </tr>\n",
       "    <tr>\n",
       "      <th>Sala de 5</th>\n",
       "      <td>162</td>\n",
       "      <td>0</td>\n",
       "    </tr>\n",
       "    <tr>\n",
       "      <th>Secundario/medio adultos</th>\n",
       "      <td>105</td>\n",
       "      <td>1118850</td>\n",
       "    </tr>\n",
       "    <tr>\n",
       "      <th>Secundario/medio comun</th>\n",
       "      <td>910</td>\n",
       "      <td>178500</td>\n",
       "    </tr>\n",
       "    <tr>\n",
       "      <th>Terciario/superior no universitario</th>\n",
       "      <td>262</td>\n",
       "      <td>4860780</td>\n",
       "    </tr>\n",
       "    <tr>\n",
       "      <th>Universitario</th>\n",
       "      <td>1042</td>\n",
       "      <td>17418160</td>\n",
       "    </tr>\n",
       "  </tbody>\n",
       "</table>\n",
       "</div>"
      ],
      "text/plain": [
       "                                    ingreso_total_lab           \n",
       "                                                count        sum\n",
       "nivel_actual                                                    \n",
       "Jardin maternal                                   161          0\n",
       "No corresponde                                   9903  254009562\n",
       "Otras escuelas especiales                          23          0\n",
       "Postgrado                                         180    9885600\n",
       "Primario adultos                                    9      34200\n",
       "Primario comun                                   1227        200\n",
       "Primario especial                                  15          0\n",
       "Sala de 3                                         147          0\n",
       "Sala de 4                                         173          0\n",
       "Sala de 5                                         162          0\n",
       "Secundario/medio adultos                          105    1118850\n",
       "Secundario/medio comun                            910     178500\n",
       "Terciario/superior no universitario               262    4860780\n",
       "Universitario                                    1042   17418160"
      ]
     },
     "execution_count": 22,
     "metadata": {},
     "output_type": "execute_result"
    }
   ],
   "source": [
    "#Miramos dentro del nivel actual como se distribuye el ingreso en funcion del mismo\n",
    "\n",
    "encuesta_nivel_actual = pd.pivot_table(encuesta,index=[\"nivel_actual\"],values=[\"ingreso_total_lab\"],aggfunc=(\"sum\",\"count\"))\n",
    "encuesta_nivel_actual"
   ]
  },
  {
   "cell_type": "code",
   "execution_count": 23,
   "metadata": {},
   "outputs": [],
   "source": [
    "#Asumimos que la categoria \"No corresponde\" son personas recibidas y las categorizamos en orden\n",
    "\n",
    "mask0 = (encuesta.nivel_actual != 'Jardin maternal') & (encuesta.nivel_actual != 'Sala de 3') & (encuesta.nivel_actual != 'Sala de 4') & (encuesta.nivel_actual != 'Sala de 5')\n",
    "mask1 = (encuesta.nivel_actual != 'Primario adultos') & (encuesta.nivel_actual != 'Primario comun') & (encuesta.nivel_actual != 'Primario especial')\n",
    "mask2 = (encuesta.nivel_actual != 'Otras escuelas especiales') & (encuesta.nivel_actual != 'Secundario/medio adultos') & (encuesta.nivel_actual != 'Secundario/medio comun')\n",
    "mask3 = (encuesta.nivel_actual != 'No corresponde')\n",
    "encuesta.nivel_actual.where(mask0, 'Jardin',inplace=True)\n",
    "encuesta.nivel_actual.where(mask1, 'Primario',inplace=True)\n",
    "encuesta.nivel_actual.where(mask2, 'Secundario',inplace=True)\n",
    "encuesta.nivel_actual.where(mask3, 'Recibido universitario',inplace=True)"
   ]
  },
  {
   "cell_type": "code",
   "execution_count": 24,
   "metadata": {},
   "outputs": [
    {
     "data": {
      "text/plain": [
       "array(['Jardin', 'Postgrado', 'Primario', 'Recibido universitario',\n",
       "       'Secundario', 'Terciario/superior no universitario',\n",
       "       'Universitario'], dtype=object)"
      ]
     },
     "execution_count": 24,
     "metadata": {},
     "output_type": "execute_result"
    }
   ],
   "source": [
    "np.unique(encuesta.nivel_actual)"
   ]
  },
  {
   "cell_type": "code",
   "execution_count": 25,
   "metadata": {},
   "outputs": [
    {
     "data": {
      "text/plain": [
       "Recibido universitario                 9903\n",
       "Primario                               1251\n",
       "Universitario                          1042\n",
       "Secundario                             1038\n",
       "Jardin                                  643\n",
       "Terciario/superior no universitario     262\n",
       "Postgrado                               180\n",
       "Name: nivel_actual, dtype: int64"
      ]
     },
     "execution_count": 25,
     "metadata": {},
     "output_type": "execute_result"
    }
   ],
   "source": [
    "encuesta.nivel_actual.value_counts()"
   ]
  },
  {
   "cell_type": "code",
   "execution_count": 26,
   "metadata": {},
   "outputs": [
    {
     "data": {
      "text/plain": [
       "array(['1', '10', '11', '12', '13', '14', '15', '16', '17', '18', '19',\n",
       "       '2', '3', '4', '5', '6', '7', '8', '9',\n",
       "       'Ningun año de escolaridad aprobado', 'nan'], dtype=object)"
      ]
     },
     "execution_count": 26,
     "metadata": {},
     "output_type": "execute_result"
    }
   ],
   "source": [
    "encuesta['años_escolaridad'] = encuesta['años_escolaridad'].apply(str)\n",
    "np.unique(encuesta.años_escolaridad)"
   ]
  },
  {
   "cell_type": "code",
   "execution_count": 27,
   "metadata": {},
   "outputs": [
    {
     "data": {
      "text/plain": [
       "12                                    2824\n",
       "17                                    1851\n",
       "15                                    1498\n",
       "7                                     1263\n",
       "Ningun año de escolaridad aprobado    1226\n",
       "14                                     722\n",
       "9                                      588\n",
       "19                                     557\n",
       "10                                     539\n",
       "13                                     483\n",
       "11                                     451\n",
       "8                                      397\n",
       "16                                     334\n",
       "3                                      261\n",
       "2                                      241\n",
       "6                                      229\n",
       "5                                      224\n",
       "4                                      211\n",
       "1                                      196\n",
       "18                                     162\n",
       "nan                                     62\n",
       "Name: años_escolaridad, dtype: int64"
      ]
     },
     "execution_count": 27,
     "metadata": {},
     "output_type": "execute_result"
    }
   ],
   "source": [
    "encuesta.años_escolaridad.value_counts()"
   ]
  },
  {
   "cell_type": "code",
   "execution_count": 28,
   "metadata": {},
   "outputs": [],
   "source": [
    "#Cambiamos estructura \n",
    "\n",
    "mask0 = (encuesta.años_escolaridad != 'nan') & (encuesta.años_escolaridad != 'Ningun año de escolaridad aprobado')\n",
    "encuesta.años_escolaridad.where(mask0, 0, inplace=True)"
   ]
  },
  {
   "cell_type": "code",
   "execution_count": 29,
   "metadata": {},
   "outputs": [
    {
     "data": {
      "text/plain": [
       "12    2824\n",
       "17    1851\n",
       "15    1498\n",
       "0     1288\n",
       "7     1263\n",
       "14     722\n",
       "9      588\n",
       "19     557\n",
       "10     539\n",
       "13     483\n",
       "11     451\n",
       "8      397\n",
       "16     334\n",
       "3      261\n",
       "2      241\n",
       "6      229\n",
       "5      224\n",
       "4      211\n",
       "1      196\n",
       "18     162\n",
       "Name: años_escolaridad, dtype: int64"
      ]
     },
     "execution_count": 29,
     "metadata": {},
     "output_type": "execute_result"
    }
   ],
   "source": [
    "encuesta.años_escolaridad.value_counts()"
   ]
  },
  {
   "cell_type": "code",
   "execution_count": 30,
   "metadata": {},
   "outputs": [
    {
     "data": {
      "text/plain": [
       "array(['CABA', 'Otra provincia', 'PBA excepto GBA', 'PBA sin especificar',\n",
       "       'Pais limitrofe', 'Pais no limitrofe', 'Partido GBA', 'nan'],\n",
       "      dtype=object)"
      ]
     },
     "execution_count": 30,
     "metadata": {},
     "output_type": "execute_result"
    }
   ],
   "source": [
    "encuesta['lugar_nacimiento'] = encuesta['lugar_nacimiento'].apply(str)\n",
    "np.unique(encuesta.lugar_nacimiento)"
   ]
  },
  {
   "cell_type": "code",
   "execution_count": 31,
   "metadata": {},
   "outputs": [
    {
     "data": {
      "text/plain": [
       "CABA                   8750\n",
       "Otra provincia         1615\n",
       "Pais limitrofe         1206\n",
       "Partido GBA            1147\n",
       "Pais no limitrofe      1030\n",
       "PBA excepto GBA         565\n",
       "PBA sin especificar       5\n",
       "nan                       1\n",
       "Name: lugar_nacimiento, dtype: int64"
      ]
     },
     "execution_count": 31,
     "metadata": {},
     "output_type": "execute_result"
    }
   ],
   "source": [
    "encuesta.lugar_nacimiento.value_counts()"
   ]
  },
  {
   "cell_type": "code",
   "execution_count": 32,
   "metadata": {},
   "outputs": [],
   "source": [
    "#Cambiamos estructura \n",
    "\n",
    "mask0 = (encuesta.lugar_nacimiento != 'nan') & (encuesta.lugar_nacimiento != 'PBA excepto GBA') & (encuesta.lugar_nacimiento != 'PBA sin especificar') \n",
    "mask1 = (encuesta.lugar_nacimiento != 'Pais limitrofe') & (encuesta.lugar_nacimiento != 'Pais no limitrofe') \n",
    "encuesta.lugar_nacimiento.where(mask0, 'PBA', inplace=True)\n",
    "encuesta.lugar_nacimiento.where(mask1, 'Otro pais', inplace=True)"
   ]
  },
  {
   "cell_type": "code",
   "execution_count": 33,
   "metadata": {},
   "outputs": [
    {
     "data": {
      "text/plain": [
       "array(['CABA', 'Otra provincia', 'Otro pais', 'PBA', 'Partido GBA'],\n",
       "      dtype=object)"
      ]
     },
     "execution_count": 33,
     "metadata": {},
     "output_type": "execute_result"
    }
   ],
   "source": [
    "encuesta['lugar_nacimiento'] = encuesta['lugar_nacimiento'].apply(str)\n",
    "np.unique(encuesta.lugar_nacimiento)"
   ]
  },
  {
   "cell_type": "code",
   "execution_count": 34,
   "metadata": {},
   "outputs": [
    {
     "data": {
      "text/plain": [
       "array(['Otros', 'Solo obra social',\n",
       "       'Solo plan de medicina prepaga por contratación voluntaria',\n",
       "       'Solo prepaga o mutual via OS', 'Solo sistema publico', 'nan'],\n",
       "      dtype=object)"
      ]
     },
     "execution_count": 34,
     "metadata": {},
     "output_type": "execute_result"
    }
   ],
   "source": [
    "# ver si unimos algo o lo dejamos asi \n",
    "\n",
    "encuesta['afiliacion_salud'] = encuesta['afiliacion_salud'].apply(str)\n",
    "np.unique(encuesta.afiliacion_salud)"
   ]
  },
  {
   "cell_type": "code",
   "execution_count": 35,
   "metadata": {},
   "outputs": [
    {
     "data": {
      "text/plain": [
       "Solo obra social                                             6789\n",
       "Solo sistema publico                                         3193\n",
       "Solo prepaga o mutual via OS                                 2064\n",
       "Solo plan de medicina prepaga por contratación voluntaria    1392\n",
       "Otros                                                         877\n",
       "nan                                                             4\n",
       "Name: afiliacion_salud, dtype: int64"
      ]
     },
     "execution_count": 35,
     "metadata": {},
     "output_type": "execute_result"
    }
   ],
   "source": [
    "# ver si unimos algo o lo dejamos asi \n",
    "\n",
    "encuesta.afiliacion_salud.value_counts()"
   ]
  },
  {
   "cell_type": "code",
   "execution_count": 36,
   "metadata": {},
   "outputs": [],
   "source": [
    "#Cambiamos estructura \n",
    "\n",
    "mask0 = (encuesta.afiliacion_salud != 'nan')\n",
    "encuesta.afiliacion_salud.where(mask0, 'Solo sistema publico', inplace=True)"
   ]
  },
  {
   "cell_type": "code",
   "execution_count": 37,
   "metadata": {},
   "outputs": [
    {
     "data": {
      "text/plain": [
       "array(['Otros', 'Solo obra social',\n",
       "       'Solo plan de medicina prepaga por contratación voluntaria',\n",
       "       'Solo prepaga o mutual via OS', 'Solo sistema publico'],\n",
       "      dtype=object)"
      ]
     },
     "execution_count": 37,
     "metadata": {},
     "output_type": "execute_result"
    }
   ],
   "source": [
    "encuesta['afiliacion_salud'] = encuesta['afiliacion_salud'].apply(str)\n",
    "np.unique(encuesta.afiliacion_salud)"
   ]
  },
  {
   "cell_type": "code",
   "execution_count": 38,
   "metadata": {},
   "outputs": [
    {
     "data": {
      "text/plain": [
       "array(['1', '10', '11', '12', '15', '2', '3', '4', '5', '6', '7', '8',\n",
       "       '9', 'No corresponde'], dtype=object)"
      ]
     },
     "execution_count": 38,
     "metadata": {},
     "output_type": "execute_result"
    }
   ],
   "source": [
    "np.unique(encuesta.cantidad_hijos_nac_vivos)"
   ]
  },
  {
   "cell_type": "code",
   "execution_count": 39,
   "metadata": {},
   "outputs": [
    {
     "data": {
      "text/plain": [
       "No corresponde    10286\n",
       "2                  1633\n",
       "1                  1168\n",
       "3                   765\n",
       "4                   269\n",
       "5                    94\n",
       "6                    48\n",
       "7                    31\n",
       "8                     8\n",
       "9                     6\n",
       "11                    5\n",
       "10                    3\n",
       "12                    2\n",
       "15                    1\n",
       "Name: cantidad_hijos_nac_vivos, dtype: int64"
      ]
     },
     "execution_count": 39,
     "metadata": {},
     "output_type": "execute_result"
    }
   ],
   "source": [
    "encuesta.cantidad_hijos_nac_vivos.value_counts()"
   ]
  },
  {
   "cell_type": "code",
   "execution_count": 40,
   "metadata": {},
   "outputs": [],
   "source": [
    "#Cambiamos estructura \n",
    "\n",
    "mask0 = (encuesta.cantidad_hijos_nac_vivos != 'No corresponde')\n",
    "encuesta.cantidad_hijos_nac_vivos.where(mask0, 0, inplace=True)"
   ]
  },
  {
   "cell_type": "code",
   "execution_count": 41,
   "metadata": {},
   "outputs": [
    {
     "data": {
      "text/plain": [
       "0     10286\n",
       "2      1633\n",
       "1      1168\n",
       "3       765\n",
       "4       269\n",
       "5        94\n",
       "6        48\n",
       "7        31\n",
       "8         8\n",
       "9         6\n",
       "11        5\n",
       "10        3\n",
       "12        2\n",
       "15        1\n",
       "Name: cantidad_hijos_nac_vivos, dtype: int64"
      ]
     },
     "execution_count": 41,
     "metadata": {},
     "output_type": "execute_result"
    }
   ],
   "source": [
    "encuesta.cantidad_hijos_nac_vivos.value_counts()"
   ]
  },
  {
   "cell_type": "markdown",
   "metadata": {},
   "source": [
    "# EMPEZAMOS EL EDA"
   ]
  },
  {
   "cell_type": "code",
   "execution_count": 42,
   "metadata": {},
   "outputs": [
    {
     "data": {
      "text/plain": [
       "(6824, 18)"
      ]
     },
     "execution_count": 42,
     "metadata": {},
     "output_type": "execute_result"
    }
   ],
   "source": [
    "#Seleccionamos solo a las personas entre 18 a 65 años con ingreso laboral mayor a 0\n",
    "\n",
    "enc_18a65 = encuesta.loc[(encuesta['edad']>=18)&(encuesta['edad']<=65)&(encuesta['ingreso_total_lab']>0)]\n",
    "np.shape(enc_18a65)"
   ]
  },
  {
   "cell_type": "code",
   "execution_count": 49,
   "metadata": {},
   "outputs": [
    {
     "data": {
      "text/plain": [
       "<matplotlib.legend.Legend at 0x18f28668df0>"
      ]
     },
     "execution_count": 49,
     "metadata": {},
     "output_type": "execute_result"
    },
    {
     "data": {
      "image/png": "[encoded data removed]",
      "text/plain": [
       "<Figure size 432x288 with 1 Axes>"
      ]
     },
     "metadata": {
      "needs_background": "light"
     },
     "output_type": "display_data"
    }
   ],
   "source": [
    "#Graficamos el ingreso total laborable en funcion del sexo, diferenciado segun el nivel actual academico de cada persona\n",
    "\n",
    "ax = sns.barplot(x='sexo', y='ingreso_total_lab', hue='nivel_actual', data=enc_18a65, palette=\"Set2\",estimator=np.mean)\n",
    "\n",
    "plt.xlabel(\"Sexo\", size=15)\n",
    "plt.ylabel(\"Ingreso total laborable\", size=15)\n",
    "plt.title(\"Ingreso total laborable promedio en funcion del sexo\", size=20, pad=30)\n",
    "\n",
    "plt.legend(bbox_to_anchor=(1.05, 1), loc=2, borderaxespad=0.)"
   ]
  },
  {
   "cell_type": "code",
   "execution_count": 50,
   "metadata": {},
   "outputs": [
    {
     "data": {
      "text/plain": [
       "Text(0.5, 1.0, 'Ingreso total laborable promedio en funcion del Jefe de familia')"
      ]
     },
     "execution_count": 50,
     "metadata": {},
     "output_type": "execute_result"
    },
    {
     "data": {
      "image/png": "[encoded data removed]",
      "text/plain": [
       "<Figure size 432x288 with 1 Axes>"
      ]
     },
     "metadata": {
      "needs_background": "light"
     },
     "output_type": "display_data"
    }
   ],
   "source": [
    "#Graficamos el ingreso total laborable en funcion de si la persona es o no Jefe de familia, diferenciado segun el nivel actual academico de cada persona\n",
    "\n",
    "ax = sns.barplot(x='parentesco_jefe', y='ingreso_total_lab', data=enc_18a65, palette=\"husl\", hue='sexo',estimator=np.mean)\n",
    "\n",
    "plt.xlabel(\"Relacion Jefe de familia\", size=15, labelpad=15)\n",
    "plt.ylabel(\"Ingreso total laborable\", size=15, labelpad=15)\n",
    "plt.title(\"Ingreso total laborable promedio en funcion del Jefe de familia\", size=20, pad=30)"
   ]
  },
  {
   "cell_type": "code",
   "execution_count": 51,
   "metadata": {},
   "outputs": [
    {
     "data": {
      "text/plain": [
       "Text(0.5, 1.1, 'Ingreso total laborable medio por edad')"
      ]
     },
     "execution_count": 51,
     "metadata": {},
     "output_type": "execute_result"
    },
    {
     "data": {
      "image/png": "[encoded data removed]",
      "text/plain": [
       "<Figure size 720x360 with 2 Axes>"
      ]
     },
     "metadata": {
      "needs_background": "light"
     },
     "output_type": "display_data"
    }
   ],
   "source": [
    "#Hacemos un grafico donde se estima la media del ingreso total segun la edad; a su vez lo dividimos por sexo\n",
    "\n",
    "ax = sns.lmplot(x='edad', y='ingreso_total_lab', data=enc_18a65,hue=\"sexo\",x_estimator=np.mean, col='sexo',palette=\"husl\")\n",
    "\n",
    "\n",
    "fig = ax.fig \n",
    "\n",
    "# Add a title to the Figure\n",
    "fig.suptitle(\"Ingreso total laborable medio por edad\", fontsize=15,y=1.1)"
   ]
  },
  {
   "cell_type": "code",
   "execution_count": 52,
   "metadata": {},
   "outputs": [
    {
     "data": {
      "text/plain": [
       "Text(0.5, 1.0, 'Encuestas realizadas por comuna')"
      ]
     },
     "execution_count": 52,
     "metadata": {},
     "output_type": "execute_result"
    },
    {
     "data": {
      "image/png": "[encoded data removed]",
      "text/plain": [
       "<Figure size 432x288 with 1 Axes>"
      ]
     },
     "metadata": {
      "needs_background": "light"
     },
     "output_type": "display_data"
    }
   ],
   "source": [
    "#Graficamos la cantidad de casas encuestadas por cada comuna\n",
    "\n",
    "sns.countplot(x='comuna', data=enc_18a65,palette=\"flare\")\n",
    "\n",
    "plt.xlabel(\"Comuna\", size=15, labelpad=15)\n",
    "plt.ylabel(\"Cantidad de encuestas\", size=15, labelpad=15)\n",
    "plt.title(\"Encuestas realizadas por comuna\", size=20, pad=30)"
   ]
  },
  {
   "cell_type": "code",
   "execution_count": 53,
   "metadata": {},
   "outputs": [
    {
     "data": {
      "text/plain": [
       "Text(0.5, 1.0, 'Promedio de ingresos total laborable por comuna')"
      ]
     },
     "execution_count": 53,
     "metadata": {},
     "output_type": "execute_result"
    },
    {
     "data": {
      "image/png": "[encoded data removed]",
      "text/plain": [
       "<Figure size 432x288 with 1 Axes>"
      ]
     },
     "metadata": {
      "needs_background": "light"
     },
     "output_type": "display_data"
    }
   ],
   "source": [
    "#Graficamos el promedio de ingreso cada comuna\n",
    "\n",
    "sns.barplot(x='comuna', data=enc_18a65,palette=\"flare\",y='ingreso_total_lab',estimator=np.mean)\n",
    "\n",
    "plt.xlabel(\"Comuna\", size=15, labelpad=15)\n",
    "plt.ylabel(\"Ingresos totales por comuna\", size=15, labelpad=15)\n",
    "plt.title(\"Promedio de ingresos total laborable por comuna\", size=20, pad=30)"
   ]
  },
  {
   "cell_type": "code",
   "execution_count": 54,
   "metadata": {},
   "outputs": [
    {
     "data": {
      "text/plain": [
       "Text(0.5, 1.0, 'Encuestas realizadas por estado civil de la persona')"
      ]
     },
     "execution_count": 54,
     "metadata": {},
     "output_type": "execute_result"
    },
    {
     "data": {
      "image/png": "[encoded data removed]",
      "text/plain": [
       "<Figure size 432x288 with 1 Axes>"
      ]
     },
     "metadata": {
      "needs_background": "light"
     },
     "output_type": "display_data"
    }
   ],
   "source": [
    "sns.countplot(data=enc_18a65, x='situacion_conyugal', palette=\"Set2\")\n",
    "\n",
    "plt.xlabel(\"Situacion conyugal\", size=15, labelpad=15)\n",
    "plt.ylabel(\"Cantidad de encuestas\", size=15, labelpad=15)\n",
    "plt.title(\"Encuestas realizadas por estado civil de la persona\", size=20, pad=30)"
   ]
  },
  {
   "cell_type": "code",
   "execution_count": 55,
   "metadata": {},
   "outputs": [
    {
     "data": {
      "text/plain": [
       "(0.0, 200000.0)"
      ]
     },
     "execution_count": 55,
     "metadata": {},
     "output_type": "execute_result"
    },
    {
     "data": {
      "image/png": "[encoded data removed]",
      "text/plain": [
       "<Figure size 504x576 with 1 Axes>"
      ]
     },
     "metadata": {
      "needs_background": "light"
     },
     "output_type": "display_data"
    }
   ],
   "source": [
    "fig, ax = plt.subplots(figsize=(7,8))\n",
    "\n",
    "sns.boxplot(x=\"situacion_conyugal\", y=\"ingreso_total_lab\", data=enc_18a65, hue='sexo',\n",
    "            whis=[0, 50], width=.6, palette=\"husl\")\n",
    "\n",
    "ax.set_ylim(0,200000)\n",
    "#sns.swarmplot(x=\"situacion_conyugal\", y=\"ingreso_total_lab\", data=enc_18a65, color=\".25\")\n"
   ]
  },
  {
   "cell_type": "code",
   "execution_count": 56,
   "metadata": {},
   "outputs": [],
   "source": [
    "# Vamos a utilizar Geopandas para realizar un grafico de las comunas de la ciudad y mostrar en cuales\n",
    "# el ingreso total laborable medio es mayor"
   ]
  },
  {
   "cell_type": "code",
   "execution_count": 57,
   "metadata": {},
   "outputs": [
    {
     "data": {
      "text/html": [
       "<div>\n",
       "<style scoped>\n",
       "    .dataframe tbody tr th:only-of-type {\n",
       "        vertical-align: middle;\n",
       "    }\n",
       "\n",
       "    .dataframe tbody tr th {\n",
       "        vertical-align: top;\n",
       "    }\n",
       "\n",
       "    .dataframe thead th {\n",
       "        text-align: right;\n",
       "    }\n",
       "</style>\n",
       "<table border=\"1\" class=\"dataframe\">\n",
       "  <thead>\n",
       "    <tr style=\"text-align: right;\">\n",
       "      <th></th>\n",
       "      <th>ingreso_total_lab</th>\n",
       "    </tr>\n",
       "    <tr>\n",
       "      <th>comuna</th>\n",
       "      <th></th>\n",
       "    </tr>\n",
       "  </thead>\n",
       "  <tbody>\n",
       "    <tr>\n",
       "      <th>1</th>\n",
       "      <td>34428.193606</td>\n",
       "    </tr>\n",
       "    <tr>\n",
       "      <th>2</th>\n",
       "      <td>56473.073171</td>\n",
       "    </tr>\n",
       "    <tr>\n",
       "      <th>3</th>\n",
       "      <td>32990.863326</td>\n",
       "    </tr>\n",
       "    <tr>\n",
       "      <th>4</th>\n",
       "      <td>28789.641379</td>\n",
       "    </tr>\n",
       "    <tr>\n",
       "      <th>5</th>\n",
       "      <td>40056.047619</td>\n",
       "    </tr>\n",
       "    <tr>\n",
       "      <th>6</th>\n",
       "      <td>47041.166240</td>\n",
       "    </tr>\n",
       "    <tr>\n",
       "      <th>7</th>\n",
       "      <td>31959.009804</td>\n",
       "    </tr>\n",
       "    <tr>\n",
       "      <th>8</th>\n",
       "      <td>23587.236527</td>\n",
       "    </tr>\n",
       "    <tr>\n",
       "      <th>9</th>\n",
       "      <td>29336.414634</td>\n",
       "    </tr>\n",
       "    <tr>\n",
       "      <th>10</th>\n",
       "      <td>35786.909836</td>\n",
       "    </tr>\n",
       "    <tr>\n",
       "      <th>11</th>\n",
       "      <td>41378.939828</td>\n",
       "    </tr>\n",
       "    <tr>\n",
       "      <th>12</th>\n",
       "      <td>49475.483544</td>\n",
       "    </tr>\n",
       "    <tr>\n",
       "      <th>13</th>\n",
       "      <td>56971.415493</td>\n",
       "    </tr>\n",
       "    <tr>\n",
       "      <th>14</th>\n",
       "      <td>55020.106987</td>\n",
       "    </tr>\n",
       "    <tr>\n",
       "      <th>15</th>\n",
       "      <td>38760.068337</td>\n",
       "    </tr>\n",
       "  </tbody>\n",
       "</table>\n",
       "</div>"
      ],
      "text/plain": [
       "        ingreso_total_lab\n",
       "comuna                   \n",
       "1            34428.193606\n",
       "2            56473.073171\n",
       "3            32990.863326\n",
       "4            28789.641379\n",
       "5            40056.047619\n",
       "6            47041.166240\n",
       "7            31959.009804\n",
       "8            23587.236527\n",
       "9            29336.414634\n",
       "10           35786.909836\n",
       "11           41378.939828\n",
       "12           49475.483544\n",
       "13           56971.415493\n",
       "14           55020.106987\n",
       "15           38760.068337"
      ]
     },
     "execution_count": 57,
     "metadata": {},
     "output_type": "execute_result"
    }
   ],
   "source": [
    "#Agrupamos el ingreso total laborable medio por comuna\n",
    "\n",
    "enc_ingxcom = pd.pivot_table(enc_18a65, index=['comuna'], values=['ingreso_total_lab'], aggfunc=np.mean)\n",
    "\n",
    "enc_ingxcom"
   ]
  },
  {
   "cell_type": "code",
   "execution_count": 58,
   "metadata": {},
   "outputs": [
    {
     "data": {
      "text/plain": [
       "ingreso_total_lab    56971.415493\n",
       "dtype: float64"
      ]
     },
     "execution_count": 58,
     "metadata": {},
     "output_type": "execute_result"
    }
   ],
   "source": [
    "enc_ingxcom.max()"
   ]
  },
  {
   "cell_type": "code",
   "execution_count": 59,
   "metadata": {},
   "outputs": [
    {
     "data": {
      "text/html": [
       "<div>\n",
       "<style scoped>\n",
       "    .dataframe tbody tr th:only-of-type {\n",
       "        vertical-align: middle;\n",
       "    }\n",
       "\n",
       "    .dataframe tbody tr th {\n",
       "        vertical-align: top;\n",
       "    }\n",
       "\n",
       "    .dataframe thead th {\n",
       "        text-align: right;\n",
       "    }\n",
       "</style>\n",
       "<table border=\"1\" class=\"dataframe\">\n",
       "  <thead>\n",
       "    <tr style=\"text-align: right;\">\n",
       "      <th></th>\n",
       "      <th>BARRIOS</th>\n",
       "      <th>PERIMETRO</th>\n",
       "      <th>AREA</th>\n",
       "      <th>COMUNAS</th>\n",
       "      <th>ID</th>\n",
       "      <th>OBJETO</th>\n",
       "      <th>geometry</th>\n",
       "    </tr>\n",
       "  </thead>\n",
       "  <tbody>\n",
       "    <tr>\n",
       "      <th>0</th>\n",
       "      <td>RECOLETA</td>\n",
       "      <td>21452.838648</td>\n",
       "      <td>6.317265e+06</td>\n",
       "      <td>2.0</td>\n",
       "      <td>1</td>\n",
       "      <td>LIMITE COMUNAL</td>\n",
       "      <td>MULTIPOLYGON (((-58.38000 -34.57002, -58.38002...</td>\n",
       "    </tr>\n",
       "    <tr>\n",
       "      <th>1</th>\n",
       "      <td>ALMAGRO - BOEDO</td>\n",
       "      <td>12323.432479</td>\n",
       "      <td>6.660603e+06</td>\n",
       "      <td>5.0</td>\n",
       "      <td>2</td>\n",
       "      <td>LIMITE COMUNAL</td>\n",
       "      <td>MULTIPOLYGON (((-58.41287 -34.61412, -58.41282...</td>\n",
       "    </tr>\n",
       "    <tr>\n",
       "      <th>2</th>\n",
       "      <td>CABALLITO</td>\n",
       "      <td>10990.964471</td>\n",
       "      <td>6.851029e+06</td>\n",
       "      <td>6.0</td>\n",
       "      <td>3</td>\n",
       "      <td>LIMITE COMUNAL</td>\n",
       "      <td>MULTIPOLYGON (((-58.43061 -34.60705, -58.43056...</td>\n",
       "    </tr>\n",
       "    <tr>\n",
       "      <th>3</th>\n",
       "      <td>FLORES - PARQUE CHACABUCO</td>\n",
       "      <td>17972.257870</td>\n",
       "      <td>1.242290e+07</td>\n",
       "      <td>7.0</td>\n",
       "      <td>4</td>\n",
       "      <td>LIMITE COMUNAL</td>\n",
       "      <td>MULTIPOLYGON (((-58.45200 -34.62975, -58.45158...</td>\n",
       "    </tr>\n",
       "    <tr>\n",
       "      <th>4</th>\n",
       "      <td>LINIERS - MATADEROS - PARQUE AVELLANEDA</td>\n",
       "      <td>21411.738344</td>\n",
       "      <td>1.650531e+07</td>\n",
       "      <td>9.0</td>\n",
       "      <td>5</td>\n",
       "      <td>LIMITE COMUNAL</td>\n",
       "      <td>MULTIPOLYGON (((-58.51925 -34.63301, -58.51908...</td>\n",
       "    </tr>\n",
       "    <tr>\n",
       "      <th>5</th>\n",
       "      <td>FLORESTA - MONTE CASTRO - VELEZ SARSFIELD - VE...</td>\n",
       "      <td>18332.037457</td>\n",
       "      <td>1.265656e+07</td>\n",
       "      <td>10.0</td>\n",
       "      <td>6</td>\n",
       "      <td>LIMITE COMUNAL</td>\n",
       "      <td>MULTIPOLYGON (((-58.48834 -34.62016, -58.48820...</td>\n",
       "    </tr>\n",
       "    <tr>\n",
       "      <th>6</th>\n",
       "      <td>VILLA DEL PARQUE - VILLA  DEVOTO - VILLA GRAL....</td>\n",
       "      <td>19987.696155</td>\n",
       "      <td>1.412004e+07</td>\n",
       "      <td>11.0</td>\n",
       "      <td>7</td>\n",
       "      <td>LIMITE COMUNAL</td>\n",
       "      <td>MULTIPOLYGON (((-58.49838 -34.59637, -58.49718...</td>\n",
       "    </tr>\n",
       "    <tr>\n",
       "      <th>7</th>\n",
       "      <td>COGHLAN - SAAVEDRA - VILLA PUEYRREDON - VILLA ...</td>\n",
       "      <td>17232.189372</td>\n",
       "      <td>1.557093e+07</td>\n",
       "      <td>12.0</td>\n",
       "      <td>8</td>\n",
       "      <td>LIMITE COMUNAL</td>\n",
       "      <td>MULTIPOLYGON (((-58.50331 -34.59386, -58.50347...</td>\n",
       "    </tr>\n",
       "    <tr>\n",
       "      <th>8</th>\n",
       "      <td>PALERMO</td>\n",
       "      <td>22126.531858</td>\n",
       "      <td>1.584587e+07</td>\n",
       "      <td>14.0</td>\n",
       "      <td>9</td>\n",
       "      <td>LIMITE COMUNAL</td>\n",
       "      <td>MULTIPOLYGON (((-58.42676 -34.55202, -58.42676...</td>\n",
       "    </tr>\n",
       "    <tr>\n",
       "      <th>9</th>\n",
       "      <td>BALVANERA - SAN CRISTOBAL</td>\n",
       "      <td>10486.260809</td>\n",
       "      <td>6.385991e+06</td>\n",
       "      <td>3.0</td>\n",
       "      <td>10</td>\n",
       "      <td>LIMITE COMUNAL</td>\n",
       "      <td>MULTIPOLYGON (((-58.41192 -34.59800, -58.41029...</td>\n",
       "    </tr>\n",
       "    <tr>\n",
       "      <th>10</th>\n",
       "      <td>AGRONOMIA - CHACARITA -  PARQUE CHAS -  PATERN...</td>\n",
       "      <td>17832.585580</td>\n",
       "      <td>1.432290e+07</td>\n",
       "      <td>15.0</td>\n",
       "      <td>11</td>\n",
       "      <td>LIMITE COMUNAL</td>\n",
       "      <td>MULTIPOLYGON (((-58.42602 -34.59661, -58.42484...</td>\n",
       "    </tr>\n",
       "    <tr>\n",
       "      <th>11</th>\n",
       "      <td>VILLA LUGANO - VILLA RIACHUELO - VILLA SOLDATI</td>\n",
       "      <td>20935.012513</td>\n",
       "      <td>2.221690e+07</td>\n",
       "      <td>8.0</td>\n",
       "      <td>12</td>\n",
       "      <td>LIMITE COMUNAL</td>\n",
       "      <td>MULTIPOLYGON (((-58.44913 -34.65117, -58.44883...</td>\n",
       "    </tr>\n",
       "    <tr>\n",
       "      <th>12</th>\n",
       "      <td>BARRACAS - BOCA - NUEVA POMPEYA - PARQUE PATRI...</td>\n",
       "      <td>35423.282799</td>\n",
       "      <td>2.168464e+07</td>\n",
       "      <td>4.0</td>\n",
       "      <td>13</td>\n",
       "      <td>LIMITE COMUNAL</td>\n",
       "      <td>MULTIPOLYGON (((-58.39908 -34.66092, -58.39919...</td>\n",
       "    </tr>\n",
       "    <tr>\n",
       "      <th>13</th>\n",
       "      <td>CONSTITUCION - MONSERRAT - PUERTO MADERO -  RE...</td>\n",
       "      <td>36102.201573</td>\n",
       "      <td>1.779457e+07</td>\n",
       "      <td>1.0</td>\n",
       "      <td>14</td>\n",
       "      <td>LIMITE COMUNAL</td>\n",
       "      <td>MULTIPOLYGON (((-58.36854 -34.57365, -58.36852...</td>\n",
       "    </tr>\n",
       "    <tr>\n",
       "      <th>14</th>\n",
       "      <td>BELGRANO - COLEGIALES - NUÑEZ</td>\n",
       "      <td>26198.826953</td>\n",
       "      <td>1.471321e+07</td>\n",
       "      <td>13.0</td>\n",
       "      <td>15</td>\n",
       "      <td>LIMITE COMUNAL</td>\n",
       "      <td>MULTIPOLYGON (((-58.44033 -34.54022, -58.44032...</td>\n",
       "    </tr>\n",
       "  </tbody>\n",
       "</table>\n",
       "</div>"
      ],
      "text/plain": [
       "                                              BARRIOS     PERIMETRO  \\\n",
       "0                                            RECOLETA  21452.838648   \n",
       "1                                     ALMAGRO - BOEDO  12323.432479   \n",
       "2                                           CABALLITO  10990.964471   \n",
       "3                           FLORES - PARQUE CHACABUCO  17972.257870   \n",
       "4             LINIERS - MATADEROS - PARQUE AVELLANEDA  21411.738344   \n",
       "5   FLORESTA - MONTE CASTRO - VELEZ SARSFIELD - VE...  18332.037457   \n",
       "6   VILLA DEL PARQUE - VILLA  DEVOTO - VILLA GRAL....  19987.696155   \n",
       "7   COGHLAN - SAAVEDRA - VILLA PUEYRREDON - VILLA ...  17232.189372   \n",
       "8                                             PALERMO  22126.531858   \n",
       "9                           BALVANERA - SAN CRISTOBAL  10486.260809   \n",
       "10  AGRONOMIA - CHACARITA -  PARQUE CHAS -  PATERN...  17832.585580   \n",
       "11     VILLA LUGANO - VILLA RIACHUELO - VILLA SOLDATI  20935.012513   \n",
       "12  BARRACAS - BOCA - NUEVA POMPEYA - PARQUE PATRI...  35423.282799   \n",
       "13  CONSTITUCION - MONSERRAT - PUERTO MADERO -  RE...  36102.201573   \n",
       "14                      BELGRANO - COLEGIALES - NUÑEZ  26198.826953   \n",
       "\n",
       "            AREA  COMUNAS  ID          OBJETO  \\\n",
       "0   6.317265e+06      2.0   1  LIMITE COMUNAL   \n",
       "1   6.660603e+06      5.0   2  LIMITE COMUNAL   \n",
       "2   6.851029e+06      6.0   3  LIMITE COMUNAL   \n",
       "3   1.242290e+07      7.0   4  LIMITE COMUNAL   \n",
       "4   1.650531e+07      9.0   5  LIMITE COMUNAL   \n",
       "5   1.265656e+07     10.0   6  LIMITE COMUNAL   \n",
       "6   1.412004e+07     11.0   7  LIMITE COMUNAL   \n",
       "7   1.557093e+07     12.0   8  LIMITE COMUNAL   \n",
       "8   1.584587e+07     14.0   9  LIMITE COMUNAL   \n",
       "9   6.385991e+06      3.0  10  LIMITE COMUNAL   \n",
       "10  1.432290e+07     15.0  11  LIMITE COMUNAL   \n",
       "11  2.221690e+07      8.0  12  LIMITE COMUNAL   \n",
       "12  2.168464e+07      4.0  13  LIMITE COMUNAL   \n",
       "13  1.779457e+07      1.0  14  LIMITE COMUNAL   \n",
       "14  1.471321e+07     13.0  15  LIMITE COMUNAL   \n",
       "\n",
       "                                             geometry  \n",
       "0   MULTIPOLYGON (((-58.38000 -34.57002, -58.38002...  \n",
       "1   MULTIPOLYGON (((-58.41287 -34.61412, -58.41282...  \n",
       "2   MULTIPOLYGON (((-58.43061 -34.60705, -58.43056...  \n",
       "3   MULTIPOLYGON (((-58.45200 -34.62975, -58.45158...  \n",
       "4   MULTIPOLYGON (((-58.51925 -34.63301, -58.51908...  \n",
       "5   MULTIPOLYGON (((-58.48834 -34.62016, -58.48820...  \n",
       "6   MULTIPOLYGON (((-58.49838 -34.59637, -58.49718...  \n",
       "7   MULTIPOLYGON (((-58.50331 -34.59386, -58.50347...  \n",
       "8   MULTIPOLYGON (((-58.42676 -34.55202, -58.42676...  \n",
       "9   MULTIPOLYGON (((-58.41192 -34.59800, -58.41029...  \n",
       "10  MULTIPOLYGON (((-58.42602 -34.59661, -58.42484...  \n",
       "11  MULTIPOLYGON (((-58.44913 -34.65117, -58.44883...  \n",
       "12  MULTIPOLYGON (((-58.39908 -34.66092, -58.39919...  \n",
       "13  MULTIPOLYGON (((-58.36854 -34.57365, -58.36852...  \n",
       "14  MULTIPOLYGON (((-58.44033 -34.54022, -58.44032...  "
      ]
     },
     "execution_count": 59,
     "metadata": {},
     "output_type": "execute_result"
    }
   ],
   "source": [
    "# Podemos copiar directamente el URL del JSON que tiene todas las comunas\n",
    "url = \"http://cdn.buenosaires.gob.ar/datosabiertos/datasets/comunas/CABA_comunas.geojson\"\n",
    "\n",
    "# Lo leo usando Geopandas\n",
    "comunas = gpd.read_file(url)\n",
    "comunas"
   ]
  },
  {
   "cell_type": "code",
   "execution_count": 60,
   "metadata": {},
   "outputs": [
    {
     "data": {
      "text/html": [
       "<div>\n",
       "<style scoped>\n",
       "    .dataframe tbody tr th:only-of-type {\n",
       "        vertical-align: middle;\n",
       "    }\n",
       "\n",
       "    .dataframe tbody tr th {\n",
       "        vertical-align: top;\n",
       "    }\n",
       "\n",
       "    .dataframe thead th {\n",
       "        text-align: right;\n",
       "    }\n",
       "</style>\n",
       "<table border=\"1\" class=\"dataframe\">\n",
       "  <thead>\n",
       "    <tr style=\"text-align: right;\">\n",
       "      <th></th>\n",
       "      <th>BARRIOS</th>\n",
       "      <th>PERIMETRO</th>\n",
       "      <th>AREA</th>\n",
       "      <th>COMUNAS</th>\n",
       "      <th>ID</th>\n",
       "      <th>OBJETO</th>\n",
       "      <th>geometry</th>\n",
       "      <th>ingreso_total_lab</th>\n",
       "    </tr>\n",
       "  </thead>\n",
       "  <tbody>\n",
       "    <tr>\n",
       "      <th>0</th>\n",
       "      <td>RECOLETA</td>\n",
       "      <td>21452.838648</td>\n",
       "      <td>6.317265e+06</td>\n",
       "      <td>2.0</td>\n",
       "      <td>1</td>\n",
       "      <td>LIMITE COMUNAL</td>\n",
       "      <td>MULTIPOLYGON (((-58.38000 -34.57002, -58.38002...</td>\n",
       "      <td>56473.073171</td>\n",
       "    </tr>\n",
       "    <tr>\n",
       "      <th>1</th>\n",
       "      <td>ALMAGRO - BOEDO</td>\n",
       "      <td>12323.432479</td>\n",
       "      <td>6.660603e+06</td>\n",
       "      <td>5.0</td>\n",
       "      <td>2</td>\n",
       "      <td>LIMITE COMUNAL</td>\n",
       "      <td>MULTIPOLYGON (((-58.41287 -34.61412, -58.41282...</td>\n",
       "      <td>40056.047619</td>\n",
       "    </tr>\n",
       "    <tr>\n",
       "      <th>2</th>\n",
       "      <td>CABALLITO</td>\n",
       "      <td>10990.964471</td>\n",
       "      <td>6.851029e+06</td>\n",
       "      <td>6.0</td>\n",
       "      <td>3</td>\n",
       "      <td>LIMITE COMUNAL</td>\n",
       "      <td>MULTIPOLYGON (((-58.43061 -34.60705, -58.43056...</td>\n",
       "      <td>47041.166240</td>\n",
       "    </tr>\n",
       "    <tr>\n",
       "      <th>3</th>\n",
       "      <td>FLORES - PARQUE CHACABUCO</td>\n",
       "      <td>17972.257870</td>\n",
       "      <td>1.242290e+07</td>\n",
       "      <td>7.0</td>\n",
       "      <td>4</td>\n",
       "      <td>LIMITE COMUNAL</td>\n",
       "      <td>MULTIPOLYGON (((-58.45200 -34.62975, -58.45158...</td>\n",
       "      <td>31959.009804</td>\n",
       "    </tr>\n",
       "    <tr>\n",
       "      <th>4</th>\n",
       "      <td>LINIERS - MATADEROS - PARQUE AVELLANEDA</td>\n",
       "      <td>21411.738344</td>\n",
       "      <td>1.650531e+07</td>\n",
       "      <td>9.0</td>\n",
       "      <td>5</td>\n",
       "      <td>LIMITE COMUNAL</td>\n",
       "      <td>MULTIPOLYGON (((-58.51925 -34.63301, -58.51908...</td>\n",
       "      <td>29336.414634</td>\n",
       "    </tr>\n",
       "    <tr>\n",
       "      <th>5</th>\n",
       "      <td>FLORESTA - MONTE CASTRO - VELEZ SARSFIELD - VE...</td>\n",
       "      <td>18332.037457</td>\n",
       "      <td>1.265656e+07</td>\n",
       "      <td>10.0</td>\n",
       "      <td>6</td>\n",
       "      <td>LIMITE COMUNAL</td>\n",
       "      <td>MULTIPOLYGON (((-58.48834 -34.62016, -58.48820...</td>\n",
       "      <td>35786.909836</td>\n",
       "    </tr>\n",
       "    <tr>\n",
       "      <th>6</th>\n",
       "      <td>VILLA DEL PARQUE - VILLA  DEVOTO - VILLA GRAL....</td>\n",
       "      <td>19987.696155</td>\n",
       "      <td>1.412004e+07</td>\n",
       "      <td>11.0</td>\n",
       "      <td>7</td>\n",
       "      <td>LIMITE COMUNAL</td>\n",
       "      <td>MULTIPOLYGON (((-58.49838 -34.59637, -58.49718...</td>\n",
       "      <td>41378.939828</td>\n",
       "    </tr>\n",
       "    <tr>\n",
       "      <th>7</th>\n",
       "      <td>COGHLAN - SAAVEDRA - VILLA PUEYRREDON - VILLA ...</td>\n",
       "      <td>17232.189372</td>\n",
       "      <td>1.557093e+07</td>\n",
       "      <td>12.0</td>\n",
       "      <td>8</td>\n",
       "      <td>LIMITE COMUNAL</td>\n",
       "      <td>MULTIPOLYGON (((-58.50331 -34.59386, -58.50347...</td>\n",
       "      <td>49475.483544</td>\n",
       "    </tr>\n",
       "    <tr>\n",
       "      <th>8</th>\n",
       "      <td>PALERMO</td>\n",
       "      <td>22126.531858</td>\n",
       "      <td>1.584587e+07</td>\n",
       "      <td>14.0</td>\n",
       "      <td>9</td>\n",
       "      <td>LIMITE COMUNAL</td>\n",
       "      <td>MULTIPOLYGON (((-58.42676 -34.55202, -58.42676...</td>\n",
       "      <td>55020.106987</td>\n",
       "    </tr>\n",
       "    <tr>\n",
       "      <th>9</th>\n",
       "      <td>BALVANERA - SAN CRISTOBAL</td>\n",
       "      <td>10486.260809</td>\n",
       "      <td>6.385991e+06</td>\n",
       "      <td>3.0</td>\n",
       "      <td>10</td>\n",
       "      <td>LIMITE COMUNAL</td>\n",
       "      <td>MULTIPOLYGON (((-58.41192 -34.59800, -58.41029...</td>\n",
       "      <td>32990.863326</td>\n",
       "    </tr>\n",
       "    <tr>\n",
       "      <th>10</th>\n",
       "      <td>AGRONOMIA - CHACARITA -  PARQUE CHAS -  PATERN...</td>\n",
       "      <td>17832.585580</td>\n",
       "      <td>1.432290e+07</td>\n",
       "      <td>15.0</td>\n",
       "      <td>11</td>\n",
       "      <td>LIMITE COMUNAL</td>\n",
       "      <td>MULTIPOLYGON (((-58.42602 -34.59661, -58.42484...</td>\n",
       "      <td>38760.068337</td>\n",
       "    </tr>\n",
       "    <tr>\n",
       "      <th>11</th>\n",
       "      <td>VILLA LUGANO - VILLA RIACHUELO - VILLA SOLDATI</td>\n",
       "      <td>20935.012513</td>\n",
       "      <td>2.221690e+07</td>\n",
       "      <td>8.0</td>\n",
       "      <td>12</td>\n",
       "      <td>LIMITE COMUNAL</td>\n",
       "      <td>MULTIPOLYGON (((-58.44913 -34.65117, -58.44883...</td>\n",
       "      <td>23587.236527</td>\n",
       "    </tr>\n",
       "    <tr>\n",
       "      <th>12</th>\n",
       "      <td>BARRACAS - BOCA - NUEVA POMPEYA - PARQUE PATRI...</td>\n",
       "      <td>35423.282799</td>\n",
       "      <td>2.168464e+07</td>\n",
       "      <td>4.0</td>\n",
       "      <td>13</td>\n",
       "      <td>LIMITE COMUNAL</td>\n",
       "      <td>MULTIPOLYGON (((-58.39908 -34.66092, -58.39919...</td>\n",
       "      <td>28789.641379</td>\n",
       "    </tr>\n",
       "    <tr>\n",
       "      <th>13</th>\n",
       "      <td>CONSTITUCION - MONSERRAT - PUERTO MADERO -  RE...</td>\n",
       "      <td>36102.201573</td>\n",
       "      <td>1.779457e+07</td>\n",
       "      <td>1.0</td>\n",
       "      <td>14</td>\n",
       "      <td>LIMITE COMUNAL</td>\n",
       "      <td>MULTIPOLYGON (((-58.36854 -34.57365, -58.36852...</td>\n",
       "      <td>34428.193606</td>\n",
       "    </tr>\n",
       "    <tr>\n",
       "      <th>14</th>\n",
       "      <td>BELGRANO - COLEGIALES - NUÑEZ</td>\n",
       "      <td>26198.826953</td>\n",
       "      <td>1.471321e+07</td>\n",
       "      <td>13.0</td>\n",
       "      <td>15</td>\n",
       "      <td>LIMITE COMUNAL</td>\n",
       "      <td>MULTIPOLYGON (((-58.44033 -34.54022, -58.44032...</td>\n",
       "      <td>56971.415493</td>\n",
       "    </tr>\n",
       "  </tbody>\n",
       "</table>\n",
       "</div>"
      ],
      "text/plain": [
       "                                              BARRIOS     PERIMETRO  \\\n",
       "0                                            RECOLETA  21452.838648   \n",
       "1                                     ALMAGRO - BOEDO  12323.432479   \n",
       "2                                           CABALLITO  10990.964471   \n",
       "3                           FLORES - PARQUE CHACABUCO  17972.257870   \n",
       "4             LINIERS - MATADEROS - PARQUE AVELLANEDA  21411.738344   \n",
       "5   FLORESTA - MONTE CASTRO - VELEZ SARSFIELD - VE...  18332.037457   \n",
       "6   VILLA DEL PARQUE - VILLA  DEVOTO - VILLA GRAL....  19987.696155   \n",
       "7   COGHLAN - SAAVEDRA - VILLA PUEYRREDON - VILLA ...  17232.189372   \n",
       "8                                             PALERMO  22126.531858   \n",
       "9                           BALVANERA - SAN CRISTOBAL  10486.260809   \n",
       "10  AGRONOMIA - CHACARITA -  PARQUE CHAS -  PATERN...  17832.585580   \n",
       "11     VILLA LUGANO - VILLA RIACHUELO - VILLA SOLDATI  20935.012513   \n",
       "12  BARRACAS - BOCA - NUEVA POMPEYA - PARQUE PATRI...  35423.282799   \n",
       "13  CONSTITUCION - MONSERRAT - PUERTO MADERO -  RE...  36102.201573   \n",
       "14                      BELGRANO - COLEGIALES - NUÑEZ  26198.826953   \n",
       "\n",
       "            AREA  COMUNAS  ID          OBJETO  \\\n",
       "0   6.317265e+06      2.0   1  LIMITE COMUNAL   \n",
       "1   6.660603e+06      5.0   2  LIMITE COMUNAL   \n",
       "2   6.851029e+06      6.0   3  LIMITE COMUNAL   \n",
       "3   1.242290e+07      7.0   4  LIMITE COMUNAL   \n",
       "4   1.650531e+07      9.0   5  LIMITE COMUNAL   \n",
       "5   1.265656e+07     10.0   6  LIMITE COMUNAL   \n",
       "6   1.412004e+07     11.0   7  LIMITE COMUNAL   \n",
       "7   1.557093e+07     12.0   8  LIMITE COMUNAL   \n",
       "8   1.584587e+07     14.0   9  LIMITE COMUNAL   \n",
       "9   6.385991e+06      3.0  10  LIMITE COMUNAL   \n",
       "10  1.432290e+07     15.0  11  LIMITE COMUNAL   \n",
       "11  2.221690e+07      8.0  12  LIMITE COMUNAL   \n",
       "12  2.168464e+07      4.0  13  LIMITE COMUNAL   \n",
       "13  1.779457e+07      1.0  14  LIMITE COMUNAL   \n",
       "14  1.471321e+07     13.0  15  LIMITE COMUNAL   \n",
       "\n",
       "                                             geometry  ingreso_total_lab  \n",
       "0   MULTIPOLYGON (((-58.38000 -34.57002, -58.38002...       56473.073171  \n",
       "1   MULTIPOLYGON (((-58.41287 -34.61412, -58.41282...       40056.047619  \n",
       "2   MULTIPOLYGON (((-58.43061 -34.60705, -58.43056...       47041.166240  \n",
       "3   MULTIPOLYGON (((-58.45200 -34.62975, -58.45158...       31959.009804  \n",
       "4   MULTIPOLYGON (((-58.51925 -34.63301, -58.51908...       29336.414634  \n",
       "5   MULTIPOLYGON (((-58.48834 -34.62016, -58.48820...       35786.909836  \n",
       "6   MULTIPOLYGON (((-58.49838 -34.59637, -58.49718...       41378.939828  \n",
       "7   MULTIPOLYGON (((-58.50331 -34.59386, -58.50347...       49475.483544  \n",
       "8   MULTIPOLYGON (((-58.42676 -34.55202, -58.42676...       55020.106987  \n",
       "9   MULTIPOLYGON (((-58.41192 -34.59800, -58.41029...       32990.863326  \n",
       "10  MULTIPOLYGON (((-58.42602 -34.59661, -58.42484...       38760.068337  \n",
       "11  MULTIPOLYGON (((-58.44913 -34.65117, -58.44883...       23587.236527  \n",
       "12  MULTIPOLYGON (((-58.39908 -34.66092, -58.39919...       28789.641379  \n",
       "13  MULTIPOLYGON (((-58.36854 -34.57365, -58.36852...       34428.193606  \n",
       "14  MULTIPOLYGON (((-58.44033 -34.54022, -58.44032...       56971.415493  "
      ]
     },
     "execution_count": 60,
     "metadata": {},
     "output_type": "execute_result"
    }
   ],
   "source": [
    "comuna_ingreso = comunas.merge(enc_ingxcom, left_on='COMUNAS', right_on=enc_ingxcom.index)\n",
    "comuna_ingreso"
   ]
  },
  {
   "cell_type": "code",
   "execution_count": 61,
   "metadata": {},
   "outputs": [
    {
     "data": {
      "text/html": [
       "<div>\n",
       "<style scoped>\n",
       "    .dataframe tbody tr th:only-of-type {\n",
       "        vertical-align: middle;\n",
       "    }\n",
       "\n",
       "    .dataframe tbody tr th {\n",
       "        vertical-align: top;\n",
       "    }\n",
       "\n",
       "    .dataframe thead th {\n",
       "        text-align: right;\n",
       "    }\n",
       "</style>\n",
       "<table border=\"1\" class=\"dataframe\">\n",
       "  <thead>\n",
       "    <tr style=\"text-align: right;\">\n",
       "      <th></th>\n",
       "      <th>BARRIOS_1</th>\n",
       "      <th>PERIMETRO_1</th>\n",
       "      <th>AREA_1</th>\n",
       "      <th>COMUNAS_1</th>\n",
       "      <th>ID_1</th>\n",
       "      <th>OBJETO_1</th>\n",
       "      <th>ingreso_total_lab</th>\n",
       "      <th>BARRIOS_2</th>\n",
       "      <th>PERIMETRO_2</th>\n",
       "      <th>AREA_2</th>\n",
       "      <th>COMUNAS_2</th>\n",
       "      <th>ID_2</th>\n",
       "      <th>OBJETO_2</th>\n",
       "      <th>geometry</th>\n",
       "    </tr>\n",
       "  </thead>\n",
       "  <tbody>\n",
       "    <tr>\n",
       "      <th>0</th>\n",
       "      <td>RECOLETA</td>\n",
       "      <td>21452.838648</td>\n",
       "      <td>6.317265e+06</td>\n",
       "      <td>2.0</td>\n",
       "      <td>1</td>\n",
       "      <td>LIMITE COMUNAL</td>\n",
       "      <td>56473.073171</td>\n",
       "      <td>RECOLETA</td>\n",
       "      <td>21452.838648</td>\n",
       "      <td>6.317265e+06</td>\n",
       "      <td>2.0</td>\n",
       "      <td>1</td>\n",
       "      <td>LIMITE COMUNAL</td>\n",
       "      <td>POLYGON ((-58.38000 -34.57002, -58.38002 -34.5...</td>\n",
       "    </tr>\n",
       "    <tr>\n",
       "      <th>1</th>\n",
       "      <td>ALMAGRO - BOEDO</td>\n",
       "      <td>12323.432479</td>\n",
       "      <td>6.660603e+06</td>\n",
       "      <td>5.0</td>\n",
       "      <td>2</td>\n",
       "      <td>LIMITE COMUNAL</td>\n",
       "      <td>40056.047619</td>\n",
       "      <td>ALMAGRO - BOEDO</td>\n",
       "      <td>12323.432479</td>\n",
       "      <td>6.660603e+06</td>\n",
       "      <td>5.0</td>\n",
       "      <td>2</td>\n",
       "      <td>LIMITE COMUNAL</td>\n",
       "      <td>POLYGON ((-58.41287 -34.61412, -58.41282 -34.6...</td>\n",
       "    </tr>\n",
       "    <tr>\n",
       "      <th>2</th>\n",
       "      <td>PALERMO</td>\n",
       "      <td>22126.531858</td>\n",
       "      <td>1.584587e+07</td>\n",
       "      <td>14.0</td>\n",
       "      <td>9</td>\n",
       "      <td>LIMITE COMUNAL</td>\n",
       "      <td>55020.106987</td>\n",
       "      <td>PALERMO</td>\n",
       "      <td>22126.531858</td>\n",
       "      <td>1.584587e+07</td>\n",
       "      <td>14.0</td>\n",
       "      <td>9</td>\n",
       "      <td>LIMITE COMUNAL</td>\n",
       "      <td>POLYGON ((-58.42676 -34.55202, -58.42676 -34.5...</td>\n",
       "    </tr>\n",
       "    <tr>\n",
       "      <th>3</th>\n",
       "      <td>BALVANERA - SAN CRISTOBAL</td>\n",
       "      <td>10486.260809</td>\n",
       "      <td>6.385991e+06</td>\n",
       "      <td>3.0</td>\n",
       "      <td>10</td>\n",
       "      <td>LIMITE COMUNAL</td>\n",
       "      <td>32990.863326</td>\n",
       "      <td>BALVANERA - SAN CRISTOBAL</td>\n",
       "      <td>10486.260809</td>\n",
       "      <td>6.385991e+06</td>\n",
       "      <td>3.0</td>\n",
       "      <td>10</td>\n",
       "      <td>LIMITE COMUNAL</td>\n",
       "      <td>POLYGON ((-58.41192 -34.59800, -58.41029 -34.5...</td>\n",
       "    </tr>\n",
       "    <tr>\n",
       "      <th>4</th>\n",
       "      <td>CONSTITUCION - MONSERRAT - PUERTO MADERO -  RE...</td>\n",
       "      <td>36102.201573</td>\n",
       "      <td>1.779457e+07</td>\n",
       "      <td>1.0</td>\n",
       "      <td>14</td>\n",
       "      <td>LIMITE COMUNAL</td>\n",
       "      <td>34428.193606</td>\n",
       "      <td>CONSTITUCION - MONSERRAT - PUERTO MADERO -  RE...</td>\n",
       "      <td>36102.201573</td>\n",
       "      <td>1.779457e+07</td>\n",
       "      <td>1.0</td>\n",
       "      <td>14</td>\n",
       "      <td>LIMITE COMUNAL</td>\n",
       "      <td>MULTIPOLYGON (((-58.37427 -34.57870, -58.37427...</td>\n",
       "    </tr>\n",
       "    <tr>\n",
       "      <th>5</th>\n",
       "      <td>CABALLITO</td>\n",
       "      <td>10990.964471</td>\n",
       "      <td>6.851029e+06</td>\n",
       "      <td>6.0</td>\n",
       "      <td>3</td>\n",
       "      <td>LIMITE COMUNAL</td>\n",
       "      <td>47041.166240</td>\n",
       "      <td>CABALLITO</td>\n",
       "      <td>10990.964471</td>\n",
       "      <td>6.851029e+06</td>\n",
       "      <td>6.0</td>\n",
       "      <td>3</td>\n",
       "      <td>LIMITE COMUNAL</td>\n",
       "      <td>POLYGON ((-58.43061 -34.60705, -58.43056 -34.6...</td>\n",
       "    </tr>\n",
       "    <tr>\n",
       "      <th>6</th>\n",
       "      <td>FLORES - PARQUE CHACABUCO</td>\n",
       "      <td>17972.257870</td>\n",
       "      <td>1.242290e+07</td>\n",
       "      <td>7.0</td>\n",
       "      <td>4</td>\n",
       "      <td>LIMITE COMUNAL</td>\n",
       "      <td>31959.009804</td>\n",
       "      <td>FLORES - PARQUE CHACABUCO</td>\n",
       "      <td>17972.257870</td>\n",
       "      <td>1.242290e+07</td>\n",
       "      <td>7.0</td>\n",
       "      <td>4</td>\n",
       "      <td>LIMITE COMUNAL</td>\n",
       "      <td>POLYGON ((-58.45200 -34.62975, -58.45158 -34.6...</td>\n",
       "    </tr>\n",
       "    <tr>\n",
       "      <th>7</th>\n",
       "      <td>AGRONOMIA - CHACARITA -  PARQUE CHAS -  PATERN...</td>\n",
       "      <td>17832.585580</td>\n",
       "      <td>1.432290e+07</td>\n",
       "      <td>15.0</td>\n",
       "      <td>11</td>\n",
       "      <td>LIMITE COMUNAL</td>\n",
       "      <td>38760.068337</td>\n",
       "      <td>AGRONOMIA - CHACARITA -  PARQUE CHAS -  PATERN...</td>\n",
       "      <td>17832.585580</td>\n",
       "      <td>1.432290e+07</td>\n",
       "      <td>15.0</td>\n",
       "      <td>11</td>\n",
       "      <td>LIMITE COMUNAL</td>\n",
       "      <td>POLYGON ((-58.42602 -34.59661, -58.42484 -34.5...</td>\n",
       "    </tr>\n",
       "    <tr>\n",
       "      <th>8</th>\n",
       "      <td>BARRACAS - BOCA - NUEVA POMPEYA - PARQUE PATRI...</td>\n",
       "      <td>35423.282799</td>\n",
       "      <td>2.168464e+07</td>\n",
       "      <td>4.0</td>\n",
       "      <td>13</td>\n",
       "      <td>LIMITE COMUNAL</td>\n",
       "      <td>28789.641379</td>\n",
       "      <td>BARRACAS - BOCA - NUEVA POMPEYA - PARQUE PATRI...</td>\n",
       "      <td>35423.282799</td>\n",
       "      <td>2.168464e+07</td>\n",
       "      <td>4.0</td>\n",
       "      <td>13</td>\n",
       "      <td>LIMITE COMUNAL</td>\n",
       "      <td>POLYGON ((-58.39908 -34.66092, -58.39919 -34.6...</td>\n",
       "    </tr>\n",
       "    <tr>\n",
       "      <th>9</th>\n",
       "      <td>VILLA DEL PARQUE - VILLA  DEVOTO - VILLA GRAL....</td>\n",
       "      <td>19987.696155</td>\n",
       "      <td>1.412004e+07</td>\n",
       "      <td>11.0</td>\n",
       "      <td>7</td>\n",
       "      <td>LIMITE COMUNAL</td>\n",
       "      <td>41378.939828</td>\n",
       "      <td>VILLA DEL PARQUE - VILLA  DEVOTO - VILLA GRAL....</td>\n",
       "      <td>19987.696155</td>\n",
       "      <td>1.412004e+07</td>\n",
       "      <td>11.0</td>\n",
       "      <td>7</td>\n",
       "      <td>LIMITE COMUNAL</td>\n",
       "      <td>POLYGON ((-58.49838 -34.59637, -58.49718 -34.5...</td>\n",
       "    </tr>\n",
       "    <tr>\n",
       "      <th>10</th>\n",
       "      <td>LINIERS - MATADEROS - PARQUE AVELLANEDA</td>\n",
       "      <td>21411.738344</td>\n",
       "      <td>1.650531e+07</td>\n",
       "      <td>9.0</td>\n",
       "      <td>5</td>\n",
       "      <td>LIMITE COMUNAL</td>\n",
       "      <td>29336.414634</td>\n",
       "      <td>LINIERS - MATADEROS - PARQUE AVELLANEDA</td>\n",
       "      <td>21411.738344</td>\n",
       "      <td>1.650531e+07</td>\n",
       "      <td>9.0</td>\n",
       "      <td>5</td>\n",
       "      <td>LIMITE COMUNAL</td>\n",
       "      <td>POLYGON ((-58.51925 -34.63301, -58.51908 -34.6...</td>\n",
       "    </tr>\n",
       "    <tr>\n",
       "      <th>11</th>\n",
       "      <td>FLORESTA - MONTE CASTRO - VELEZ SARSFIELD - VE...</td>\n",
       "      <td>18332.037457</td>\n",
       "      <td>1.265656e+07</td>\n",
       "      <td>10.0</td>\n",
       "      <td>6</td>\n",
       "      <td>LIMITE COMUNAL</td>\n",
       "      <td>35786.909836</td>\n",
       "      <td>FLORESTA - MONTE CASTRO - VELEZ SARSFIELD - VE...</td>\n",
       "      <td>18332.037457</td>\n",
       "      <td>1.265656e+07</td>\n",
       "      <td>10.0</td>\n",
       "      <td>6</td>\n",
       "      <td>LIMITE COMUNAL</td>\n",
       "      <td>POLYGON ((-58.48834 -34.62016, -58.48820 -34.6...</td>\n",
       "    </tr>\n",
       "    <tr>\n",
       "      <th>12</th>\n",
       "      <td>VILLA LUGANO - VILLA RIACHUELO - VILLA SOLDATI</td>\n",
       "      <td>20935.012513</td>\n",
       "      <td>2.221690e+07</td>\n",
       "      <td>8.0</td>\n",
       "      <td>12</td>\n",
       "      <td>LIMITE COMUNAL</td>\n",
       "      <td>23587.236527</td>\n",
       "      <td>VILLA LUGANO - VILLA RIACHUELO - VILLA SOLDATI</td>\n",
       "      <td>20935.012513</td>\n",
       "      <td>2.221690e+07</td>\n",
       "      <td>8.0</td>\n",
       "      <td>12</td>\n",
       "      <td>LIMITE COMUNAL</td>\n",
       "      <td>POLYGON ((-58.44913 -34.65117, -58.44883 -34.6...</td>\n",
       "    </tr>\n",
       "    <tr>\n",
       "      <th>13</th>\n",
       "      <td>COGHLAN - SAAVEDRA - VILLA PUEYRREDON - VILLA ...</td>\n",
       "      <td>17232.189372</td>\n",
       "      <td>1.557093e+07</td>\n",
       "      <td>12.0</td>\n",
       "      <td>8</td>\n",
       "      <td>LIMITE COMUNAL</td>\n",
       "      <td>49475.483544</td>\n",
       "      <td>COGHLAN - SAAVEDRA - VILLA PUEYRREDON - VILLA ...</td>\n",
       "      <td>17232.189372</td>\n",
       "      <td>1.557093e+07</td>\n",
       "      <td>12.0</td>\n",
       "      <td>8</td>\n",
       "      <td>LIMITE COMUNAL</td>\n",
       "      <td>POLYGON ((-58.50331 -34.59386, -58.50347 -34.5...</td>\n",
       "    </tr>\n",
       "    <tr>\n",
       "      <th>14</th>\n",
       "      <td>BELGRANO - COLEGIALES - NUÑEZ</td>\n",
       "      <td>26198.826953</td>\n",
       "      <td>1.471321e+07</td>\n",
       "      <td>13.0</td>\n",
       "      <td>15</td>\n",
       "      <td>LIMITE COMUNAL</td>\n",
       "      <td>56971.415493</td>\n",
       "      <td>BELGRANO - COLEGIALES - NUÑEZ</td>\n",
       "      <td>26198.826953</td>\n",
       "      <td>1.471321e+07</td>\n",
       "      <td>13.0</td>\n",
       "      <td>15</td>\n",
       "      <td>LIMITE COMUNAL</td>\n",
       "      <td>POLYGON ((-58.44033 -34.54022, -58.44032 -34.5...</td>\n",
       "    </tr>\n",
       "  </tbody>\n",
       "</table>\n",
       "</div>"
      ],
      "text/plain": [
       "                                            BARRIOS_1   PERIMETRO_1  \\\n",
       "0                                            RECOLETA  21452.838648   \n",
       "1                                     ALMAGRO - BOEDO  12323.432479   \n",
       "2                                             PALERMO  22126.531858   \n",
       "3                           BALVANERA - SAN CRISTOBAL  10486.260809   \n",
       "4   CONSTITUCION - MONSERRAT - PUERTO MADERO -  RE...  36102.201573   \n",
       "5                                           CABALLITO  10990.964471   \n",
       "6                           FLORES - PARQUE CHACABUCO  17972.257870   \n",
       "7   AGRONOMIA - CHACARITA -  PARQUE CHAS -  PATERN...  17832.585580   \n",
       "8   BARRACAS - BOCA - NUEVA POMPEYA - PARQUE PATRI...  35423.282799   \n",
       "9   VILLA DEL PARQUE - VILLA  DEVOTO - VILLA GRAL....  19987.696155   \n",
       "10            LINIERS - MATADEROS - PARQUE AVELLANEDA  21411.738344   \n",
       "11  FLORESTA - MONTE CASTRO - VELEZ SARSFIELD - VE...  18332.037457   \n",
       "12     VILLA LUGANO - VILLA RIACHUELO - VILLA SOLDATI  20935.012513   \n",
       "13  COGHLAN - SAAVEDRA - VILLA PUEYRREDON - VILLA ...  17232.189372   \n",
       "14                      BELGRANO - COLEGIALES - NUÑEZ  26198.826953   \n",
       "\n",
       "          AREA_1  COMUNAS_1  ID_1        OBJETO_1  ingreso_total_lab  \\\n",
       "0   6.317265e+06        2.0     1  LIMITE COMUNAL       56473.073171   \n",
       "1   6.660603e+06        5.0     2  LIMITE COMUNAL       40056.047619   \n",
       "2   1.584587e+07       14.0     9  LIMITE COMUNAL       55020.106987   \n",
       "3   6.385991e+06        3.0    10  LIMITE COMUNAL       32990.863326   \n",
       "4   1.779457e+07        1.0    14  LIMITE COMUNAL       34428.193606   \n",
       "5   6.851029e+06        6.0     3  LIMITE COMUNAL       47041.166240   \n",
       "6   1.242290e+07        7.0     4  LIMITE COMUNAL       31959.009804   \n",
       "7   1.432290e+07       15.0    11  LIMITE COMUNAL       38760.068337   \n",
       "8   2.168464e+07        4.0    13  LIMITE COMUNAL       28789.641379   \n",
       "9   1.412004e+07       11.0     7  LIMITE COMUNAL       41378.939828   \n",
       "10  1.650531e+07        9.0     5  LIMITE COMUNAL       29336.414634   \n",
       "11  1.265656e+07       10.0     6  LIMITE COMUNAL       35786.909836   \n",
       "12  2.221690e+07        8.0    12  LIMITE COMUNAL       23587.236527   \n",
       "13  1.557093e+07       12.0     8  LIMITE COMUNAL       49475.483544   \n",
       "14  1.471321e+07       13.0    15  LIMITE COMUNAL       56971.415493   \n",
       "\n",
       "                                            BARRIOS_2   PERIMETRO_2  \\\n",
       "0                                            RECOLETA  21452.838648   \n",
       "1                                     ALMAGRO - BOEDO  12323.432479   \n",
       "2                                             PALERMO  22126.531858   \n",
       "3                           BALVANERA - SAN CRISTOBAL  10486.260809   \n",
       "4   CONSTITUCION - MONSERRAT - PUERTO MADERO -  RE...  36102.201573   \n",
       "5                                           CABALLITO  10990.964471   \n",
       "6                           FLORES - PARQUE CHACABUCO  17972.257870   \n",
       "7   AGRONOMIA - CHACARITA -  PARQUE CHAS -  PATERN...  17832.585580   \n",
       "8   BARRACAS - BOCA - NUEVA POMPEYA - PARQUE PATRI...  35423.282799   \n",
       "9   VILLA DEL PARQUE - VILLA  DEVOTO - VILLA GRAL....  19987.696155   \n",
       "10            LINIERS - MATADEROS - PARQUE AVELLANEDA  21411.738344   \n",
       "11  FLORESTA - MONTE CASTRO - VELEZ SARSFIELD - VE...  18332.037457   \n",
       "12     VILLA LUGANO - VILLA RIACHUELO - VILLA SOLDATI  20935.012513   \n",
       "13  COGHLAN - SAAVEDRA - VILLA PUEYRREDON - VILLA ...  17232.189372   \n",
       "14                      BELGRANO - COLEGIALES - NUÑEZ  26198.826953   \n",
       "\n",
       "          AREA_2  COMUNAS_2  ID_2        OBJETO_2  \\\n",
       "0   6.317265e+06        2.0     1  LIMITE COMUNAL   \n",
       "1   6.660603e+06        5.0     2  LIMITE COMUNAL   \n",
       "2   1.584587e+07       14.0     9  LIMITE COMUNAL   \n",
       "3   6.385991e+06        3.0    10  LIMITE COMUNAL   \n",
       "4   1.779457e+07        1.0    14  LIMITE COMUNAL   \n",
       "5   6.851029e+06        6.0     3  LIMITE COMUNAL   \n",
       "6   1.242290e+07        7.0     4  LIMITE COMUNAL   \n",
       "7   1.432290e+07       15.0    11  LIMITE COMUNAL   \n",
       "8   2.168464e+07        4.0    13  LIMITE COMUNAL   \n",
       "9   1.412004e+07       11.0     7  LIMITE COMUNAL   \n",
       "10  1.650531e+07        9.0     5  LIMITE COMUNAL   \n",
       "11  1.265656e+07       10.0     6  LIMITE COMUNAL   \n",
       "12  2.221690e+07        8.0    12  LIMITE COMUNAL   \n",
       "13  1.557093e+07       12.0     8  LIMITE COMUNAL   \n",
       "14  1.471321e+07       13.0    15  LIMITE COMUNAL   \n",
       "\n",
       "                                             geometry  \n",
       "0   POLYGON ((-58.38000 -34.57002, -58.38002 -34.5...  \n",
       "1   POLYGON ((-58.41287 -34.61412, -58.41282 -34.6...  \n",
       "2   POLYGON ((-58.42676 -34.55202, -58.42676 -34.5...  \n",
       "3   POLYGON ((-58.41192 -34.59800, -58.41029 -34.5...  \n",
       "4   MULTIPOLYGON (((-58.37427 -34.57870, -58.37427...  \n",
       "5   POLYGON ((-58.43061 -34.60705, -58.43056 -34.6...  \n",
       "6   POLYGON ((-58.45200 -34.62975, -58.45158 -34.6...  \n",
       "7   POLYGON ((-58.42602 -34.59661, -58.42484 -34.5...  \n",
       "8   POLYGON ((-58.39908 -34.66092, -58.39919 -34.6...  \n",
       "9   POLYGON ((-58.49838 -34.59637, -58.49718 -34.5...  \n",
       "10  POLYGON ((-58.51925 -34.63301, -58.51908 -34.6...  \n",
       "11  POLYGON ((-58.48834 -34.62016, -58.48820 -34.6...  \n",
       "12  POLYGON ((-58.44913 -34.65117, -58.44883 -34.6...  \n",
       "13  POLYGON ((-58.50331 -34.59386, -58.50347 -34.5...  \n",
       "14  POLYGON ((-58.44033 -34.54022, -58.44032 -34.5...  "
      ]
     },
     "execution_count": 61,
     "metadata": {},
     "output_type": "execute_result"
    }
   ],
   "source": [
    "# Construyo la intersección entre el rectángulo y el shapefile de las comunas\n",
    "\n",
    "CABA_comunas = gpd.overlay(comuna_ingreso, comunas, how='intersection')\n",
    "CABA_comunas"
   ]
  },
  {
   "cell_type": "code",
   "execution_count": 62,
   "metadata": {},
   "outputs": [],
   "source": [
    "# Creo el colorbar\n",
    "\n",
    "sm = plt.cm.ScalarMappable(cmap='Reds', norm=plt.Normalize(vmin=0, vmax=3))\n",
    "sm._A = []"
   ]
  },
  {
   "cell_type": "code",
   "execution_count": 63,
   "metadata": {},
   "outputs": [
    {
     "name": "stderr",
     "output_type": "stream",
     "text": [
      "C:\\Users\\SANTI\\Anaconda3\\envs\\my_env\\lib\\site-packages\\pyproj\\crs\\crs.py:53: FutureWarning: '+init=<authority>:<code>' syntax is deprecated. '<authority>:<code>' is the preferred initialization method. When making the change, be mindful of axis order changes: https://pyproj4.github.io/pyproj/stable/gotchas.html#axis-order-changes-in-proj-6\n",
      "  return _prepare_from_string(\" \".join(pjargs))\n",
      "<ipython-input-63-3fed87dc126d>:15: UserWarning: FixedFormatter should only be used together with FixedLocator\n",
      "  cbar.ax.set_yticklabels([0,12000,24000,36000,48000,60000])  # horizontal colorbar\n"
     ]
    },
    {
     "data": {
      "image/png": "[encoded data removed]",
      "text/plain": [
       "<Figure size 1440x576 with 2 Axes>"
      ]
     },
     "metadata": {
      "needs_background": "light"
     },
     "output_type": "display_data"
    }
   ],
   "source": [
    "# Creo el colorbar y grafico \n",
    "\n",
    "sm = plt.cm.ScalarMappable(cmap='Reds')\n",
    "sm._A = []\n",
    "\n",
    "fig, ax = plt.subplots(1, figsize=(20, 8))\n",
    "fig.suptitle(\"Ingreso total laborable medio por comuna\", fontsize=15,y=.9,x=.6)\n",
    "\n",
    "CABA_comunas = CABA_comunas.to_crs({'init': 'epsg:3395'}) # Lo paso a Mercator\n",
    "CABA_comunas.plot(column='ingreso_total_lab', cmap='Reds', linewidth=0.8, ax=ax, edgecolor='0.8')\n",
    "ax.axis('off')\n",
    "\n",
    "#div = np.max(CABA_comunas.ingreso_total_lab)\n",
    "cbar = fig.colorbar(sm, extend='max', orientation='vertical')\n",
    "cbar.ax.set_yticklabels([0,12000,24000,36000,48000,60000])  # horizontal colorbar\n",
    "cbar.ax.locator_params(nbins=5)"
   ]
  },
  {
   "cell_type": "code",
   "execution_count": 64,
   "metadata": {},
   "outputs": [
    {
     "name": "stderr",
     "output_type": "stream",
     "text": [
      "C:\\Users\\SANTI\\Anaconda3\\envs\\my_env\\lib\\site-packages\\seaborn\\distributions.py:2551: FutureWarning: `distplot` is a deprecated function and will be removed in a future version. Please adapt your code to use either `displot` (a figure-level function with similar flexibility) or `histplot` (an axes-level function for histograms).\n",
      "  warnings.warn(msg, FutureWarning)\n"
     ]
    },
    {
     "data": {
      "image/png": "[encoded data removed]",
      "text/plain": [
       "<Figure size 432x288 with 1 Axes>"
      ]
     },
     "metadata": {
      "needs_background": "light"
     },
     "output_type": "display_data"
    }
   ],
   "source": [
    "#Realizamos una distribucion de probabilidad del ingreso \n",
    "\n",
    "sns.distplot(enc_18a65['ingreso_total_lab'])\n",
    "plt.title('Distribución de ingreso percibido')\n",
    "plt.xlabel('Ingreso')\n",
    "plt.show()"
   ]
  },
  {
   "cell_type": "code",
   "execution_count": 65,
   "metadata": {},
   "outputs": [
    {
     "data": {
      "text/html": [
       "<div>\n",
       "<style scoped>\n",
       "    .dataframe tbody tr th:only-of-type {\n",
       "        vertical-align: middle;\n",
       "    }\n",
       "\n",
       "    .dataframe tbody tr th {\n",
       "        vertical-align: top;\n",
       "    }\n",
       "\n",
       "    .dataframe thead th {\n",
       "        text-align: right;\n",
       "    }\n",
       "</style>\n",
       "<table border=\"1\" class=\"dataframe\">\n",
       "  <thead>\n",
       "    <tr style=\"text-align: right;\">\n",
       "      <th></th>\n",
       "      <th>id</th>\n",
       "      <th>nhogar</th>\n",
       "      <th>miembro</th>\n",
       "      <th>comuna</th>\n",
       "      <th>dominio</th>\n",
       "      <th>edad</th>\n",
       "      <th>sexo</th>\n",
       "      <th>parentesco_jefe</th>\n",
       "      <th>situacion_conyugal</th>\n",
       "      <th>estado_ocupacional</th>\n",
       "      <th>cat_ocupacional</th>\n",
       "      <th>ingreso_total_lab</th>\n",
       "      <th>estado_educativo</th>\n",
       "      <th>nivel_actual</th>\n",
       "      <th>años_escolaridad</th>\n",
       "      <th>lugar_nacimiento</th>\n",
       "      <th>afiliacion_salud</th>\n",
       "      <th>cantidad_hijos_nac_vivos</th>\n",
       "    </tr>\n",
       "  </thead>\n",
       "  <tbody>\n",
       "    <tr>\n",
       "      <th>3</th>\n",
       "      <td>2</td>\n",
       "      <td>1</td>\n",
       "      <td>2</td>\n",
       "      <td>2</td>\n",
       "      <td>Resto de la Ciudad</td>\n",
       "      <td>50</td>\n",
       "      <td>Mujer</td>\n",
       "      <td>No Jefe</td>\n",
       "      <td>Viudo/a</td>\n",
       "      <td>Ocupado</td>\n",
       "      <td>Asalariado</td>\n",
       "      <td>70000</td>\n",
       "      <td>No asiste pero asistió</td>\n",
       "      <td>Recibido universitario</td>\n",
       "      <td>17</td>\n",
       "      <td>CABA</td>\n",
       "      <td>Solo prepaga o mutual via OS</td>\n",
       "      <td>2</td>\n",
       "    </tr>\n",
       "    <tr>\n",
       "      <th>6</th>\n",
       "      <td>3</td>\n",
       "      <td>1</td>\n",
       "      <td>2</td>\n",
       "      <td>10</td>\n",
       "      <td>Resto de la Ciudad</td>\n",
       "      <td>21</td>\n",
       "      <td>Varon</td>\n",
       "      <td>No Jefe</td>\n",
       "      <td>Unido/a</td>\n",
       "      <td>Ocupado</td>\n",
       "      <td>Asalariado</td>\n",
       "      <td>44000</td>\n",
       "      <td>No asiste pero asistió</td>\n",
       "      <td>Recibido universitario</td>\n",
       "      <td>12</td>\n",
       "      <td>CABA</td>\n",
       "      <td>Solo obra social</td>\n",
       "      <td>0</td>\n",
       "    </tr>\n",
       "    <tr>\n",
       "      <th>10</th>\n",
       "      <td>5</td>\n",
       "      <td>1</td>\n",
       "      <td>1</td>\n",
       "      <td>8</td>\n",
       "      <td>Resto de la Ciudad</td>\n",
       "      <td>19</td>\n",
       "      <td>Mujer</td>\n",
       "      <td>Jefe</td>\n",
       "      <td>Soltero/a</td>\n",
       "      <td>Ocupado</td>\n",
       "      <td>Asalariado</td>\n",
       "      <td>28000</td>\n",
       "      <td>Asiste</td>\n",
       "      <td>Terciario/superior no universitario</td>\n",
       "      <td>13</td>\n",
       "      <td>Otra provincia</td>\n",
       "      <td>Solo obra social</td>\n",
       "      <td>0</td>\n",
       "    </tr>\n",
       "    <tr>\n",
       "      <th>11</th>\n",
       "      <td>5</td>\n",
       "      <td>2</td>\n",
       "      <td>1</td>\n",
       "      <td>8</td>\n",
       "      <td>Resto de la Ciudad</td>\n",
       "      <td>23</td>\n",
       "      <td>Mujer</td>\n",
       "      <td>Jefe</td>\n",
       "      <td>Soltero/a</td>\n",
       "      <td>Ocupado</td>\n",
       "      <td>Asalariado</td>\n",
       "      <td>25000</td>\n",
       "      <td>Asiste</td>\n",
       "      <td>Terciario/superior no universitario</td>\n",
       "      <td>13</td>\n",
       "      <td>Otra provincia</td>\n",
       "      <td>Solo obra social</td>\n",
       "      <td>0</td>\n",
       "    </tr>\n",
       "    <tr>\n",
       "      <th>24</th>\n",
       "      <td>14</td>\n",
       "      <td>1</td>\n",
       "      <td>1</td>\n",
       "      <td>6</td>\n",
       "      <td>Resto de la Ciudad</td>\n",
       "      <td>19</td>\n",
       "      <td>Varon</td>\n",
       "      <td>Jefe</td>\n",
       "      <td>Soltero/a</td>\n",
       "      <td>Ocupado</td>\n",
       "      <td>Asalariado</td>\n",
       "      <td>22000</td>\n",
       "      <td>No asiste pero asistió</td>\n",
       "      <td>Recibido universitario</td>\n",
       "      <td>11</td>\n",
       "      <td>Partido GBA</td>\n",
       "      <td>Solo obra social</td>\n",
       "      <td>0</td>\n",
       "    </tr>\n",
       "    <tr>\n",
       "      <th>...</th>\n",
       "      <td>...</td>\n",
       "      <td>...</td>\n",
       "      <td>...</td>\n",
       "      <td>...</td>\n",
       "      <td>...</td>\n",
       "      <td>...</td>\n",
       "      <td>...</td>\n",
       "      <td>...</td>\n",
       "      <td>...</td>\n",
       "      <td>...</td>\n",
       "      <td>...</td>\n",
       "      <td>...</td>\n",
       "      <td>...</td>\n",
       "      <td>...</td>\n",
       "      <td>...</td>\n",
       "      <td>...</td>\n",
       "      <td>...</td>\n",
       "      <td>...</td>\n",
       "    </tr>\n",
       "    <tr>\n",
       "      <th>14285</th>\n",
       "      <td>5776</td>\n",
       "      <td>1</td>\n",
       "      <td>2</td>\n",
       "      <td>13</td>\n",
       "      <td>Resto de la Ciudad</td>\n",
       "      <td>52</td>\n",
       "      <td>Varon</td>\n",
       "      <td>No Jefe</td>\n",
       "      <td>Soltero/a</td>\n",
       "      <td>Ocupado</td>\n",
       "      <td>Asalariado</td>\n",
       "      <td>30000</td>\n",
       "      <td>Asiste</td>\n",
       "      <td>Universitario</td>\n",
       "      <td>12</td>\n",
       "      <td>Partido GBA</td>\n",
       "      <td>Solo obra social</td>\n",
       "      <td>0</td>\n",
       "    </tr>\n",
       "    <tr>\n",
       "      <th>14288</th>\n",
       "      <td>5778</td>\n",
       "      <td>1</td>\n",
       "      <td>2</td>\n",
       "      <td>6</td>\n",
       "      <td>Resto de la Ciudad</td>\n",
       "      <td>54</td>\n",
       "      <td>Mujer</td>\n",
       "      <td>No Jefe</td>\n",
       "      <td>Viudo/a</td>\n",
       "      <td>Ocupado</td>\n",
       "      <td>Asalariado</td>\n",
       "      <td>24000</td>\n",
       "      <td>No asiste pero asistió</td>\n",
       "      <td>Recibido universitario</td>\n",
       "      <td>10</td>\n",
       "      <td>Partido GBA</td>\n",
       "      <td>Solo obra social</td>\n",
       "      <td>2</td>\n",
       "    </tr>\n",
       "    <tr>\n",
       "      <th>14293</th>\n",
       "      <td>5781</td>\n",
       "      <td>1</td>\n",
       "      <td>3</td>\n",
       "      <td>7</td>\n",
       "      <td>Resto de la Ciudad</td>\n",
       "      <td>31</td>\n",
       "      <td>Mujer</td>\n",
       "      <td>No Jefe</td>\n",
       "      <td>Soltero/a</td>\n",
       "      <td>Ocupado</td>\n",
       "      <td>Asalariado</td>\n",
       "      <td>28000</td>\n",
       "      <td>No asiste pero asistió</td>\n",
       "      <td>Recibido universitario</td>\n",
       "      <td>14</td>\n",
       "      <td>CABA</td>\n",
       "      <td>Solo obra social</td>\n",
       "      <td>2</td>\n",
       "    </tr>\n",
       "    <tr>\n",
       "      <th>14308</th>\n",
       "      <td>5790</td>\n",
       "      <td>1</td>\n",
       "      <td>2</td>\n",
       "      <td>13</td>\n",
       "      <td>Resto de la Ciudad</td>\n",
       "      <td>37</td>\n",
       "      <td>Mujer</td>\n",
       "      <td>No Jefe</td>\n",
       "      <td>Soltero/a</td>\n",
       "      <td>Ocupado</td>\n",
       "      <td>Asalariado</td>\n",
       "      <td>38000</td>\n",
       "      <td>No asiste pero asistió</td>\n",
       "      <td>Recibido universitario</td>\n",
       "      <td>12</td>\n",
       "      <td>Otra provincia</td>\n",
       "      <td>Solo obra social</td>\n",
       "      <td>1</td>\n",
       "    </tr>\n",
       "    <tr>\n",
       "      <th>14313</th>\n",
       "      <td>5793</td>\n",
       "      <td>1</td>\n",
       "      <td>2</td>\n",
       "      <td>6</td>\n",
       "      <td>Resto de la Ciudad</td>\n",
       "      <td>52</td>\n",
       "      <td>Mujer</td>\n",
       "      <td>No Jefe</td>\n",
       "      <td>Unido/a</td>\n",
       "      <td>Ocupado</td>\n",
       "      <td>Asalariado</td>\n",
       "      <td>30000</td>\n",
       "      <td>No asiste pero asistió</td>\n",
       "      <td>Recibido universitario</td>\n",
       "      <td>7</td>\n",
       "      <td>Otro pais</td>\n",
       "      <td>Solo obra social</td>\n",
       "      <td>3</td>\n",
       "    </tr>\n",
       "  </tbody>\n",
       "</table>\n",
       "<p>6824 rows × 18 columns</p>\n",
       "</div>"
      ],
      "text/plain": [
       "         id  nhogar  miembro  comuna             dominio  edad   sexo  \\\n",
       "3         2       1        2       2  Resto de la Ciudad    50  Mujer   \n",
       "6         3       1        2      10  Resto de la Ciudad    21  Varon   \n",
       "10        5       1        1       8  Resto de la Ciudad    19  Mujer   \n",
       "11        5       2        1       8  Resto de la Ciudad    23  Mujer   \n",
       "24       14       1        1       6  Resto de la Ciudad    19  Varon   \n",
       "...     ...     ...      ...     ...                 ...   ...    ...   \n",
       "14285  5776       1        2      13  Resto de la Ciudad    52  Varon   \n",
       "14288  5778       1        2       6  Resto de la Ciudad    54  Mujer   \n",
       "14293  5781       1        3       7  Resto de la Ciudad    31  Mujer   \n",
       "14308  5790       1        2      13  Resto de la Ciudad    37  Mujer   \n",
       "14313  5793       1        2       6  Resto de la Ciudad    52  Mujer   \n",
       "\n",
       "      parentesco_jefe situacion_conyugal estado_ocupacional cat_ocupacional  \\\n",
       "3             No Jefe            Viudo/a            Ocupado      Asalariado   \n",
       "6             No Jefe            Unido/a            Ocupado      Asalariado   \n",
       "10               Jefe          Soltero/a            Ocupado      Asalariado   \n",
       "11               Jefe          Soltero/a            Ocupado      Asalariado   \n",
       "24               Jefe          Soltero/a            Ocupado      Asalariado   \n",
       "...               ...                ...                ...             ...   \n",
       "14285         No Jefe          Soltero/a            Ocupado      Asalariado   \n",
       "14288         No Jefe            Viudo/a            Ocupado      Asalariado   \n",
       "14293         No Jefe          Soltero/a            Ocupado      Asalariado   \n",
       "14308         No Jefe          Soltero/a            Ocupado      Asalariado   \n",
       "14313         No Jefe            Unido/a            Ocupado      Asalariado   \n",
       "\n",
       "       ingreso_total_lab        estado_educativo  \\\n",
       "3                  70000  No asiste pero asistió   \n",
       "6                  44000  No asiste pero asistió   \n",
       "10                 28000                  Asiste   \n",
       "11                 25000                  Asiste   \n",
       "24                 22000  No asiste pero asistió   \n",
       "...                  ...                     ...   \n",
       "14285              30000                  Asiste   \n",
       "14288              24000  No asiste pero asistió   \n",
       "14293              28000  No asiste pero asistió   \n",
       "14308              38000  No asiste pero asistió   \n",
       "14313              30000  No asiste pero asistió   \n",
       "\n",
       "                              nivel_actual años_escolaridad lugar_nacimiento  \\\n",
       "3                   Recibido universitario               17             CABA   \n",
       "6                   Recibido universitario               12             CABA   \n",
       "10     Terciario/superior no universitario               13   Otra provincia   \n",
       "11     Terciario/superior no universitario               13   Otra provincia   \n",
       "24                  Recibido universitario               11      Partido GBA   \n",
       "...                                    ...              ...              ...   \n",
       "14285                        Universitario               12      Partido GBA   \n",
       "14288               Recibido universitario               10      Partido GBA   \n",
       "14293               Recibido universitario               14             CABA   \n",
       "14308               Recibido universitario               12   Otra provincia   \n",
       "14313               Recibido universitario                7        Otro pais   \n",
       "\n",
       "                   afiliacion_salud cantidad_hijos_nac_vivos  \n",
       "3      Solo prepaga o mutual via OS                        2  \n",
       "6                  Solo obra social                        0  \n",
       "10                 Solo obra social                        0  \n",
       "11                 Solo obra social                        0  \n",
       "24                 Solo obra social                        0  \n",
       "...                             ...                      ...  \n",
       "14285              Solo obra social                        0  \n",
       "14288              Solo obra social                        2  \n",
       "14293              Solo obra social                        2  \n",
       "14308              Solo obra social                        1  \n",
       "14313              Solo obra social                        3  \n",
       "\n",
       "[6824 rows x 18 columns]"
      ]
     },
     "execution_count": 65,
     "metadata": {},
     "output_type": "execute_result"
    }
   ],
   "source": [
    "enc_18a65_pos = enc_18a65.loc[enc_18a65[\"ingreso_total_lab\"] > 0]\n",
    "enc_18a65_pos"
   ]
  },
  {
   "cell_type": "code",
   "execution_count": 66,
   "metadata": {},
   "outputs": [
    {
     "name": "stderr",
     "output_type": "stream",
     "text": [
      "C:\\Users\\SANTI\\Anaconda3\\envs\\my_env\\lib\\site-packages\\seaborn\\distributions.py:2551: FutureWarning: `distplot` is a deprecated function and will be removed in a future version. Please adapt your code to use either `displot` (a figure-level function with similar flexibility) or `histplot` (an axes-level function for histograms).\n",
      "  warnings.warn(msg, FutureWarning)\n"
     ]
    },
    {
     "data": {
      "text/plain": [
       "<AxesSubplot:xlabel='ingreso_total_lab', ylabel='Density'>"
      ]
     },
     "execution_count": 66,
     "metadata": {},
     "output_type": "execute_result"
    },
    {
     "data": {
      "image/png": "[encoded data removed]",
      "text/plain": [
       "<Figure size 432x288 with 1 Axes>"
      ]
     },
     "metadata": {
      "needs_background": "light"
     },
     "output_type": "display_data"
    }
   ],
   "source": [
    "sns.distplot(enc_18a65_pos.ingreso_total_lab,fit=norm)"
   ]
  },
  {
   "cell_type": "code",
   "execution_count": 67,
   "metadata": {},
   "outputs": [
    {
     "data": {
      "text/plain": [
       "count    6824.000000\n",
       "mean        4.435173\n",
       "std         0.404873\n",
       "min         2.000000\n",
       "25%         4.255273\n",
       "50%         4.477121\n",
       "75%         4.698970\n",
       "max         6.000000\n",
       "Name: ingreso_total_lab, dtype: float64"
      ]
     },
     "execution_count": 67,
     "metadata": {},
     "output_type": "execute_result"
    }
   ],
   "source": [
    "enc_18a65_pos['ingreso_total_lab'] = np.log10(enc_18a65_pos[\"ingreso_total_lab\"])\n",
    "enc_18a65_pos.ingreso_total_lab.describe()"
   ]
  },
  {
   "cell_type": "code",
   "execution_count": 68,
   "metadata": {},
   "outputs": [
    {
     "name": "stderr",
     "output_type": "stream",
     "text": [
      "C:\\Users\\SANTI\\Anaconda3\\envs\\my_env\\lib\\site-packages\\seaborn\\distributions.py:2551: FutureWarning: `distplot` is a deprecated function and will be removed in a future version. Please adapt your code to use either `displot` (a figure-level function with similar flexibility) or `histplot` (an axes-level function for histograms).\n",
      "  warnings.warn(msg, FutureWarning)\n"
     ]
    },
    {
     "data": {
      "text/plain": [
       "<AxesSubplot:xlabel='ingreso_total_lab', ylabel='Density'>"
      ]
     },
     "execution_count": 68,
     "metadata": {},
     "output_type": "execute_result"
    },
    {
     "data": {
      "image/png": "[encoded data removed]",
      "text/plain": [
       "<Figure size 432x288 with 1 Axes>"
      ]
     },
     "metadata": {
      "needs_background": "light"
     },
     "output_type": "display_data"
    }
   ],
   "source": [
    "sns.distplot(enc_18a65_pos.ingreso_total_lab,fit=norm)"
   ]
  }
 ],
 "metadata": {
  "kernelspec": {
   "display_name": "Python 3",
   "language": "python",
   "name": "python3"
  },
  "language_info": {
   "codemirror_mode": {
    "name": "ipython",
    "version": 3
   },
   "file_extension": ".py",
   "mimetype": "text/x-python",
   "name": "python",
   "nbconvert_exporter": "python",
   "pygments_lexer": "ipython3",
   "version": "3.8.5"
  }
 },
 "nbformat": 4,
 "nbformat_minor": 4
}
