{
 "cells": [
  {
   "cell_type": "code",
   "execution_count": 1,
   "metadata": {},
   "outputs": [],
   "source": [
    "import numpy as np\n",
    "import pandas as pd\n",
    "import matplotlib.pyplot as plt\n",
    "import seaborn as sns\n",
    "from scipy.stats import norm, skew, boxcox\n",
    "\n",
    "#SK-Learn\n",
    "from sklearn.model_selection import train_test_split, GridSearchCV\n",
    "from sklearn.preprocessing import PolynomialFeatures\n",
    "from sklearn.preprocessing import LabelEncoder\n",
    "\n",
    "#Scalers\n",
    "#https://scikit-learn.org/stable/modules/classes.html#module-sklearn.preprocessing\n",
    "from sklearn.preprocessing import StandardScaler,MinMaxScaler\n",
    "\n",
    "#Modelos Lineales\n",
    "# https://scikit-learn.org/stable/modules/linear_model.html\n",
    "from sklearn.linear_model import LinearRegression , Ridge\n",
    "from sklearn.svm import SVR\n",
    "from sklearn.linear_model import LassoCV\n",
    "from sklearn.tree import DecisionTreeRegressor\n",
    "from sklearn.neighbors import KNeighborsRegressor\n",
    "\n",
    "#Metricas\n",
    "from sklearn.metrics import r2_score, mean_squared_error, mean_absolute_error\n",
    "\n",
    "#Geopandas\n",
    "import geopandas as gpd\n",
    "\n"
   ]
  },
  {
   "cell_type": "code",
   "execution_count": 2,
   "metadata": {},
   "outputs": [],
   "source": [
    "encuesta = pd.read_csv(r'C:\\Users\\Notebook Asus\\Documents\\Ciencia de datos\\encuesta-anual-hogares-2019.csv',delimiter=',',encoding=\"ISO-8859-1\")"
   ]
  },
  {
   "cell_type": "code",
   "execution_count": 3,
   "metadata": {},
   "outputs": [
    {
     "data": {
      "text/html": [
       "<div>\n",
       "<style scoped>\n",
       "    .dataframe tbody tr th:only-of-type {\n",
       "        vertical-align: middle;\n",
       "    }\n",
       "\n",
       "    .dataframe tbody tr th {\n",
       "        vertical-align: top;\n",
       "    }\n",
       "\n",
       "    .dataframe thead th {\n",
       "        text-align: right;\n",
       "    }\n",
       "</style>\n",
       "<table border=\"1\" class=\"dataframe\">\n",
       "  <thead>\n",
       "    <tr style=\"text-align: right;\">\n",
       "      <th></th>\n",
       "      <th>id</th>\n",
       "      <th>nhogar</th>\n",
       "      <th>miembro</th>\n",
       "      <th>comuna</th>\n",
       "      <th>dominio</th>\n",
       "      <th>edad</th>\n",
       "      <th>sexo</th>\n",
       "      <th>parentesco_jefe</th>\n",
       "      <th>situacion_conyugal</th>\n",
       "      <th>num_miembro_padre</th>\n",
       "      <th>...</th>\n",
       "      <th>ingreso_per_capita_familiar</th>\n",
       "      <th>estado_educativo</th>\n",
       "      <th>sector_educativo</th>\n",
       "      <th>nivel_actual</th>\n",
       "      <th>nivel_max_educativo</th>\n",
       "      <th>años_escolaridad</th>\n",
       "      <th>lugar_nacimiento</th>\n",
       "      <th>afiliacion_salud</th>\n",
       "      <th>hijos_nacidos_vivos</th>\n",
       "      <th>cantidad_hijos_nac_vivos</th>\n",
       "    </tr>\n",
       "  </thead>\n",
       "  <tbody>\n",
       "    <tr>\n",
       "      <th>0</th>\n",
       "      <td>1</td>\n",
       "      <td>1</td>\n",
       "      <td>1</td>\n",
       "      <td>5</td>\n",
       "      <td>Resto de la Ciudad</td>\n",
       "      <td>18</td>\n",
       "      <td>Mujer</td>\n",
       "      <td>Jefe</td>\n",
       "      <td>Soltero/a</td>\n",
       "      <td>Padre no vive en el hogar</td>\n",
       "      <td>...</td>\n",
       "      <td>9000</td>\n",
       "      <td>Asiste</td>\n",
       "      <td>Estatal/publico</td>\n",
       "      <td>Universitario</td>\n",
       "      <td>Otras escuelas especiales</td>\n",
       "      <td>12</td>\n",
       "      <td>PBA excepto GBA</td>\n",
       "      <td>Solo obra social</td>\n",
       "      <td>No</td>\n",
       "      <td>No corresponde</td>\n",
       "    </tr>\n",
       "    <tr>\n",
       "      <th>1</th>\n",
       "      <td>1</td>\n",
       "      <td>1</td>\n",
       "      <td>2</td>\n",
       "      <td>5</td>\n",
       "      <td>Resto de la Ciudad</td>\n",
       "      <td>18</td>\n",
       "      <td>Mujer</td>\n",
       "      <td>Otro no familiar</td>\n",
       "      <td>Soltero/a</td>\n",
       "      <td>Padre no vive en el hogar</td>\n",
       "      <td>...</td>\n",
       "      <td>9000</td>\n",
       "      <td>Asiste</td>\n",
       "      <td>Estatal/publico</td>\n",
       "      <td>Universitario</td>\n",
       "      <td>Otras escuelas especiales</td>\n",
       "      <td>12</td>\n",
       "      <td>Otra provincia</td>\n",
       "      <td>Solo plan de medicina prepaga por contratación...</td>\n",
       "      <td>No</td>\n",
       "      <td>No corresponde</td>\n",
       "    </tr>\n",
       "    <tr>\n",
       "      <th>2</th>\n",
       "      <td>2</td>\n",
       "      <td>1</td>\n",
       "      <td>1</td>\n",
       "      <td>2</td>\n",
       "      <td>Resto de la Ciudad</td>\n",
       "      <td>18</td>\n",
       "      <td>Varon</td>\n",
       "      <td>Jefe</td>\n",
       "      <td>Soltero/a</td>\n",
       "      <td>Padre no vive en el hogar</td>\n",
       "      <td>...</td>\n",
       "      <td>33333</td>\n",
       "      <td>Asiste</td>\n",
       "      <td>Privado religioso</td>\n",
       "      <td>Universitario</td>\n",
       "      <td>Otras escuelas especiales</td>\n",
       "      <td>12</td>\n",
       "      <td>CABA</td>\n",
       "      <td>Solo plan de medicina prepaga por contratación...</td>\n",
       "      <td>NaN</td>\n",
       "      <td>No corresponde</td>\n",
       "    </tr>\n",
       "    <tr>\n",
       "      <th>3</th>\n",
       "      <td>2</td>\n",
       "      <td>1</td>\n",
       "      <td>2</td>\n",
       "      <td>2</td>\n",
       "      <td>Resto de la Ciudad</td>\n",
       "      <td>50</td>\n",
       "      <td>Mujer</td>\n",
       "      <td>Padre/Madre/Suegro/a</td>\n",
       "      <td>Viudo/a</td>\n",
       "      <td>No corresponde</td>\n",
       "      <td>...</td>\n",
       "      <td>33333</td>\n",
       "      <td>No asiste pero asistió</td>\n",
       "      <td>No corresponde</td>\n",
       "      <td>No corresponde</td>\n",
       "      <td>Secundario/medio comun</td>\n",
       "      <td>17</td>\n",
       "      <td>CABA</td>\n",
       "      <td>Solo prepaga o mutual via OS</td>\n",
       "      <td>Si</td>\n",
       "      <td>2</td>\n",
       "    </tr>\n",
       "    <tr>\n",
       "      <th>4</th>\n",
       "      <td>2</td>\n",
       "      <td>1</td>\n",
       "      <td>3</td>\n",
       "      <td>2</td>\n",
       "      <td>Resto de la Ciudad</td>\n",
       "      <td>17</td>\n",
       "      <td>Varon</td>\n",
       "      <td>Otro familiar</td>\n",
       "      <td>Soltero/a</td>\n",
       "      <td>Padre no vive en el hogar</td>\n",
       "      <td>...</td>\n",
       "      <td>33333</td>\n",
       "      <td>Asiste</td>\n",
       "      <td>Privado religioso</td>\n",
       "      <td>Secundario/medio comun</td>\n",
       "      <td>EGB (1° a 9° año)</td>\n",
       "      <td>10</td>\n",
       "      <td>CABA</td>\n",
       "      <td>Solo plan de medicina prepaga por contratación...</td>\n",
       "      <td>NaN</td>\n",
       "      <td>No corresponde</td>\n",
       "    </tr>\n",
       "    <tr>\n",
       "      <th>...</th>\n",
       "      <td>...</td>\n",
       "      <td>...</td>\n",
       "      <td>...</td>\n",
       "      <td>...</td>\n",
       "      <td>...</td>\n",
       "      <td>...</td>\n",
       "      <td>...</td>\n",
       "      <td>...</td>\n",
       "      <td>...</td>\n",
       "      <td>...</td>\n",
       "      <td>...</td>\n",
       "      <td>...</td>\n",
       "      <td>...</td>\n",
       "      <td>...</td>\n",
       "      <td>...</td>\n",
       "      <td>...</td>\n",
       "      <td>...</td>\n",
       "      <td>...</td>\n",
       "      <td>...</td>\n",
       "      <td>...</td>\n",
       "      <td>...</td>\n",
       "    </tr>\n",
       "    <tr>\n",
       "      <th>14314</th>\n",
       "      <td>5794</td>\n",
       "      <td>1</td>\n",
       "      <td>1</td>\n",
       "      <td>10</td>\n",
       "      <td>Resto de la Ciudad</td>\n",
       "      <td>99</td>\n",
       "      <td>Varon</td>\n",
       "      <td>Jefe</td>\n",
       "      <td>Casado/a</td>\n",
       "      <td>No corresponde</td>\n",
       "      <td>...</td>\n",
       "      <td>14250</td>\n",
       "      <td>No asiste pero asistió</td>\n",
       "      <td>No corresponde</td>\n",
       "      <td>No corresponde</td>\n",
       "      <td>Sala de 5</td>\n",
       "      <td>5</td>\n",
       "      <td>Pais no limitrofe</td>\n",
       "      <td>Solo obra social</td>\n",
       "      <td>NaN</td>\n",
       "      <td>No corresponde</td>\n",
       "    </tr>\n",
       "    <tr>\n",
       "      <th>14315</th>\n",
       "      <td>5794</td>\n",
       "      <td>1</td>\n",
       "      <td>2</td>\n",
       "      <td>10</td>\n",
       "      <td>Resto de la Ciudad</td>\n",
       "      <td>78</td>\n",
       "      <td>Mujer</td>\n",
       "      <td>Otro familiar</td>\n",
       "      <td>Soltero/a</td>\n",
       "      <td>No corresponde</td>\n",
       "      <td>...</td>\n",
       "      <td>14250</td>\n",
       "      <td>No asiste pero asistió</td>\n",
       "      <td>No corresponde</td>\n",
       "      <td>No corresponde</td>\n",
       "      <td>EGB (1° a 9° año)</td>\n",
       "      <td>9</td>\n",
       "      <td>Partido GBA</td>\n",
       "      <td>Solo obra social</td>\n",
       "      <td>No</td>\n",
       "      <td>No corresponde</td>\n",
       "    </tr>\n",
       "    <tr>\n",
       "      <th>14316</th>\n",
       "      <td>5794</td>\n",
       "      <td>1</td>\n",
       "      <td>3</td>\n",
       "      <td>10</td>\n",
       "      <td>Resto de la Ciudad</td>\n",
       "      <td>60</td>\n",
       "      <td>Mujer</td>\n",
       "      <td>Hijo/a - Hijastro/a</td>\n",
       "      <td>Separado/a de unión o matrimonio</td>\n",
       "      <td>No corresponde</td>\n",
       "      <td>...</td>\n",
       "      <td>14250</td>\n",
       "      <td>No asiste pero asistió</td>\n",
       "      <td>No corresponde</td>\n",
       "      <td>No corresponde</td>\n",
       "      <td>Primario especial</td>\n",
       "      <td>12</td>\n",
       "      <td>CABA</td>\n",
       "      <td>Solo obra social</td>\n",
       "      <td>Si</td>\n",
       "      <td>2</td>\n",
       "    </tr>\n",
       "    <tr>\n",
       "      <th>14317</th>\n",
       "      <td>5794</td>\n",
       "      <td>1</td>\n",
       "      <td>4</td>\n",
       "      <td>10</td>\n",
       "      <td>Resto de la Ciudad</td>\n",
       "      <td>92</td>\n",
       "      <td>Mujer</td>\n",
       "      <td>Conyugue o pareja</td>\n",
       "      <td>Casado/a</td>\n",
       "      <td>No corresponde</td>\n",
       "      <td>...</td>\n",
       "      <td>14250</td>\n",
       "      <td>No asiste pero asistió</td>\n",
       "      <td>No corresponde</td>\n",
       "      <td>No corresponde</td>\n",
       "      <td>Primario comun</td>\n",
       "      <td>7</td>\n",
       "      <td>CABA</td>\n",
       "      <td>Solo obra social</td>\n",
       "      <td>Si</td>\n",
       "      <td>1</td>\n",
       "    </tr>\n",
       "    <tr>\n",
       "      <th>14318</th>\n",
       "      <td>5795</td>\n",
       "      <td>1</td>\n",
       "      <td>1</td>\n",
       "      <td>2</td>\n",
       "      <td>Resto de la Ciudad</td>\n",
       "      <td>100</td>\n",
       "      <td>Mujer</td>\n",
       "      <td>Jefe</td>\n",
       "      <td>Viudo/a</td>\n",
       "      <td>No corresponde</td>\n",
       "      <td>...</td>\n",
       "      <td>82000</td>\n",
       "      <td>No asiste pero asistió</td>\n",
       "      <td>No corresponde</td>\n",
       "      <td>No corresponde</td>\n",
       "      <td>Secundario/medio comun</td>\n",
       "      <td>15</td>\n",
       "      <td>CABA</td>\n",
       "      <td>Solo obra social</td>\n",
       "      <td>Si</td>\n",
       "      <td>1</td>\n",
       "    </tr>\n",
       "  </tbody>\n",
       "</table>\n",
       "<p>14319 rows × 31 columns</p>\n",
       "</div>"
      ],
      "text/plain": [
       "         id  nhogar  miembro  comuna             dominio  edad   sexo  \\\n",
       "0         1       1        1       5  Resto de la Ciudad    18  Mujer   \n",
       "1         1       1        2       5  Resto de la Ciudad    18  Mujer   \n",
       "2         2       1        1       2  Resto de la Ciudad    18  Varon   \n",
       "3         2       1        2       2  Resto de la Ciudad    50  Mujer   \n",
       "4         2       1        3       2  Resto de la Ciudad    17  Varon   \n",
       "...     ...     ...      ...     ...                 ...   ...    ...   \n",
       "14314  5794       1        1      10  Resto de la Ciudad    99  Varon   \n",
       "14315  5794       1        2      10  Resto de la Ciudad    78  Mujer   \n",
       "14316  5794       1        3      10  Resto de la Ciudad    60  Mujer   \n",
       "14317  5794       1        4      10  Resto de la Ciudad    92  Mujer   \n",
       "14318  5795       1        1       2  Resto de la Ciudad   100  Mujer   \n",
       "\n",
       "            parentesco_jefe                situacion_conyugal  \\\n",
       "0                      Jefe                         Soltero/a   \n",
       "1          Otro no familiar                         Soltero/a   \n",
       "2                      Jefe                         Soltero/a   \n",
       "3      Padre/Madre/Suegro/a                           Viudo/a   \n",
       "4             Otro familiar                         Soltero/a   \n",
       "...                     ...                               ...   \n",
       "14314                  Jefe                          Casado/a   \n",
       "14315         Otro familiar                         Soltero/a   \n",
       "14316   Hijo/a - Hijastro/a  Separado/a de unión o matrimonio   \n",
       "14317     Conyugue o pareja                          Casado/a   \n",
       "14318                  Jefe                           Viudo/a   \n",
       "\n",
       "               num_miembro_padre  ... ingreso_per_capita_familiar  \\\n",
       "0      Padre no vive en el hogar  ...                        9000   \n",
       "1      Padre no vive en el hogar  ...                        9000   \n",
       "2      Padre no vive en el hogar  ...                       33333   \n",
       "3                 No corresponde  ...                       33333   \n",
       "4      Padre no vive en el hogar  ...                       33333   \n",
       "...                          ...  ...                         ...   \n",
       "14314             No corresponde  ...                       14250   \n",
       "14315             No corresponde  ...                       14250   \n",
       "14316             No corresponde  ...                       14250   \n",
       "14317             No corresponde  ...                       14250   \n",
       "14318             No corresponde  ...                       82000   \n",
       "\n",
       "             estado_educativo   sector_educativo            nivel_actual  \\\n",
       "0                      Asiste    Estatal/publico           Universitario   \n",
       "1                      Asiste    Estatal/publico           Universitario   \n",
       "2                      Asiste  Privado religioso           Universitario   \n",
       "3      No asiste pero asistió     No corresponde          No corresponde   \n",
       "4                      Asiste  Privado religioso  Secundario/medio comun   \n",
       "...                       ...                ...                     ...   \n",
       "14314  No asiste pero asistió     No corresponde          No corresponde   \n",
       "14315  No asiste pero asistió     No corresponde          No corresponde   \n",
       "14316  No asiste pero asistió     No corresponde          No corresponde   \n",
       "14317  No asiste pero asistió     No corresponde          No corresponde   \n",
       "14318  No asiste pero asistió     No corresponde          No corresponde   \n",
       "\n",
       "             nivel_max_educativo años_escolaridad   lugar_nacimiento  \\\n",
       "0      Otras escuelas especiales               12    PBA excepto GBA   \n",
       "1      Otras escuelas especiales               12     Otra provincia   \n",
       "2      Otras escuelas especiales               12               CABA   \n",
       "3         Secundario/medio comun               17               CABA   \n",
       "4              EGB (1° a 9° año)               10               CABA   \n",
       "...                          ...              ...                ...   \n",
       "14314                  Sala de 5                5  Pais no limitrofe   \n",
       "14315          EGB (1° a 9° año)                9        Partido GBA   \n",
       "14316          Primario especial               12               CABA   \n",
       "14317             Primario comun                7               CABA   \n",
       "14318     Secundario/medio comun               15               CABA   \n",
       "\n",
       "                                        afiliacion_salud  hijos_nacidos_vivos  \\\n",
       "0                                       Solo obra social                   No   \n",
       "1      Solo plan de medicina prepaga por contratación...                   No   \n",
       "2      Solo plan de medicina prepaga por contratación...                  NaN   \n",
       "3                           Solo prepaga o mutual via OS                   Si   \n",
       "4      Solo plan de medicina prepaga por contratación...                  NaN   \n",
       "...                                                  ...                  ...   \n",
       "14314                                   Solo obra social                  NaN   \n",
       "14315                                   Solo obra social                   No   \n",
       "14316                                   Solo obra social                   Si   \n",
       "14317                                   Solo obra social                   Si   \n",
       "14318                                   Solo obra social                   Si   \n",
       "\n",
       "      cantidad_hijos_nac_vivos  \n",
       "0               No corresponde  \n",
       "1               No corresponde  \n",
       "2               No corresponde  \n",
       "3                            2  \n",
       "4               No corresponde  \n",
       "...                        ...  \n",
       "14314           No corresponde  \n",
       "14315           No corresponde  \n",
       "14316                        2  \n",
       "14317                        1  \n",
       "14318                        1  \n",
       "\n",
       "[14319 rows x 31 columns]"
      ]
     },
     "execution_count": 3,
     "metadata": {},
     "output_type": "execute_result"
    }
   ],
   "source": [
    "encuesta"
   ]
  },
  {
   "cell_type": "code",
   "execution_count": 4,
   "metadata": {},
   "outputs": [
    {
     "name": "stdout",
     "output_type": "stream",
     "text": [
      "<class 'pandas.core.frame.DataFrame'>\n",
      "RangeIndex: 14319 entries, 0 to 14318\n",
      "Data columns (total 31 columns):\n",
      " #   Column                       Non-Null Count  Dtype \n",
      "---  ------                       --------------  ----- \n",
      " 0   id                           14319 non-null  int64 \n",
      " 1   nhogar                       14319 non-null  int64 \n",
      " 2   miembro                      14319 non-null  int64 \n",
      " 3   comuna                       14319 non-null  int64 \n",
      " 4   dominio                      14319 non-null  object\n",
      " 5   edad                         14319 non-null  int64 \n",
      " 6   sexo                         14319 non-null  object\n",
      " 7   parentesco_jefe              14319 non-null  object\n",
      " 8   situacion_conyugal           14318 non-null  object\n",
      " 9   num_miembro_padre            14319 non-null  object\n",
      " 10  num_miembro_madre            14319 non-null  object\n",
      " 11  estado_ocupacional           14319 non-null  object\n",
      " 12  cat_ocupacional              14319 non-null  object\n",
      " 13  calidad_ingresos_lab         14319 non-null  object\n",
      " 14  ingreso_total_lab            14319 non-null  int64 \n",
      " 15  calidad_ingresos_no_lab      14319 non-null  object\n",
      " 16  ingreso_total_no_lab         14319 non-null  int64 \n",
      " 17  calidad_ingresos_totales     14319 non-null  object\n",
      " 18  ingresos_totales             14319 non-null  int64 \n",
      " 19  calidad_ingresos_familiares  14319 non-null  object\n",
      " 20  ingresos_familiares          14319 non-null  int64 \n",
      " 21  ingreso_per_capita_familiar  14319 non-null  int64 \n",
      " 22  estado_educativo             14319 non-null  object\n",
      " 23  sector_educativo             14316 non-null  object\n",
      " 24  nivel_actual                 14319 non-null  object\n",
      " 25  nivel_max_educativo          13265 non-null  object\n",
      " 26  años_escolaridad             14257 non-null  object\n",
      " 27  lugar_nacimiento             14318 non-null  object\n",
      " 28  afiliacion_salud             14315 non-null  object\n",
      " 29  hijos_nacidos_vivos          6535 non-null   object\n",
      " 30  cantidad_hijos_nac_vivos     14319 non-null  object\n",
      "dtypes: int64(10), object(21)\n",
      "memory usage: 3.4+ MB\n"
     ]
    }
   ],
   "source": [
    "# Vemos que datos tiene el dataset\n",
    "\n",
    "encuesta.info()"
   ]
  },
  {
   "cell_type": "code",
   "execution_count": 5,
   "metadata": {},
   "outputs": [
    {
     "data": {
      "text/plain": [
       "id                             False\n",
       "nhogar                         False\n",
       "miembro                        False\n",
       "comuna                         False\n",
       "dominio                        False\n",
       "edad                           False\n",
       "sexo                           False\n",
       "parentesco_jefe                False\n",
       "situacion_conyugal              True\n",
       "num_miembro_padre              False\n",
       "num_miembro_madre              False\n",
       "estado_ocupacional             False\n",
       "cat_ocupacional                False\n",
       "calidad_ingresos_lab           False\n",
       "ingreso_total_lab              False\n",
       "calidad_ingresos_no_lab        False\n",
       "ingreso_total_no_lab           False\n",
       "calidad_ingresos_totales       False\n",
       "ingresos_totales               False\n",
       "calidad_ingresos_familiares    False\n",
       "ingresos_familiares            False\n",
       "ingreso_per_capita_familiar    False\n",
       "estado_educativo               False\n",
       "sector_educativo                True\n",
       "nivel_actual                   False\n",
       "nivel_max_educativo             True\n",
       "años_escolaridad                True\n",
       "lugar_nacimiento                True\n",
       "afiliacion_salud                True\n",
       "hijos_nacidos_vivos             True\n",
       "cantidad_hijos_nac_vivos       False\n",
       "dtype: bool"
      ]
     },
     "execution_count": 5,
     "metadata": {},
     "output_type": "execute_result"
    }
   ],
   "source": [
    "# Revisamos valores nulos \n",
    "\n",
    "encuesta.isnull().any()"
   ]
  },
  {
   "cell_type": "code",
   "execution_count": 6,
   "metadata": {},
   "outputs": [],
   "source": [
    "# ACA EMPEZAMOS A SACAR INFORMACION QUE NO NOS SIRVE\n",
    "\n",
    "encuesta.drop(columns=['num_miembro_padre','num_miembro_madre','calidad_ingresos_no_lab','ingreso_total_no_lab','calidad_ingresos_totales','ingresos_totales','calidad_ingresos_familiares','ingresos_familiares','ingreso_per_capita_familiar','nivel_max_educativo','hijos_nacidos_vivos','calidad_ingresos_lab','sector_educativo'],inplace=True)"
   ]
  },
  {
   "cell_type": "code",
   "execution_count": 7,
   "metadata": {},
   "outputs": [
    {
     "name": "stdout",
     "output_type": "stream",
     "text": [
      "<class 'pandas.core.frame.DataFrame'>\n",
      "RangeIndex: 14319 entries, 0 to 14318\n",
      "Data columns (total 18 columns):\n",
      " #   Column                    Non-Null Count  Dtype \n",
      "---  ------                    --------------  ----- \n",
      " 0   id                        14319 non-null  int64 \n",
      " 1   nhogar                    14319 non-null  int64 \n",
      " 2   miembro                   14319 non-null  int64 \n",
      " 3   comuna                    14319 non-null  int64 \n",
      " 4   dominio                   14319 non-null  object\n",
      " 5   edad                      14319 non-null  int64 \n",
      " 6   sexo                      14319 non-null  object\n",
      " 7   parentesco_jefe           14319 non-null  object\n",
      " 8   situacion_conyugal        14318 non-null  object\n",
      " 9   estado_ocupacional        14319 non-null  object\n",
      " 10  cat_ocupacional           14319 non-null  object\n",
      " 11  ingreso_total_lab         14319 non-null  int64 \n",
      " 12  estado_educativo          14319 non-null  object\n",
      " 13  nivel_actual              14319 non-null  object\n",
      " 14  años_escolaridad          14257 non-null  object\n",
      " 15  lugar_nacimiento          14318 non-null  object\n",
      " 16  afiliacion_salud          14315 non-null  object\n",
      " 17  cantidad_hijos_nac_vivos  14319 non-null  object\n",
      "dtypes: int64(6), object(12)\n",
      "memory usage: 2.0+ MB\n"
     ]
    }
   ],
   "source": [
    "# Como queda el dataset\n",
    "\n",
    "encuesta.info()"
   ]
  },
  {
   "cell_type": "code",
   "execution_count": 8,
   "metadata": {},
   "outputs": [
    {
     "data": {
      "text/plain": [
       "array(['Resto de la Ciudad', 'Villas de emergencia'], dtype=object)"
      ]
     },
     "execution_count": 8,
     "metadata": {},
     "output_type": "execute_result"
    }
   ],
   "source": [
    "np.unique(encuesta.dominio)"
   ]
  },
  {
   "cell_type": "code",
   "execution_count": 9,
   "metadata": {},
   "outputs": [],
   "source": [
    "# Empezamos a ver como se compone cada feature"
   ]
  },
  {
   "cell_type": "code",
   "execution_count": 10,
   "metadata": {},
   "outputs": [
    {
     "data": {
      "text/plain": [
       "array(['Conyugue o pareja', 'Hijo/a - Hijastro/a', 'Jefe', 'Nieto/a',\n",
       "       'Otro familiar', 'Otro no familiar', 'Padre/Madre/Suegro/a',\n",
       "       'Servicio domestico y sus familiares', 'Yerno/nuera'], dtype=object)"
      ]
     },
     "execution_count": 10,
     "metadata": {},
     "output_type": "execute_result"
    }
   ],
   "source": [
    "encuesta['parentesco_jefe'] = encuesta['parentesco_jefe'].apply(str)\n",
    "np.unique(encuesta.parentesco_jefe)"
   ]
  },
  {
   "cell_type": "code",
   "execution_count": 11,
   "metadata": {},
   "outputs": [],
   "source": [
    "# Cambiamos estructura\n",
    "\n",
    "mask = encuesta.parentesco_jefe == 'Jefe'\n",
    "encuesta.parentesco_jefe.where(mask, 'No Jefe',inplace=True)\n"
   ]
  },
  {
   "cell_type": "code",
   "execution_count": 12,
   "metadata": {},
   "outputs": [
    {
     "data": {
      "text/plain": [
       "array(['Jefe', 'No Jefe'], dtype=object)"
      ]
     },
     "execution_count": 12,
     "metadata": {},
     "output_type": "execute_result"
    }
   ],
   "source": [
    "np.unique(encuesta.parentesco_jefe)"
   ]
  },
  {
   "cell_type": "code",
   "execution_count": 13,
   "metadata": {},
   "outputs": [
    {
     "data": {
      "text/plain": [
       "array(['Casado/a', 'Divorciado/a', 'No corresponde',\n",
       "       'Separado/a de unión o matrimonio', 'Soltero/a', 'Unido/a',\n",
       "       'Viudo/a', 'nan'], dtype=object)"
      ]
     },
     "execution_count": 13,
     "metadata": {},
     "output_type": "execute_result"
    }
   ],
   "source": [
    "encuesta['situacion_conyugal'] = encuesta['situacion_conyugal'].apply(str)\n",
    "np.unique(encuesta.situacion_conyugal)"
   ]
  },
  {
   "cell_type": "code",
   "execution_count": 14,
   "metadata": {},
   "outputs": [
    {
     "data": {
      "text/plain": [
       "Soltero/a                           3542\n",
       "Casado/a                            3511\n",
       "Unido/a                             2467\n",
       "No corresponde                      2375\n",
       "Separado/a de unión o matrimonio    1110\n",
       "Viudo/a                              797\n",
       "Divorciado/a                         516\n",
       "nan                                    1\n",
       "Name: situacion_conyugal, dtype: int64"
      ]
     },
     "execution_count": 14,
     "metadata": {},
     "output_type": "execute_result"
    }
   ],
   "source": [
    "encuesta.situacion_conyugal.value_counts()"
   ]
  },
  {
   "cell_type": "code",
   "execution_count": 15,
   "metadata": {},
   "outputs": [],
   "source": [
    "# Cambiamos estructura\n",
    "\n",
    "mask = encuesta.situacion_conyugal != 'Separado/a de unión o matrimonio'\n",
    "mask2 = encuesta.situacion_conyugal != 'No corresponde'\n",
    "mask3 = encuesta.situacion_conyugal != 'nan'\n",
    "encuesta.situacion_conyugal.where(mask, 'Soltero/a',inplace=True)\n",
    "encuesta.situacion_conyugal.where(mask2, 'Soltero/a',inplace=True)\n",
    "encuesta.situacion_conyugal.where(mask3, 'Soltero/a',inplace=True)"
   ]
  },
  {
   "cell_type": "code",
   "execution_count": 16,
   "metadata": {},
   "outputs": [
    {
     "data": {
      "text/plain": [
       "array(['Casado/a', 'Divorciado/a', 'Soltero/a', 'Unido/a', 'Viudo/a'],\n",
       "      dtype=object)"
      ]
     },
     "execution_count": 16,
     "metadata": {},
     "output_type": "execute_result"
    }
   ],
   "source": [
    "np.unique(encuesta.situacion_conyugal)"
   ]
  },
  {
   "cell_type": "code",
   "execution_count": 17,
   "metadata": {
    "scrolled": true
   },
   "outputs": [
    {
     "data": {
      "text/plain": [
       "Soltero/a       7028\n",
       "Casado/a        3511\n",
       "Unido/a         2467\n",
       "Viudo/a          797\n",
       "Divorciado/a     516\n",
       "Name: situacion_conyugal, dtype: int64"
      ]
     },
     "execution_count": 17,
     "metadata": {},
     "output_type": "execute_result"
    }
   ],
   "source": [
    "encuesta.situacion_conyugal.value_counts()"
   ]
  },
  {
   "cell_type": "code",
   "execution_count": 18,
   "metadata": {},
   "outputs": [
    {
     "data": {
      "text/plain": [
       "array(['Desocupado', 'Inactivo', 'Ocupado'], dtype=object)"
      ]
     },
     "execution_count": 18,
     "metadata": {},
     "output_type": "execute_result"
    }
   ],
   "source": [
    "encuesta['estado_ocupacional'] = encuesta['estado_ocupacional'].apply(str)\n",
    "np.unique(encuesta.estado_ocupacional)  "
   ]
  },
  {
   "cell_type": "code",
   "execution_count": 19,
   "metadata": {},
   "outputs": [
    {
     "data": {
      "text/plain": [
       "array(['Jardin maternal', 'No corresponde', 'Otras escuelas especiales',\n",
       "       'Postgrado', 'Primario adultos', 'Primario comun',\n",
       "       'Primario especial', 'Sala de 3', 'Sala de 4', 'Sala de 5',\n",
       "       'Secundario/medio adultos', 'Secundario/medio comun',\n",
       "       'Terciario/superior no universitario', 'Universitario'],\n",
       "      dtype=object)"
      ]
     },
     "execution_count": 19,
     "metadata": {},
     "output_type": "execute_result"
    }
   ],
   "source": [
    "encuesta['nivel_actual'] = encuesta['nivel_actual'].apply(str)\n",
    "np.unique(encuesta.nivel_actual)"
   ]
  },
  {
   "cell_type": "code",
   "execution_count": 20,
   "metadata": {},
   "outputs": [
    {
     "data": {
      "text/plain": [
       "No corresponde                         9903\n",
       "Primario comun                         1227\n",
       "Universitario                          1042\n",
       "Secundario/medio comun                  910\n",
       "Terciario/superior no universitario     262\n",
       "Postgrado                               180\n",
       "Sala de 4                               173\n",
       "Sala de 5                               162\n",
       "Jardin maternal                         161\n",
       "Sala de 3                               147\n",
       "Secundario/medio adultos                105\n",
       "Otras escuelas especiales                23\n",
       "Primario especial                        15\n",
       "Primario adultos                          9\n",
       "Name: nivel_actual, dtype: int64"
      ]
     },
     "execution_count": 20,
     "metadata": {},
     "output_type": "execute_result"
    }
   ],
   "source": [
    "encuesta.nivel_actual.value_counts()"
   ]
  },
  {
   "cell_type": "code",
   "execution_count": 21,
   "metadata": {},
   "outputs": [
    {
     "data": {
      "text/html": [
       "<div>\n",
       "<style scoped>\n",
       "    .dataframe tbody tr th:only-of-type {\n",
       "        vertical-align: middle;\n",
       "    }\n",
       "\n",
       "    .dataframe tbody tr th {\n",
       "        vertical-align: top;\n",
       "    }\n",
       "\n",
       "    .dataframe thead tr th {\n",
       "        text-align: left;\n",
       "    }\n",
       "\n",
       "    .dataframe thead tr:last-of-type th {\n",
       "        text-align: right;\n",
       "    }\n",
       "</style>\n",
       "<table border=\"1\" class=\"dataframe\">\n",
       "  <thead>\n",
       "    <tr>\n",
       "      <th></th>\n",
       "      <th colspan=\"3\" halign=\"left\">ingreso_total_lab</th>\n",
       "    </tr>\n",
       "    <tr>\n",
       "      <th></th>\n",
       "      <th>count</th>\n",
       "      <th>mean</th>\n",
       "      <th>sum</th>\n",
       "    </tr>\n",
       "    <tr>\n",
       "      <th>nivel_actual</th>\n",
       "      <th></th>\n",
       "      <th></th>\n",
       "      <th></th>\n",
       "    </tr>\n",
       "  </thead>\n",
       "  <tbody>\n",
       "    <tr>\n",
       "      <th>Jardin maternal</th>\n",
       "      <td>161.0</td>\n",
       "      <td>0.000000</td>\n",
       "      <td>0.0</td>\n",
       "    </tr>\n",
       "    <tr>\n",
       "      <th>No corresponde</th>\n",
       "      <td>9903.0</td>\n",
       "      <td>25649.758861</td>\n",
       "      <td>254009562.0</td>\n",
       "    </tr>\n",
       "    <tr>\n",
       "      <th>Otras escuelas especiales</th>\n",
       "      <td>23.0</td>\n",
       "      <td>0.000000</td>\n",
       "      <td>0.0</td>\n",
       "    </tr>\n",
       "    <tr>\n",
       "      <th>Postgrado</th>\n",
       "      <td>180.0</td>\n",
       "      <td>54920.000000</td>\n",
       "      <td>9885600.0</td>\n",
       "    </tr>\n",
       "    <tr>\n",
       "      <th>Primario adultos</th>\n",
       "      <td>9.0</td>\n",
       "      <td>3800.000000</td>\n",
       "      <td>34200.0</td>\n",
       "    </tr>\n",
       "    <tr>\n",
       "      <th>Primario comun</th>\n",
       "      <td>1227.0</td>\n",
       "      <td>0.162999</td>\n",
       "      <td>200.0</td>\n",
       "    </tr>\n",
       "    <tr>\n",
       "      <th>Primario especial</th>\n",
       "      <td>15.0</td>\n",
       "      <td>0.000000</td>\n",
       "      <td>0.0</td>\n",
       "    </tr>\n",
       "    <tr>\n",
       "      <th>Sala de 3</th>\n",
       "      <td>147.0</td>\n",
       "      <td>0.000000</td>\n",
       "      <td>0.0</td>\n",
       "    </tr>\n",
       "    <tr>\n",
       "      <th>Sala de 4</th>\n",
       "      <td>173.0</td>\n",
       "      <td>0.000000</td>\n",
       "      <td>0.0</td>\n",
       "    </tr>\n",
       "    <tr>\n",
       "      <th>Sala de 5</th>\n",
       "      <td>162.0</td>\n",
       "      <td>0.000000</td>\n",
       "      <td>0.0</td>\n",
       "    </tr>\n",
       "    <tr>\n",
       "      <th>Secundario/medio adultos</th>\n",
       "      <td>105.0</td>\n",
       "      <td>10655.714286</td>\n",
       "      <td>1118850.0</td>\n",
       "    </tr>\n",
       "    <tr>\n",
       "      <th>Secundario/medio comun</th>\n",
       "      <td>910.0</td>\n",
       "      <td>196.153846</td>\n",
       "      <td>178500.0</td>\n",
       "    </tr>\n",
       "    <tr>\n",
       "      <th>Terciario/superior no universitario</th>\n",
       "      <td>262.0</td>\n",
       "      <td>18552.595420</td>\n",
       "      <td>4860780.0</td>\n",
       "    </tr>\n",
       "    <tr>\n",
       "      <th>Universitario</th>\n",
       "      <td>1042.0</td>\n",
       "      <td>16716.084453</td>\n",
       "      <td>17418160.0</td>\n",
       "    </tr>\n",
       "  </tbody>\n",
       "</table>\n",
       "</div>"
      ],
      "text/plain": [
       "                                    ingreso_total_lab                \\\n",
       "                                                count          mean   \n",
       "nivel_actual                                                          \n",
       "Jardin maternal                                 161.0      0.000000   \n",
       "No corresponde                                 9903.0  25649.758861   \n",
       "Otras escuelas especiales                        23.0      0.000000   \n",
       "Postgrado                                       180.0  54920.000000   \n",
       "Primario adultos                                  9.0   3800.000000   \n",
       "Primario comun                                 1227.0      0.162999   \n",
       "Primario especial                                15.0      0.000000   \n",
       "Sala de 3                                       147.0      0.000000   \n",
       "Sala de 4                                       173.0      0.000000   \n",
       "Sala de 5                                       162.0      0.000000   \n",
       "Secundario/medio adultos                        105.0  10655.714286   \n",
       "Secundario/medio comun                          910.0    196.153846   \n",
       "Terciario/superior no universitario             262.0  18552.595420   \n",
       "Universitario                                  1042.0  16716.084453   \n",
       "\n",
       "                                                  \n",
       "                                             sum  \n",
       "nivel_actual                                      \n",
       "Jardin maternal                              0.0  \n",
       "No corresponde                       254009562.0  \n",
       "Otras escuelas especiales                    0.0  \n",
       "Postgrado                              9885600.0  \n",
       "Primario adultos                         34200.0  \n",
       "Primario comun                             200.0  \n",
       "Primario especial                            0.0  \n",
       "Sala de 3                                    0.0  \n",
       "Sala de 4                                    0.0  \n",
       "Sala de 5                                    0.0  \n",
       "Secundario/medio adultos               1118850.0  \n",
       "Secundario/medio comun                  178500.0  \n",
       "Terciario/superior no universitario    4860780.0  \n",
       "Universitario                         17418160.0  "
      ]
     },
     "execution_count": 21,
     "metadata": {},
     "output_type": "execute_result"
    }
   ],
   "source": [
    "#Miramos dentro del nivel actual como se distribuye el ingreso en funcion del mismo\n",
    "\n",
    "encuesta_nivel_actual = pd.pivot_table(encuesta,index=[\"nivel_actual\"],values=[\"ingreso_total_lab\"],aggfunc=(\"sum\",\"count\",np.mean))\n",
    "encuesta_nivel_actual"
   ]
  },
  {
   "cell_type": "code",
   "execution_count": 22,
   "metadata": {},
   "outputs": [],
   "source": [
    "#Asumimos que la categoria \"No corresponde\" son personas recibidas y las categorizamos en orden\n",
    "\n",
    "mask0 = (encuesta.nivel_actual != 'Jardin maternal') & (encuesta.nivel_actual != 'Sala de 3') & (encuesta.nivel_actual != 'Sala de 4') & (encuesta.nivel_actual != 'Sala de 5')\n",
    "mask1 = (encuesta.nivel_actual != 'Primario adultos') & (encuesta.nivel_actual != 'Primario comun') & (encuesta.nivel_actual != 'Primario especial')\n",
    "mask2 = (encuesta.nivel_actual != 'Otras escuelas especiales') & (encuesta.nivel_actual != 'Secundario/medio adultos') & (encuesta.nivel_actual != 'Secundario/medio comun')\n",
    "mask3 = (encuesta.nivel_actual != 'No corresponde')\n",
    "encuesta.nivel_actual.where(mask0, 'Jardin',inplace=True)\n",
    "encuesta.nivel_actual.where(mask1, 'Primario',inplace=True)\n",
    "encuesta.nivel_actual.where(mask2, 'Secundario',inplace=True)\n",
    "encuesta.nivel_actual.where(mask3, 'Recibido universitario',inplace=True)\n"
   ]
  },
  {
   "cell_type": "code",
   "execution_count": 23,
   "metadata": {},
   "outputs": [
    {
     "data": {
      "text/plain": [
       "array(['Jardin', 'Postgrado', 'Primario', 'Recibido universitario',\n",
       "       'Secundario', 'Terciario/superior no universitario',\n",
       "       'Universitario'], dtype=object)"
      ]
     },
     "execution_count": 23,
     "metadata": {},
     "output_type": "execute_result"
    }
   ],
   "source": [
    "np.unique(encuesta.nivel_actual)"
   ]
  },
  {
   "cell_type": "code",
   "execution_count": 24,
   "metadata": {},
   "outputs": [
    {
     "data": {
      "text/plain": [
       "Recibido universitario                 9903\n",
       "Primario                               1251\n",
       "Universitario                          1042\n",
       "Secundario                             1038\n",
       "Jardin                                  643\n",
       "Terciario/superior no universitario     262\n",
       "Postgrado                               180\n",
       "Name: nivel_actual, dtype: int64"
      ]
     },
     "execution_count": 24,
     "metadata": {},
     "output_type": "execute_result"
    }
   ],
   "source": [
    "encuesta.nivel_actual.value_counts()"
   ]
  },
  {
   "cell_type": "code",
   "execution_count": 25,
   "metadata": {},
   "outputs": [
    {
     "data": {
      "text/plain": [
       "array(['1', '10', '11', '12', '13', '14', '15', '16', '17', '18', '19',\n",
       "       '2', '3', '4', '5', '6', '7', '8', '9',\n",
       "       'Ningun año de escolaridad aprobado', 'nan'], dtype=object)"
      ]
     },
     "execution_count": 25,
     "metadata": {},
     "output_type": "execute_result"
    }
   ],
   "source": [
    "encuesta['años_escolaridad'] = encuesta['años_escolaridad'].apply(str)\n",
    "np.unique(encuesta.años_escolaridad)"
   ]
  },
  {
   "cell_type": "code",
   "execution_count": 26,
   "metadata": {},
   "outputs": [
    {
     "data": {
      "text/plain": [
       "12                                    2824\n",
       "17                                    1851\n",
       "15                                    1498\n",
       "7                                     1263\n",
       "Ningun año de escolaridad aprobado    1226\n",
       "14                                     722\n",
       "9                                      588\n",
       "19                                     557\n",
       "10                                     539\n",
       "13                                     483\n",
       "11                                     451\n",
       "8                                      397\n",
       "16                                     334\n",
       "3                                      261\n",
       "2                                      241\n",
       "6                                      229\n",
       "5                                      224\n",
       "4                                      211\n",
       "1                                      196\n",
       "18                                     162\n",
       "nan                                     62\n",
       "Name: años_escolaridad, dtype: int64"
      ]
     },
     "execution_count": 26,
     "metadata": {},
     "output_type": "execute_result"
    }
   ],
   "source": [
    "encuesta.años_escolaridad.value_counts()"
   ]
  },
  {
   "cell_type": "code",
   "execution_count": 27,
   "metadata": {},
   "outputs": [],
   "source": [
    "#Cambiamos estructura \n",
    "\n",
    "mask0 = (encuesta.años_escolaridad != 'nan') & (encuesta.años_escolaridad != 'Ningun año de escolaridad aprobado')\n",
    "encuesta.años_escolaridad.where(mask0, 0, inplace=True)"
   ]
  },
  {
   "cell_type": "code",
   "execution_count": 28,
   "metadata": {},
   "outputs": [
    {
     "data": {
      "text/plain": [
       "12    2824\n",
       "17    1851\n",
       "15    1498\n",
       "0     1288\n",
       "7     1263\n",
       "14     722\n",
       "9      588\n",
       "19     557\n",
       "10     539\n",
       "13     483\n",
       "11     451\n",
       "8      397\n",
       "16     334\n",
       "3      261\n",
       "2      241\n",
       "6      229\n",
       "5      224\n",
       "4      211\n",
       "1      196\n",
       "18     162\n",
       "Name: años_escolaridad, dtype: int64"
      ]
     },
     "execution_count": 28,
     "metadata": {},
     "output_type": "execute_result"
    }
   ],
   "source": [
    "encuesta.años_escolaridad.value_counts()"
   ]
  },
  {
   "cell_type": "code",
   "execution_count": 29,
   "metadata": {},
   "outputs": [
    {
     "data": {
      "text/plain": [
       "array(['CABA', 'Otra provincia', 'PBA excepto GBA', 'PBA sin especificar',\n",
       "       'Pais limitrofe', 'Pais no limitrofe', 'Partido GBA', 'nan'],\n",
       "      dtype=object)"
      ]
     },
     "execution_count": 29,
     "metadata": {},
     "output_type": "execute_result"
    }
   ],
   "source": [
    "encuesta['lugar_nacimiento'] = encuesta['lugar_nacimiento'].apply(str)\n",
    "np.unique(encuesta.lugar_nacimiento)"
   ]
  },
  {
   "cell_type": "code",
   "execution_count": 30,
   "metadata": {},
   "outputs": [
    {
     "data": {
      "text/plain": [
       "CABA                   8750\n",
       "Otra provincia         1615\n",
       "Pais limitrofe         1206\n",
       "Partido GBA            1147\n",
       "Pais no limitrofe      1030\n",
       "PBA excepto GBA         565\n",
       "PBA sin especificar       5\n",
       "nan                       1\n",
       "Name: lugar_nacimiento, dtype: int64"
      ]
     },
     "execution_count": 30,
     "metadata": {},
     "output_type": "execute_result"
    }
   ],
   "source": [
    "encuesta.lugar_nacimiento.value_counts()"
   ]
  },
  {
   "cell_type": "code",
   "execution_count": 31,
   "metadata": {},
   "outputs": [],
   "source": [
    "#Cambiamos estructura \n",
    "\n",
    "mask0 = (encuesta.lugar_nacimiento != 'nan') & (encuesta.lugar_nacimiento != 'PBA excepto GBA') & (encuesta.lugar_nacimiento != 'PBA sin especificar') \n",
    "mask1 = (encuesta.lugar_nacimiento != 'Pais limitrofe') & (encuesta.lugar_nacimiento != 'Pais no limitrofe') \n",
    "encuesta.lugar_nacimiento.where(mask0, 'PBA', inplace=True)\n",
    "encuesta.lugar_nacimiento.where(mask1, 'Otro pais', inplace=True)\n",
    "\n"
   ]
  },
  {
   "cell_type": "code",
   "execution_count": 32,
   "metadata": {},
   "outputs": [
    {
     "data": {
      "text/plain": [
       "array(['CABA', 'Otra provincia', 'Otro pais', 'PBA', 'Partido GBA'],\n",
       "      dtype=object)"
      ]
     },
     "execution_count": 32,
     "metadata": {},
     "output_type": "execute_result"
    }
   ],
   "source": [
    "encuesta['lugar_nacimiento'] = encuesta['lugar_nacimiento'].apply(str)\n",
    "np.unique(encuesta.lugar_nacimiento)"
   ]
  },
  {
   "cell_type": "code",
   "execution_count": 33,
   "metadata": {},
   "outputs": [],
   "source": [
    "#Cambiamos estructura \n",
    "\n",
    "mask0 = (encuesta.afiliacion_salud != 'nan')\n",
    "encuesta.afiliacion_salud.where(mask0, 'Solo sistema publico', inplace=True)"
   ]
  },
  {
   "cell_type": "code",
   "execution_count": 34,
   "metadata": {},
   "outputs": [
    {
     "data": {
      "text/plain": [
       "array(['Otros', 'Solo obra social',\n",
       "       'Solo plan de medicina prepaga por contratación voluntaria',\n",
       "       'Solo prepaga o mutual via OS', 'Solo sistema publico', 'nan'],\n",
       "      dtype=object)"
      ]
     },
     "execution_count": 34,
     "metadata": {},
     "output_type": "execute_result"
    }
   ],
   "source": [
    "encuesta['afiliacion_salud'] = encuesta['afiliacion_salud'].apply(str)\n",
    "np.unique(encuesta.afiliacion_salud)"
   ]
  },
  {
   "cell_type": "code",
   "execution_count": 35,
   "metadata": {},
   "outputs": [
    {
     "data": {
      "text/plain": [
       "array(['1', '10', '11', '12', '15', '2', '3', '4', '5', '6', '7', '8',\n",
       "       '9', 'No corresponde'], dtype=object)"
      ]
     },
     "execution_count": 35,
     "metadata": {},
     "output_type": "execute_result"
    }
   ],
   "source": [
    "np.unique(encuesta.cantidad_hijos_nac_vivos)"
   ]
  },
  {
   "cell_type": "code",
   "execution_count": 36,
   "metadata": {},
   "outputs": [
    {
     "data": {
      "text/plain": [
       "No corresponde    10286\n",
       "2                  1633\n",
       "1                  1168\n",
       "3                   765\n",
       "4                   269\n",
       "5                    94\n",
       "6                    48\n",
       "7                    31\n",
       "8                     8\n",
       "9                     6\n",
       "11                    5\n",
       "10                    3\n",
       "12                    2\n",
       "15                    1\n",
       "Name: cantidad_hijos_nac_vivos, dtype: int64"
      ]
     },
     "execution_count": 36,
     "metadata": {},
     "output_type": "execute_result"
    }
   ],
   "source": [
    "encuesta.cantidad_hijos_nac_vivos.value_counts()"
   ]
  },
  {
   "cell_type": "code",
   "execution_count": 37,
   "metadata": {},
   "outputs": [],
   "source": [
    "#Cambiamos estructura \n",
    "\n",
    "mask0 = (encuesta.cantidad_hijos_nac_vivos != 'No corresponde')\n",
    "encuesta.cantidad_hijos_nac_vivos.where(mask0, 0, inplace=True)"
   ]
  },
  {
   "cell_type": "code",
   "execution_count": 38,
   "metadata": {},
   "outputs": [
    {
     "data": {
      "text/plain": [
       "0     10286\n",
       "2      1633\n",
       "1      1168\n",
       "3       765\n",
       "4       269\n",
       "5        94\n",
       "6        48\n",
       "7        31\n",
       "8         8\n",
       "9         6\n",
       "11        5\n",
       "10        3\n",
       "12        2\n",
       "15        1\n",
       "Name: cantidad_hijos_nac_vivos, dtype: int64"
      ]
     },
     "execution_count": 38,
     "metadata": {},
     "output_type": "execute_result"
    }
   ],
   "source": [
    "encuesta.cantidad_hijos_nac_vivos.value_counts()"
   ]
  },
  {
   "cell_type": "markdown",
   "metadata": {},
   "source": [
    "# Empezamos con los modelos de regresion"
   ]
  },
  {
   "cell_type": "code",
   "execution_count": 39,
   "metadata": {},
   "outputs": [
    {
     "data": {
      "text/plain": [
       "(6824, 18)"
      ]
     },
     "execution_count": 39,
     "metadata": {},
     "output_type": "execute_result"
    }
   ],
   "source": [
    "#Seleccionamos solo a las personas entre 18 a 65 años con ingreso laboral mayor a 0\n",
    "\n",
    "enc_18a65 = encuesta.loc[(encuesta['edad']>=18)&(encuesta['edad']<=65)&(encuesta['ingreso_total_lab']>0)]\n",
    "np.shape(enc_18a65)"
   ]
  },
  {
   "cell_type": "code",
   "execution_count": 56,
   "metadata": {},
   "outputs": [
    {
     "data": {
      "text/html": [
       "<div>\n",
       "<style scoped>\n",
       "    .dataframe tbody tr th:only-of-type {\n",
       "        vertical-align: middle;\n",
       "    }\n",
       "\n",
       "    .dataframe tbody tr th {\n",
       "        vertical-align: top;\n",
       "    }\n",
       "\n",
       "    .dataframe thead th {\n",
       "        text-align: right;\n",
       "    }\n",
       "</style>\n",
       "<table border=\"1\" class=\"dataframe\">\n",
       "  <thead>\n",
       "    <tr style=\"text-align: right;\">\n",
       "      <th></th>\n",
       "      <th>id</th>\n",
       "      <th>nhogar</th>\n",
       "      <th>miembro</th>\n",
       "      <th>comuna</th>\n",
       "      <th>dominio</th>\n",
       "      <th>edad</th>\n",
       "      <th>sexo</th>\n",
       "      <th>parentesco_jefe</th>\n",
       "      <th>situacion_conyugal</th>\n",
       "      <th>estado_ocupacional</th>\n",
       "      <th>cat_ocupacional</th>\n",
       "      <th>ingreso_total_lab</th>\n",
       "      <th>estado_educativo</th>\n",
       "      <th>nivel_actual</th>\n",
       "      <th>años_escolaridad</th>\n",
       "      <th>lugar_nacimiento</th>\n",
       "      <th>afiliacion_salud</th>\n",
       "      <th>cantidad_hijos_nac_vivos</th>\n",
       "    </tr>\n",
       "  </thead>\n",
       "  <tbody>\n",
       "    <tr>\n",
       "      <th>3</th>\n",
       "      <td>2</td>\n",
       "      <td>1</td>\n",
       "      <td>2</td>\n",
       "      <td>2</td>\n",
       "      <td>Resto de la Ciudad</td>\n",
       "      <td>50</td>\n",
       "      <td>Mujer</td>\n",
       "      <td>No Jefe</td>\n",
       "      <td>Viudo/a</td>\n",
       "      <td>Ocupado</td>\n",
       "      <td>Asalariado</td>\n",
       "      <td>70000</td>\n",
       "      <td>No asiste pero asistió</td>\n",
       "      <td>Recibido universitario</td>\n",
       "      <td>17</td>\n",
       "      <td>CABA</td>\n",
       "      <td>Solo prepaga o mutual via OS</td>\n",
       "      <td>2</td>\n",
       "    </tr>\n",
       "    <tr>\n",
       "      <th>6</th>\n",
       "      <td>3</td>\n",
       "      <td>1</td>\n",
       "      <td>2</td>\n",
       "      <td>10</td>\n",
       "      <td>Resto de la Ciudad</td>\n",
       "      <td>21</td>\n",
       "      <td>Varon</td>\n",
       "      <td>No Jefe</td>\n",
       "      <td>Unido/a</td>\n",
       "      <td>Ocupado</td>\n",
       "      <td>Asalariado</td>\n",
       "      <td>44000</td>\n",
       "      <td>No asiste pero asistió</td>\n",
       "      <td>Recibido universitario</td>\n",
       "      <td>12</td>\n",
       "      <td>CABA</td>\n",
       "      <td>Solo obra social</td>\n",
       "      <td>0</td>\n",
       "    </tr>\n",
       "    <tr>\n",
       "      <th>10</th>\n",
       "      <td>5</td>\n",
       "      <td>1</td>\n",
       "      <td>1</td>\n",
       "      <td>8</td>\n",
       "      <td>Resto de la Ciudad</td>\n",
       "      <td>19</td>\n",
       "      <td>Mujer</td>\n",
       "      <td>Jefe</td>\n",
       "      <td>Soltero/a</td>\n",
       "      <td>Ocupado</td>\n",
       "      <td>Asalariado</td>\n",
       "      <td>28000</td>\n",
       "      <td>Asiste</td>\n",
       "      <td>Terciario/superior no universitario</td>\n",
       "      <td>13</td>\n",
       "      <td>Otra provincia</td>\n",
       "      <td>Solo obra social</td>\n",
       "      <td>0</td>\n",
       "    </tr>\n",
       "    <tr>\n",
       "      <th>11</th>\n",
       "      <td>5</td>\n",
       "      <td>2</td>\n",
       "      <td>1</td>\n",
       "      <td>8</td>\n",
       "      <td>Resto de la Ciudad</td>\n",
       "      <td>23</td>\n",
       "      <td>Mujer</td>\n",
       "      <td>Jefe</td>\n",
       "      <td>Soltero/a</td>\n",
       "      <td>Ocupado</td>\n",
       "      <td>Asalariado</td>\n",
       "      <td>25000</td>\n",
       "      <td>Asiste</td>\n",
       "      <td>Terciario/superior no universitario</td>\n",
       "      <td>13</td>\n",
       "      <td>Otra provincia</td>\n",
       "      <td>Solo obra social</td>\n",
       "      <td>0</td>\n",
       "    </tr>\n",
       "    <tr>\n",
       "      <th>24</th>\n",
       "      <td>14</td>\n",
       "      <td>1</td>\n",
       "      <td>1</td>\n",
       "      <td>6</td>\n",
       "      <td>Resto de la Ciudad</td>\n",
       "      <td>19</td>\n",
       "      <td>Varon</td>\n",
       "      <td>Jefe</td>\n",
       "      <td>Soltero/a</td>\n",
       "      <td>Ocupado</td>\n",
       "      <td>Asalariado</td>\n",
       "      <td>22000</td>\n",
       "      <td>No asiste pero asistió</td>\n",
       "      <td>Recibido universitario</td>\n",
       "      <td>11</td>\n",
       "      <td>Partido GBA</td>\n",
       "      <td>Solo obra social</td>\n",
       "      <td>0</td>\n",
       "    </tr>\n",
       "    <tr>\n",
       "      <th>...</th>\n",
       "      <td>...</td>\n",
       "      <td>...</td>\n",
       "      <td>...</td>\n",
       "      <td>...</td>\n",
       "      <td>...</td>\n",
       "      <td>...</td>\n",
       "      <td>...</td>\n",
       "      <td>...</td>\n",
       "      <td>...</td>\n",
       "      <td>...</td>\n",
       "      <td>...</td>\n",
       "      <td>...</td>\n",
       "      <td>...</td>\n",
       "      <td>...</td>\n",
       "      <td>...</td>\n",
       "      <td>...</td>\n",
       "      <td>...</td>\n",
       "      <td>...</td>\n",
       "    </tr>\n",
       "    <tr>\n",
       "      <th>14285</th>\n",
       "      <td>5776</td>\n",
       "      <td>1</td>\n",
       "      <td>2</td>\n",
       "      <td>13</td>\n",
       "      <td>Resto de la Ciudad</td>\n",
       "      <td>52</td>\n",
       "      <td>Varon</td>\n",
       "      <td>No Jefe</td>\n",
       "      <td>Soltero/a</td>\n",
       "      <td>Ocupado</td>\n",
       "      <td>Asalariado</td>\n",
       "      <td>30000</td>\n",
       "      <td>Asiste</td>\n",
       "      <td>Universitario</td>\n",
       "      <td>12</td>\n",
       "      <td>Partido GBA</td>\n",
       "      <td>Solo obra social</td>\n",
       "      <td>0</td>\n",
       "    </tr>\n",
       "    <tr>\n",
       "      <th>14288</th>\n",
       "      <td>5778</td>\n",
       "      <td>1</td>\n",
       "      <td>2</td>\n",
       "      <td>6</td>\n",
       "      <td>Resto de la Ciudad</td>\n",
       "      <td>54</td>\n",
       "      <td>Mujer</td>\n",
       "      <td>No Jefe</td>\n",
       "      <td>Viudo/a</td>\n",
       "      <td>Ocupado</td>\n",
       "      <td>Asalariado</td>\n",
       "      <td>24000</td>\n",
       "      <td>No asiste pero asistió</td>\n",
       "      <td>Recibido universitario</td>\n",
       "      <td>10</td>\n",
       "      <td>Partido GBA</td>\n",
       "      <td>Solo obra social</td>\n",
       "      <td>2</td>\n",
       "    </tr>\n",
       "    <tr>\n",
       "      <th>14293</th>\n",
       "      <td>5781</td>\n",
       "      <td>1</td>\n",
       "      <td>3</td>\n",
       "      <td>7</td>\n",
       "      <td>Resto de la Ciudad</td>\n",
       "      <td>31</td>\n",
       "      <td>Mujer</td>\n",
       "      <td>No Jefe</td>\n",
       "      <td>Soltero/a</td>\n",
       "      <td>Ocupado</td>\n",
       "      <td>Asalariado</td>\n",
       "      <td>28000</td>\n",
       "      <td>No asiste pero asistió</td>\n",
       "      <td>Recibido universitario</td>\n",
       "      <td>14</td>\n",
       "      <td>CABA</td>\n",
       "      <td>Solo obra social</td>\n",
       "      <td>2</td>\n",
       "    </tr>\n",
       "    <tr>\n",
       "      <th>14308</th>\n",
       "      <td>5790</td>\n",
       "      <td>1</td>\n",
       "      <td>2</td>\n",
       "      <td>13</td>\n",
       "      <td>Resto de la Ciudad</td>\n",
       "      <td>37</td>\n",
       "      <td>Mujer</td>\n",
       "      <td>No Jefe</td>\n",
       "      <td>Soltero/a</td>\n",
       "      <td>Ocupado</td>\n",
       "      <td>Asalariado</td>\n",
       "      <td>38000</td>\n",
       "      <td>No asiste pero asistió</td>\n",
       "      <td>Recibido universitario</td>\n",
       "      <td>12</td>\n",
       "      <td>Otra provincia</td>\n",
       "      <td>Solo obra social</td>\n",
       "      <td>1</td>\n",
       "    </tr>\n",
       "    <tr>\n",
       "      <th>14313</th>\n",
       "      <td>5793</td>\n",
       "      <td>1</td>\n",
       "      <td>2</td>\n",
       "      <td>6</td>\n",
       "      <td>Resto de la Ciudad</td>\n",
       "      <td>52</td>\n",
       "      <td>Mujer</td>\n",
       "      <td>No Jefe</td>\n",
       "      <td>Unido/a</td>\n",
       "      <td>Ocupado</td>\n",
       "      <td>Asalariado</td>\n",
       "      <td>30000</td>\n",
       "      <td>No asiste pero asistió</td>\n",
       "      <td>Recibido universitario</td>\n",
       "      <td>7</td>\n",
       "      <td>Otro pais</td>\n",
       "      <td>Solo obra social</td>\n",
       "      <td>3</td>\n",
       "    </tr>\n",
       "  </tbody>\n",
       "</table>\n",
       "<p>6824 rows × 18 columns</p>\n",
       "</div>"
      ],
      "text/plain": [
       "         id  nhogar  miembro  comuna             dominio  edad   sexo  \\\n",
       "3         2       1        2       2  Resto de la Ciudad    50  Mujer   \n",
       "6         3       1        2      10  Resto de la Ciudad    21  Varon   \n",
       "10        5       1        1       8  Resto de la Ciudad    19  Mujer   \n",
       "11        5       2        1       8  Resto de la Ciudad    23  Mujer   \n",
       "24       14       1        1       6  Resto de la Ciudad    19  Varon   \n",
       "...     ...     ...      ...     ...                 ...   ...    ...   \n",
       "14285  5776       1        2      13  Resto de la Ciudad    52  Varon   \n",
       "14288  5778       1        2       6  Resto de la Ciudad    54  Mujer   \n",
       "14293  5781       1        3       7  Resto de la Ciudad    31  Mujer   \n",
       "14308  5790       1        2      13  Resto de la Ciudad    37  Mujer   \n",
       "14313  5793       1        2       6  Resto de la Ciudad    52  Mujer   \n",
       "\n",
       "      parentesco_jefe situacion_conyugal estado_ocupacional cat_ocupacional  \\\n",
       "3             No Jefe            Viudo/a            Ocupado      Asalariado   \n",
       "6             No Jefe            Unido/a            Ocupado      Asalariado   \n",
       "10               Jefe          Soltero/a            Ocupado      Asalariado   \n",
       "11               Jefe          Soltero/a            Ocupado      Asalariado   \n",
       "24               Jefe          Soltero/a            Ocupado      Asalariado   \n",
       "...               ...                ...                ...             ...   \n",
       "14285         No Jefe          Soltero/a            Ocupado      Asalariado   \n",
       "14288         No Jefe            Viudo/a            Ocupado      Asalariado   \n",
       "14293         No Jefe          Soltero/a            Ocupado      Asalariado   \n",
       "14308         No Jefe          Soltero/a            Ocupado      Asalariado   \n",
       "14313         No Jefe            Unido/a            Ocupado      Asalariado   \n",
       "\n",
       "       ingreso_total_lab        estado_educativo  \\\n",
       "3                  70000  No asiste pero asistió   \n",
       "6                  44000  No asiste pero asistió   \n",
       "10                 28000                  Asiste   \n",
       "11                 25000                  Asiste   \n",
       "24                 22000  No asiste pero asistió   \n",
       "...                  ...                     ...   \n",
       "14285              30000                  Asiste   \n",
       "14288              24000  No asiste pero asistió   \n",
       "14293              28000  No asiste pero asistió   \n",
       "14308              38000  No asiste pero asistió   \n",
       "14313              30000  No asiste pero asistió   \n",
       "\n",
       "                              nivel_actual años_escolaridad lugar_nacimiento  \\\n",
       "3                   Recibido universitario               17             CABA   \n",
       "6                   Recibido universitario               12             CABA   \n",
       "10     Terciario/superior no universitario               13   Otra provincia   \n",
       "11     Terciario/superior no universitario               13   Otra provincia   \n",
       "24                  Recibido universitario               11      Partido GBA   \n",
       "...                                    ...              ...              ...   \n",
       "14285                        Universitario               12      Partido GBA   \n",
       "14288               Recibido universitario               10      Partido GBA   \n",
       "14293               Recibido universitario               14             CABA   \n",
       "14308               Recibido universitario               12   Otra provincia   \n",
       "14313               Recibido universitario                7        Otro pais   \n",
       "\n",
       "                   afiliacion_salud cantidad_hijos_nac_vivos  \n",
       "3      Solo prepaga o mutual via OS                        2  \n",
       "6                  Solo obra social                        0  \n",
       "10                 Solo obra social                        0  \n",
       "11                 Solo obra social                        0  \n",
       "24                 Solo obra social                        0  \n",
       "...                             ...                      ...  \n",
       "14285              Solo obra social                        0  \n",
       "14288              Solo obra social                        2  \n",
       "14293              Solo obra social                        2  \n",
       "14308              Solo obra social                        1  \n",
       "14313              Solo obra social                        3  \n",
       "\n",
       "[6824 rows x 18 columns]"
      ]
     },
     "execution_count": 56,
     "metadata": {},
     "output_type": "execute_result"
    }
   ],
   "source": [
    "enc_18a65_pos = enc_18a65.loc[enc_18a65[\"ingreso_total_lab\"] > 0]\n",
    "enc_18a65_pos"
   ]
  },
  {
   "cell_type": "code",
   "execution_count": 58,
   "metadata": {},
   "outputs": [
    {
     "data": {
      "text/plain": [
       "count    6824.000000\n",
       "mean        4.435173\n",
       "std         0.404873\n",
       "min         2.000000\n",
       "25%         4.255273\n",
       "50%         4.477121\n",
       "75%         4.698970\n",
       "max         6.000000\n",
       "Name: ingreso_total_lab, dtype: float64"
      ]
     },
     "execution_count": 58,
     "metadata": {},
     "output_type": "execute_result"
    }
   ],
   "source": [
    "enc_18a65_pos['ingreso_total_lab'] = np.log10(enc_18a65_pos[\"ingreso_total_lab\"])\n",
    "enc_18a65_pos.ingreso_total_lab.describe()"
   ]
  },
  {
   "cell_type": "code",
   "execution_count": 60,
   "metadata": {},
   "outputs": [],
   "source": [
    "#Aplicamos LabelEncoder a las variables categoricas \n",
    "\n",
    "cols = ('dominio','parentesco_jefe','estado_ocupacional','nivel_actual','afiliacion_salud','cat_ocupacional','estado_educativo')\n",
    "\n",
    "for c in cols:\n",
    "    lbl = LabelEncoder() \n",
    "    lbl.fit(list(enc_18a65_pos[c].values)) \n",
    "    enc_18a65_pos[c] = lbl.transform(list(enc_18a65_pos[c].values))"
   ]
  },
  {
   "cell_type": "code",
   "execution_count": 61,
   "metadata": {},
   "outputs": [],
   "source": [
    "enc_18a65_pos = pd.get_dummies(enc_18a65_pos,columns=['sexo','situacion_conyugal','lugar_nacimiento'])"
   ]
  },
  {
   "cell_type": "code",
   "execution_count": 62,
   "metadata": {
    "scrolled": true
   },
   "outputs": [
    {
     "name": "stdout",
     "output_type": "stream",
     "text": [
      "<class 'pandas.core.frame.DataFrame'>\n",
      "Int64Index: 6824 entries, 3 to 14313\n",
      "Data columns (total 27 columns):\n",
      " #   Column                           Non-Null Count  Dtype  \n",
      "---  ------                           --------------  -----  \n",
      " 0   id                               6824 non-null   int64  \n",
      " 1   nhogar                           6824 non-null   int64  \n",
      " 2   miembro                          6824 non-null   int64  \n",
      " 3   comuna                           6824 non-null   int64  \n",
      " 4   dominio                          6824 non-null   int64  \n",
      " 5   edad                             6824 non-null   int64  \n",
      " 6   parentesco_jefe                  6824 non-null   int64  \n",
      " 7   estado_ocupacional               6824 non-null   int64  \n",
      " 8   cat_ocupacional                  6824 non-null   int64  \n",
      " 9   ingreso_total_lab                6824 non-null   float64\n",
      " 10  estado_educativo                 6824 non-null   int64  \n",
      " 11  nivel_actual                     6824 non-null   int64  \n",
      " 12  años_escolaridad                 6824 non-null   object \n",
      " 13  afiliacion_salud                 6824 non-null   int64  \n",
      " 14  cantidad_hijos_nac_vivos         6824 non-null   object \n",
      " 15  sexo_Mujer                       6824 non-null   uint8  \n",
      " 16  sexo_Varon                       6824 non-null   uint8  \n",
      " 17  situacion_conyugal_Casado/a      6824 non-null   uint8  \n",
      " 18  situacion_conyugal_Divorciado/a  6824 non-null   uint8  \n",
      " 19  situacion_conyugal_Soltero/a     6824 non-null   uint8  \n",
      " 20  situacion_conyugal_Unido/a       6824 non-null   uint8  \n",
      " 21  situacion_conyugal_Viudo/a       6824 non-null   uint8  \n",
      " 22  lugar_nacimiento_CABA            6824 non-null   uint8  \n",
      " 23  lugar_nacimiento_Otra provincia  6824 non-null   uint8  \n",
      " 24  lugar_nacimiento_Otro pais       6824 non-null   uint8  \n",
      " 25  lugar_nacimiento_PBA             6824 non-null   uint8  \n",
      " 26  lugar_nacimiento_Partido GBA     6824 non-null   uint8  \n",
      "dtypes: float64(1), int64(12), object(2), uint8(12)\n",
      "memory usage: 933.0+ KB\n"
     ]
    }
   ],
   "source": [
    "enc_18a65_pos.info()"
   ]
  },
  {
   "cell_type": "code",
   "execution_count": 63,
   "metadata": {},
   "outputs": [],
   "source": [
    "enc_18a65_pos = enc_18a65_pos.reset_index()"
   ]
  },
  {
   "cell_type": "code",
   "execution_count": 64,
   "metadata": {},
   "outputs": [
    {
     "data": {
      "text/html": [
       "<div>\n",
       "<style scoped>\n",
       "    .dataframe tbody tr th:only-of-type {\n",
       "        vertical-align: middle;\n",
       "    }\n",
       "\n",
       "    .dataframe tbody tr th {\n",
       "        vertical-align: top;\n",
       "    }\n",
       "\n",
       "    .dataframe thead th {\n",
       "        text-align: right;\n",
       "    }\n",
       "</style>\n",
       "<table border=\"1\" class=\"dataframe\">\n",
       "  <thead>\n",
       "    <tr style=\"text-align: right;\">\n",
       "      <th></th>\n",
       "      <th>index</th>\n",
       "      <th>id</th>\n",
       "      <th>nhogar</th>\n",
       "      <th>miembro</th>\n",
       "      <th>comuna</th>\n",
       "      <th>dominio</th>\n",
       "      <th>edad</th>\n",
       "      <th>parentesco_jefe</th>\n",
       "      <th>estado_ocupacional</th>\n",
       "      <th>cat_ocupacional</th>\n",
       "      <th>...</th>\n",
       "      <th>situacion_conyugal_Casado/a</th>\n",
       "      <th>situacion_conyugal_Divorciado/a</th>\n",
       "      <th>situacion_conyugal_Soltero/a</th>\n",
       "      <th>situacion_conyugal_Unido/a</th>\n",
       "      <th>situacion_conyugal_Viudo/a</th>\n",
       "      <th>lugar_nacimiento_CABA</th>\n",
       "      <th>lugar_nacimiento_Otra provincia</th>\n",
       "      <th>lugar_nacimiento_Otro pais</th>\n",
       "      <th>lugar_nacimiento_PBA</th>\n",
       "      <th>lugar_nacimiento_Partido GBA</th>\n",
       "    </tr>\n",
       "  </thead>\n",
       "  <tbody>\n",
       "    <tr>\n",
       "      <th>0</th>\n",
       "      <td>3</td>\n",
       "      <td>2</td>\n",
       "      <td>1</td>\n",
       "      <td>2</td>\n",
       "      <td>2</td>\n",
       "      <td>0</td>\n",
       "      <td>50</td>\n",
       "      <td>1</td>\n",
       "      <td>2</td>\n",
       "      <td>0</td>\n",
       "      <td>...</td>\n",
       "      <td>0</td>\n",
       "      <td>0</td>\n",
       "      <td>0</td>\n",
       "      <td>0</td>\n",
       "      <td>1</td>\n",
       "      <td>1</td>\n",
       "      <td>0</td>\n",
       "      <td>0</td>\n",
       "      <td>0</td>\n",
       "      <td>0</td>\n",
       "    </tr>\n",
       "    <tr>\n",
       "      <th>1</th>\n",
       "      <td>6</td>\n",
       "      <td>3</td>\n",
       "      <td>1</td>\n",
       "      <td>2</td>\n",
       "      <td>10</td>\n",
       "      <td>0</td>\n",
       "      <td>21</td>\n",
       "      <td>1</td>\n",
       "      <td>2</td>\n",
       "      <td>0</td>\n",
       "      <td>...</td>\n",
       "      <td>0</td>\n",
       "      <td>0</td>\n",
       "      <td>0</td>\n",
       "      <td>1</td>\n",
       "      <td>0</td>\n",
       "      <td>1</td>\n",
       "      <td>0</td>\n",
       "      <td>0</td>\n",
       "      <td>0</td>\n",
       "      <td>0</td>\n",
       "    </tr>\n",
       "    <tr>\n",
       "      <th>2</th>\n",
       "      <td>10</td>\n",
       "      <td>5</td>\n",
       "      <td>1</td>\n",
       "      <td>1</td>\n",
       "      <td>8</td>\n",
       "      <td>0</td>\n",
       "      <td>19</td>\n",
       "      <td>0</td>\n",
       "      <td>2</td>\n",
       "      <td>0</td>\n",
       "      <td>...</td>\n",
       "      <td>0</td>\n",
       "      <td>0</td>\n",
       "      <td>1</td>\n",
       "      <td>0</td>\n",
       "      <td>0</td>\n",
       "      <td>0</td>\n",
       "      <td>1</td>\n",
       "      <td>0</td>\n",
       "      <td>0</td>\n",
       "      <td>0</td>\n",
       "    </tr>\n",
       "    <tr>\n",
       "      <th>3</th>\n",
       "      <td>11</td>\n",
       "      <td>5</td>\n",
       "      <td>2</td>\n",
       "      <td>1</td>\n",
       "      <td>8</td>\n",
       "      <td>0</td>\n",
       "      <td>23</td>\n",
       "      <td>0</td>\n",
       "      <td>2</td>\n",
       "      <td>0</td>\n",
       "      <td>...</td>\n",
       "      <td>0</td>\n",
       "      <td>0</td>\n",
       "      <td>1</td>\n",
       "      <td>0</td>\n",
       "      <td>0</td>\n",
       "      <td>0</td>\n",
       "      <td>1</td>\n",
       "      <td>0</td>\n",
       "      <td>0</td>\n",
       "      <td>0</td>\n",
       "    </tr>\n",
       "    <tr>\n",
       "      <th>4</th>\n",
       "      <td>24</td>\n",
       "      <td>14</td>\n",
       "      <td>1</td>\n",
       "      <td>1</td>\n",
       "      <td>6</td>\n",
       "      <td>0</td>\n",
       "      <td>19</td>\n",
       "      <td>0</td>\n",
       "      <td>2</td>\n",
       "      <td>0</td>\n",
       "      <td>...</td>\n",
       "      <td>0</td>\n",
       "      <td>0</td>\n",
       "      <td>1</td>\n",
       "      <td>0</td>\n",
       "      <td>0</td>\n",
       "      <td>0</td>\n",
       "      <td>0</td>\n",
       "      <td>0</td>\n",
       "      <td>0</td>\n",
       "      <td>1</td>\n",
       "    </tr>\n",
       "  </tbody>\n",
       "</table>\n",
       "<p>5 rows × 28 columns</p>\n",
       "</div>"
      ],
      "text/plain": [
       "   index  id  nhogar  miembro  comuna  dominio  edad  parentesco_jefe  \\\n",
       "0      3   2       1        2       2        0    50                1   \n",
       "1      6   3       1        2      10        0    21                1   \n",
       "2     10   5       1        1       8        0    19                0   \n",
       "3     11   5       2        1       8        0    23                0   \n",
       "4     24  14       1        1       6        0    19                0   \n",
       "\n",
       "   estado_ocupacional  cat_ocupacional  ...  situacion_conyugal_Casado/a  \\\n",
       "0                   2                0  ...                            0   \n",
       "1                   2                0  ...                            0   \n",
       "2                   2                0  ...                            0   \n",
       "3                   2                0  ...                            0   \n",
       "4                   2                0  ...                            0   \n",
       "\n",
       "   situacion_conyugal_Divorciado/a  situacion_conyugal_Soltero/a  \\\n",
       "0                                0                             0   \n",
       "1                                0                             0   \n",
       "2                                0                             1   \n",
       "3                                0                             1   \n",
       "4                                0                             1   \n",
       "\n",
       "  situacion_conyugal_Unido/a  situacion_conyugal_Viudo/a  \\\n",
       "0                          0                           1   \n",
       "1                          1                           0   \n",
       "2                          0                           0   \n",
       "3                          0                           0   \n",
       "4                          0                           0   \n",
       "\n",
       "  lugar_nacimiento_CABA  lugar_nacimiento_Otra provincia  \\\n",
       "0                     1                                0   \n",
       "1                     1                                0   \n",
       "2                     0                                1   \n",
       "3                     0                                1   \n",
       "4                     0                                0   \n",
       "\n",
       "   lugar_nacimiento_Otro pais  lugar_nacimiento_PBA  \\\n",
       "0                           0                     0   \n",
       "1                           0                     0   \n",
       "2                           0                     0   \n",
       "3                           0                     0   \n",
       "4                           0                     0   \n",
       "\n",
       "   lugar_nacimiento_Partido GBA  \n",
       "0                             0  \n",
       "1                             0  \n",
       "2                             0  \n",
       "3                             0  \n",
       "4                             1  \n",
       "\n",
       "[5 rows x 28 columns]"
      ]
     },
     "execution_count": 64,
     "metadata": {},
     "output_type": "execute_result"
    }
   ],
   "source": [
    "enc_18a65_pos.head()\n"
   ]
  },
  {
   "cell_type": "code",
   "execution_count": 65,
   "metadata": {},
   "outputs": [],
   "source": [
    "enc_18a65_pos = enc_18a65_pos.drop(columns=['sexo_Varon','lugar_nacimiento_Otro pais','situacion_conyugal_Viudo/a'])"
   ]
  },
  {
   "cell_type": "code",
   "execution_count": 66,
   "metadata": {},
   "outputs": [],
   "source": [
    "def clean_dataset(df):\n",
    "    assert isinstance(df, pd.DataFrame), \"df needs to be a pd.DataFrame\"\n",
    "    df.dropna(inplace=True)\n",
    "    indices_to_keep = ~df.isin([np.nan, np.inf, -np.inf]).any(1)\n",
    "    return df[indices_to_keep].astype(np.float64)"
   ]
  },
  {
   "cell_type": "code",
   "execution_count": 67,
   "metadata": {},
   "outputs": [
    {
     "data": {
      "text/html": [
       "<div>\n",
       "<style scoped>\n",
       "    .dataframe tbody tr th:only-of-type {\n",
       "        vertical-align: middle;\n",
       "    }\n",
       "\n",
       "    .dataframe tbody tr th {\n",
       "        vertical-align: top;\n",
       "    }\n",
       "\n",
       "    .dataframe thead th {\n",
       "        text-align: right;\n",
       "    }\n",
       "</style>\n",
       "<table border=\"1\" class=\"dataframe\">\n",
       "  <thead>\n",
       "    <tr style=\"text-align: right;\">\n",
       "      <th></th>\n",
       "      <th>index</th>\n",
       "      <th>id</th>\n",
       "      <th>nhogar</th>\n",
       "      <th>miembro</th>\n",
       "      <th>comuna</th>\n",
       "      <th>dominio</th>\n",
       "      <th>edad</th>\n",
       "      <th>parentesco_jefe</th>\n",
       "      <th>estado_ocupacional</th>\n",
       "      <th>cat_ocupacional</th>\n",
       "      <th>...</th>\n",
       "      <th>cantidad_hijos_nac_vivos</th>\n",
       "      <th>sexo_Mujer</th>\n",
       "      <th>situacion_conyugal_Casado/a</th>\n",
       "      <th>situacion_conyugal_Divorciado/a</th>\n",
       "      <th>situacion_conyugal_Soltero/a</th>\n",
       "      <th>situacion_conyugal_Unido/a</th>\n",
       "      <th>lugar_nacimiento_CABA</th>\n",
       "      <th>lugar_nacimiento_Otra provincia</th>\n",
       "      <th>lugar_nacimiento_PBA</th>\n",
       "      <th>lugar_nacimiento_Partido GBA</th>\n",
       "    </tr>\n",
       "  </thead>\n",
       "  <tbody>\n",
       "    <tr>\n",
       "      <th>0</th>\n",
       "      <td>3.0</td>\n",
       "      <td>2.0</td>\n",
       "      <td>1.0</td>\n",
       "      <td>2.0</td>\n",
       "      <td>2.0</td>\n",
       "      <td>0.0</td>\n",
       "      <td>50.0</td>\n",
       "      <td>1.0</td>\n",
       "      <td>2.0</td>\n",
       "      <td>0.0</td>\n",
       "      <td>...</td>\n",
       "      <td>2.0</td>\n",
       "      <td>1.0</td>\n",
       "      <td>0.0</td>\n",
       "      <td>0.0</td>\n",
       "      <td>0.0</td>\n",
       "      <td>0.0</td>\n",
       "      <td>1.0</td>\n",
       "      <td>0.0</td>\n",
       "      <td>0.0</td>\n",
       "      <td>0.0</td>\n",
       "    </tr>\n",
       "    <tr>\n",
       "      <th>1</th>\n",
       "      <td>6.0</td>\n",
       "      <td>3.0</td>\n",
       "      <td>1.0</td>\n",
       "      <td>2.0</td>\n",
       "      <td>10.0</td>\n",
       "      <td>0.0</td>\n",
       "      <td>21.0</td>\n",
       "      <td>1.0</td>\n",
       "      <td>2.0</td>\n",
       "      <td>0.0</td>\n",
       "      <td>...</td>\n",
       "      <td>0.0</td>\n",
       "      <td>0.0</td>\n",
       "      <td>0.0</td>\n",
       "      <td>0.0</td>\n",
       "      <td>0.0</td>\n",
       "      <td>1.0</td>\n",
       "      <td>1.0</td>\n",
       "      <td>0.0</td>\n",
       "      <td>0.0</td>\n",
       "      <td>0.0</td>\n",
       "    </tr>\n",
       "    <tr>\n",
       "      <th>2</th>\n",
       "      <td>10.0</td>\n",
       "      <td>5.0</td>\n",
       "      <td>1.0</td>\n",
       "      <td>1.0</td>\n",
       "      <td>8.0</td>\n",
       "      <td>0.0</td>\n",
       "      <td>19.0</td>\n",
       "      <td>0.0</td>\n",
       "      <td>2.0</td>\n",
       "      <td>0.0</td>\n",
       "      <td>...</td>\n",
       "      <td>0.0</td>\n",
       "      <td>1.0</td>\n",
       "      <td>0.0</td>\n",
       "      <td>0.0</td>\n",
       "      <td>1.0</td>\n",
       "      <td>0.0</td>\n",
       "      <td>0.0</td>\n",
       "      <td>1.0</td>\n",
       "      <td>0.0</td>\n",
       "      <td>0.0</td>\n",
       "    </tr>\n",
       "    <tr>\n",
       "      <th>3</th>\n",
       "      <td>11.0</td>\n",
       "      <td>5.0</td>\n",
       "      <td>2.0</td>\n",
       "      <td>1.0</td>\n",
       "      <td>8.0</td>\n",
       "      <td>0.0</td>\n",
       "      <td>23.0</td>\n",
       "      <td>0.0</td>\n",
       "      <td>2.0</td>\n",
       "      <td>0.0</td>\n",
       "      <td>...</td>\n",
       "      <td>0.0</td>\n",
       "      <td>1.0</td>\n",
       "      <td>0.0</td>\n",
       "      <td>0.0</td>\n",
       "      <td>1.0</td>\n",
       "      <td>0.0</td>\n",
       "      <td>0.0</td>\n",
       "      <td>1.0</td>\n",
       "      <td>0.0</td>\n",
       "      <td>0.0</td>\n",
       "    </tr>\n",
       "    <tr>\n",
       "      <th>4</th>\n",
       "      <td>24.0</td>\n",
       "      <td>14.0</td>\n",
       "      <td>1.0</td>\n",
       "      <td>1.0</td>\n",
       "      <td>6.0</td>\n",
       "      <td>0.0</td>\n",
       "      <td>19.0</td>\n",
       "      <td>0.0</td>\n",
       "      <td>2.0</td>\n",
       "      <td>0.0</td>\n",
       "      <td>...</td>\n",
       "      <td>0.0</td>\n",
       "      <td>0.0</td>\n",
       "      <td>0.0</td>\n",
       "      <td>0.0</td>\n",
       "      <td>1.0</td>\n",
       "      <td>0.0</td>\n",
       "      <td>0.0</td>\n",
       "      <td>0.0</td>\n",
       "      <td>0.0</td>\n",
       "      <td>1.0</td>\n",
       "    </tr>\n",
       "    <tr>\n",
       "      <th>...</th>\n",
       "      <td>...</td>\n",
       "      <td>...</td>\n",
       "      <td>...</td>\n",
       "      <td>...</td>\n",
       "      <td>...</td>\n",
       "      <td>...</td>\n",
       "      <td>...</td>\n",
       "      <td>...</td>\n",
       "      <td>...</td>\n",
       "      <td>...</td>\n",
       "      <td>...</td>\n",
       "      <td>...</td>\n",
       "      <td>...</td>\n",
       "      <td>...</td>\n",
       "      <td>...</td>\n",
       "      <td>...</td>\n",
       "      <td>...</td>\n",
       "      <td>...</td>\n",
       "      <td>...</td>\n",
       "      <td>...</td>\n",
       "      <td>...</td>\n",
       "    </tr>\n",
       "    <tr>\n",
       "      <th>6819</th>\n",
       "      <td>14285.0</td>\n",
       "      <td>5776.0</td>\n",
       "      <td>1.0</td>\n",
       "      <td>2.0</td>\n",
       "      <td>13.0</td>\n",
       "      <td>0.0</td>\n",
       "      <td>52.0</td>\n",
       "      <td>1.0</td>\n",
       "      <td>2.0</td>\n",
       "      <td>0.0</td>\n",
       "      <td>...</td>\n",
       "      <td>0.0</td>\n",
       "      <td>0.0</td>\n",
       "      <td>0.0</td>\n",
       "      <td>0.0</td>\n",
       "      <td>1.0</td>\n",
       "      <td>0.0</td>\n",
       "      <td>0.0</td>\n",
       "      <td>0.0</td>\n",
       "      <td>0.0</td>\n",
       "      <td>1.0</td>\n",
       "    </tr>\n",
       "    <tr>\n",
       "      <th>6820</th>\n",
       "      <td>14288.0</td>\n",
       "      <td>5778.0</td>\n",
       "      <td>1.0</td>\n",
       "      <td>2.0</td>\n",
       "      <td>6.0</td>\n",
       "      <td>0.0</td>\n",
       "      <td>54.0</td>\n",
       "      <td>1.0</td>\n",
       "      <td>2.0</td>\n",
       "      <td>0.0</td>\n",
       "      <td>...</td>\n",
       "      <td>2.0</td>\n",
       "      <td>1.0</td>\n",
       "      <td>0.0</td>\n",
       "      <td>0.0</td>\n",
       "      <td>0.0</td>\n",
       "      <td>0.0</td>\n",
       "      <td>0.0</td>\n",
       "      <td>0.0</td>\n",
       "      <td>0.0</td>\n",
       "      <td>1.0</td>\n",
       "    </tr>\n",
       "    <tr>\n",
       "      <th>6821</th>\n",
       "      <td>14293.0</td>\n",
       "      <td>5781.0</td>\n",
       "      <td>1.0</td>\n",
       "      <td>3.0</td>\n",
       "      <td>7.0</td>\n",
       "      <td>0.0</td>\n",
       "      <td>31.0</td>\n",
       "      <td>1.0</td>\n",
       "      <td>2.0</td>\n",
       "      <td>0.0</td>\n",
       "      <td>...</td>\n",
       "      <td>2.0</td>\n",
       "      <td>1.0</td>\n",
       "      <td>0.0</td>\n",
       "      <td>0.0</td>\n",
       "      <td>1.0</td>\n",
       "      <td>0.0</td>\n",
       "      <td>1.0</td>\n",
       "      <td>0.0</td>\n",
       "      <td>0.0</td>\n",
       "      <td>0.0</td>\n",
       "    </tr>\n",
       "    <tr>\n",
       "      <th>6822</th>\n",
       "      <td>14308.0</td>\n",
       "      <td>5790.0</td>\n",
       "      <td>1.0</td>\n",
       "      <td>2.0</td>\n",
       "      <td>13.0</td>\n",
       "      <td>0.0</td>\n",
       "      <td>37.0</td>\n",
       "      <td>1.0</td>\n",
       "      <td>2.0</td>\n",
       "      <td>0.0</td>\n",
       "      <td>...</td>\n",
       "      <td>1.0</td>\n",
       "      <td>1.0</td>\n",
       "      <td>0.0</td>\n",
       "      <td>0.0</td>\n",
       "      <td>1.0</td>\n",
       "      <td>0.0</td>\n",
       "      <td>0.0</td>\n",
       "      <td>1.0</td>\n",
       "      <td>0.0</td>\n",
       "      <td>0.0</td>\n",
       "    </tr>\n",
       "    <tr>\n",
       "      <th>6823</th>\n",
       "      <td>14313.0</td>\n",
       "      <td>5793.0</td>\n",
       "      <td>1.0</td>\n",
       "      <td>2.0</td>\n",
       "      <td>6.0</td>\n",
       "      <td>0.0</td>\n",
       "      <td>52.0</td>\n",
       "      <td>1.0</td>\n",
       "      <td>2.0</td>\n",
       "      <td>0.0</td>\n",
       "      <td>...</td>\n",
       "      <td>3.0</td>\n",
       "      <td>1.0</td>\n",
       "      <td>0.0</td>\n",
       "      <td>0.0</td>\n",
       "      <td>0.0</td>\n",
       "      <td>1.0</td>\n",
       "      <td>0.0</td>\n",
       "      <td>0.0</td>\n",
       "      <td>0.0</td>\n",
       "      <td>0.0</td>\n",
       "    </tr>\n",
       "  </tbody>\n",
       "</table>\n",
       "<p>6824 rows × 25 columns</p>\n",
       "</div>"
      ],
      "text/plain": [
       "        index      id  nhogar  miembro  comuna  dominio  edad  \\\n",
       "0         3.0     2.0     1.0      2.0     2.0      0.0  50.0   \n",
       "1         6.0     3.0     1.0      2.0    10.0      0.0  21.0   \n",
       "2        10.0     5.0     1.0      1.0     8.0      0.0  19.0   \n",
       "3        11.0     5.0     2.0      1.0     8.0      0.0  23.0   \n",
       "4        24.0    14.0     1.0      1.0     6.0      0.0  19.0   \n",
       "...       ...     ...     ...      ...     ...      ...   ...   \n",
       "6819  14285.0  5776.0     1.0      2.0    13.0      0.0  52.0   \n",
       "6820  14288.0  5778.0     1.0      2.0     6.0      0.0  54.0   \n",
       "6821  14293.0  5781.0     1.0      3.0     7.0      0.0  31.0   \n",
       "6822  14308.0  5790.0     1.0      2.0    13.0      0.0  37.0   \n",
       "6823  14313.0  5793.0     1.0      2.0     6.0      0.0  52.0   \n",
       "\n",
       "      parentesco_jefe  estado_ocupacional  cat_ocupacional  ...  \\\n",
       "0                 1.0                 2.0              0.0  ...   \n",
       "1                 1.0                 2.0              0.0  ...   \n",
       "2                 0.0                 2.0              0.0  ...   \n",
       "3                 0.0                 2.0              0.0  ...   \n",
       "4                 0.0                 2.0              0.0  ...   \n",
       "...               ...                 ...              ...  ...   \n",
       "6819              1.0                 2.0              0.0  ...   \n",
       "6820              1.0                 2.0              0.0  ...   \n",
       "6821              1.0                 2.0              0.0  ...   \n",
       "6822              1.0                 2.0              0.0  ...   \n",
       "6823              1.0                 2.0              0.0  ...   \n",
       "\n",
       "      cantidad_hijos_nac_vivos  sexo_Mujer  situacion_conyugal_Casado/a  \\\n",
       "0                          2.0         1.0                          0.0   \n",
       "1                          0.0         0.0                          0.0   \n",
       "2                          0.0         1.0                          0.0   \n",
       "3                          0.0         1.0                          0.0   \n",
       "4                          0.0         0.0                          0.0   \n",
       "...                        ...         ...                          ...   \n",
       "6819                       0.0         0.0                          0.0   \n",
       "6820                       2.0         1.0                          0.0   \n",
       "6821                       2.0         1.0                          0.0   \n",
       "6822                       1.0         1.0                          0.0   \n",
       "6823                       3.0         1.0                          0.0   \n",
       "\n",
       "      situacion_conyugal_Divorciado/a  situacion_conyugal_Soltero/a  \\\n",
       "0                                 0.0                           0.0   \n",
       "1                                 0.0                           0.0   \n",
       "2                                 0.0                           1.0   \n",
       "3                                 0.0                           1.0   \n",
       "4                                 0.0                           1.0   \n",
       "...                               ...                           ...   \n",
       "6819                              0.0                           1.0   \n",
       "6820                              0.0                           0.0   \n",
       "6821                              0.0                           1.0   \n",
       "6822                              0.0                           1.0   \n",
       "6823                              0.0                           0.0   \n",
       "\n",
       "      situacion_conyugal_Unido/a  lugar_nacimiento_CABA  \\\n",
       "0                            0.0                    1.0   \n",
       "1                            1.0                    1.0   \n",
       "2                            0.0                    0.0   \n",
       "3                            0.0                    0.0   \n",
       "4                            0.0                    0.0   \n",
       "...                          ...                    ...   \n",
       "6819                         0.0                    0.0   \n",
       "6820                         0.0                    0.0   \n",
       "6821                         0.0                    1.0   \n",
       "6822                         0.0                    0.0   \n",
       "6823                         1.0                    0.0   \n",
       "\n",
       "      lugar_nacimiento_Otra provincia  lugar_nacimiento_PBA  \\\n",
       "0                                 0.0                   0.0   \n",
       "1                                 0.0                   0.0   \n",
       "2                                 1.0                   0.0   \n",
       "3                                 1.0                   0.0   \n",
       "4                                 0.0                   0.0   \n",
       "...                               ...                   ...   \n",
       "6819                              0.0                   0.0   \n",
       "6820                              0.0                   0.0   \n",
       "6821                              0.0                   0.0   \n",
       "6822                              1.0                   0.0   \n",
       "6823                              0.0                   0.0   \n",
       "\n",
       "      lugar_nacimiento_Partido GBA  \n",
       "0                              0.0  \n",
       "1                              0.0  \n",
       "2                              0.0  \n",
       "3                              0.0  \n",
       "4                              1.0  \n",
       "...                            ...  \n",
       "6819                           1.0  \n",
       "6820                           1.0  \n",
       "6821                           0.0  \n",
       "6822                           0.0  \n",
       "6823                           0.0  \n",
       "\n",
       "[6824 rows x 25 columns]"
      ]
     },
     "execution_count": 67,
     "metadata": {},
     "output_type": "execute_result"
    }
   ],
   "source": [
    "clean_dataset(enc_18a65_pos)"
   ]
  },
  {
   "cell_type": "code",
   "execution_count": 68,
   "metadata": {},
   "outputs": [
    {
     "name": "stdout",
     "output_type": "stream",
     "text": [
      "Los features seran: \n",
      "       index    id  nhogar  miembro  comuna  dominio  edad  parentesco_jefe  \\\n",
      "0         3     2       1        2       2        0    50                1   \n",
      "1         6     3       1        2      10        0    21                1   \n",
      "2        10     5       1        1       8        0    19                0   \n",
      "3        11     5       2        1       8        0    23                0   \n",
      "4        24    14       1        1       6        0    19                0   \n",
      "...     ...   ...     ...      ...     ...      ...   ...              ...   \n",
      "6819  14285  5776       1        2      13        0    52                1   \n",
      "6820  14288  5778       1        2       6        0    54                1   \n",
      "6821  14293  5781       1        3       7        0    31                1   \n",
      "6822  14308  5790       1        2      13        0    37                1   \n",
      "6823  14313  5793       1        2       6        0    52                1   \n",
      "\n",
      "      estado_ocupacional  cat_ocupacional  ...  cantidad_hijos_nac_vivos  \\\n",
      "0                      2                0  ...                         2   \n",
      "1                      2                0  ...                         0   \n",
      "2                      2                0  ...                         0   \n",
      "3                      2                0  ...                         0   \n",
      "4                      2                0  ...                         0   \n",
      "...                  ...              ...  ...                       ...   \n",
      "6819                   2                0  ...                         0   \n",
      "6820                   2                0  ...                         2   \n",
      "6821                   2                0  ...                         2   \n",
      "6822                   2                0  ...                         1   \n",
      "6823                   2                0  ...                         3   \n",
      "\n",
      "      sexo_Mujer situacion_conyugal_Casado/a  situacion_conyugal_Divorciado/a  \\\n",
      "0              1                           0                                0   \n",
      "1              0                           0                                0   \n",
      "2              1                           0                                0   \n",
      "3              1                           0                                0   \n",
      "4              0                           0                                0   \n",
      "...          ...                         ...                              ...   \n",
      "6819           0                           0                                0   \n",
      "6820           1                           0                                0   \n",
      "6821           1                           0                                0   \n",
      "6822           1                           0                                0   \n",
      "6823           1                           0                                0   \n",
      "\n",
      "     situacion_conyugal_Soltero/a  situacion_conyugal_Unido/a  \\\n",
      "0                               0                           0   \n",
      "1                               0                           1   \n",
      "2                               1                           0   \n",
      "3                               1                           0   \n",
      "4                               1                           0   \n",
      "...                           ...                         ...   \n",
      "6819                            1                           0   \n",
      "6820                            0                           0   \n",
      "6821                            1                           0   \n",
      "6822                            1                           0   \n",
      "6823                            0                           1   \n",
      "\n",
      "      lugar_nacimiento_CABA  lugar_nacimiento_Otra provincia  \\\n",
      "0                         1                                0   \n",
      "1                         1                                0   \n",
      "2                         0                                1   \n",
      "3                         0                                1   \n",
      "4                         0                                0   \n",
      "...                     ...                              ...   \n",
      "6819                      0                                0   \n",
      "6820                      0                                0   \n",
      "6821                      1                                0   \n",
      "6822                      0                                1   \n",
      "6823                      0                                0   \n",
      "\n",
      "      lugar_nacimiento_PBA  lugar_nacimiento_Partido GBA  \n",
      "0                        0                             0  \n",
      "1                        0                             0  \n",
      "2                        0                             0  \n",
      "3                        0                             0  \n",
      "4                        0                             1  \n",
      "...                    ...                           ...  \n",
      "6819                     0                             1  \n",
      "6820                     0                             1  \n",
      "6821                     0                             0  \n",
      "6822                     0                             0  \n",
      "6823                     0                             0  \n",
      "\n",
      "[6824 rows x 24 columns] \n",
      "\n",
      "El target sera: \n",
      " 0       4.845098\n",
      "1       4.643453\n",
      "2       4.447158\n",
      "3       4.397940\n",
      "4       4.342423\n",
      "          ...   \n",
      "6819    4.477121\n",
      "6820    4.380211\n",
      "6821    4.447158\n",
      "6822    4.579784\n",
      "6823    4.477121\n",
      "Name: ingreso_total_lab, Length: 6824, dtype: float64 \n",
      "\n"
     ]
    }
   ],
   "source": [
    "# Separamos los features del target\n",
    "\n",
    "x = enc_18a65_pos.drop(columns=['ingreso_total_lab'])\n",
    "y = enc_18a65_pos['ingreso_total_lab']\n",
    "\n",
    "print(\"Los features seran:\",\"\\n\",x,\"\\n\")\n",
    "print(\"El target sera:\",\"\\n\", y,\"\\n\")"
   ]
  },
  {
   "cell_type": "code",
   "execution_count": 69,
   "metadata": {},
   "outputs": [],
   "source": [
    "# Separamos set de entrenamiento y testeo\n",
    "x_train, x_test, y_train, y_test = train_test_split(x,y, test_size=0.45, random_state=1)"
   ]
  },
  {
   "cell_type": "code",
   "execution_count": 70,
   "metadata": {},
   "outputs": [],
   "source": [
    "# Definimos el escalador \n",
    "scaler = StandardScaler()\n",
    "# Fiteamos para los x_train\n",
    "scaler = scaler.fit(x_train)"
   ]
  },
  {
   "cell_type": "code",
   "execution_count": 71,
   "metadata": {},
   "outputs": [],
   "source": [
    "# Transformamos los x_train\n",
    "x_train_scaled = scaler.transform(x_train)\n",
    "x_test_scaled = scaler.transform(x_test)"
   ]
  },
  {
   "cell_type": "code",
   "execution_count": 72,
   "metadata": {},
   "outputs": [
    {
     "data": {
      "text/html": [
       "<div>\n",
       "<style scoped>\n",
       "    .dataframe tbody tr th:only-of-type {\n",
       "        vertical-align: middle;\n",
       "    }\n",
       "\n",
       "    .dataframe tbody tr th {\n",
       "        vertical-align: top;\n",
       "    }\n",
       "\n",
       "    .dataframe thead th {\n",
       "        text-align: right;\n",
       "    }\n",
       "</style>\n",
       "<table border=\"1\" class=\"dataframe\">\n",
       "  <thead>\n",
       "    <tr style=\"text-align: right;\">\n",
       "      <th></th>\n",
       "      <th>Model</th>\n",
       "      <th>Features</th>\n",
       "      <th>R2</th>\n",
       "      <th>MSE</th>\n",
       "      <th>MAE</th>\n",
       "    </tr>\n",
       "  </thead>\n",
       "  <tbody>\n",
       "  </tbody>\n",
       "</table>\n",
       "</div>"
      ],
      "text/plain": [
       "Empty DataFrame\n",
       "Columns: [Model, Features, R2, MSE, MAE]\n",
       "Index: []"
      ]
     },
     "execution_count": 72,
     "metadata": {},
     "output_type": "execute_result"
    }
   ],
   "source": [
    "# Vamos a crear un dataframe para guardar los resultados de cada estimador\n",
    "results_df = pd.DataFrame(columns=['Model','Features','R2','MSE','MAE'])\n",
    "results_df"
   ]
  },
  {
   "cell_type": "markdown",
   "metadata": {},
   "source": [
    "# Regresion Lineal"
   ]
  },
  {
   "cell_type": "code",
   "execution_count": 73,
   "metadata": {},
   "outputs": [],
   "source": [
    "#Definimos el estimador\n",
    "est = LinearRegression()\n",
    "\n",
    "#Definimos diccionario con hyperparametros\n",
    "parameters = {\n",
    "                'fit_intercept' : [False, True]\n",
    "            }\n",
    "\n",
    "#Definimos la cantidad de folds para validar\n",
    "n_folds = 5\n",
    "\n",
    "#Definimos el objeto grid search con los parametros anteriores\n",
    "gs = GridSearchCV(est, param_grid=parameters, cv=n_folds, refit=True, scoring=\"neg_mean_squared_error\")"
   ]
  },
  {
   "cell_type": "code",
   "execution_count": 74,
   "metadata": {},
   "outputs": [
    {
     "data": {
      "text/plain": [
       "GridSearchCV(cv=5, estimator=LinearRegression(),\n",
       "             param_grid={'fit_intercept': [False, True]},\n",
       "             scoring='neg_mean_squared_error')"
      ]
     },
     "execution_count": 74,
     "metadata": {},
     "output_type": "execute_result"
    }
   ],
   "source": [
    "#Entrenamos\n",
    "gs.fit(x_train_scaled, y_train)"
   ]
  },
  {
   "cell_type": "code",
   "execution_count": 75,
   "metadata": {},
   "outputs": [
    {
     "name": "stdout",
     "output_type": "stream",
     "text": [
      "LinearRegression() \n",
      "\n",
      "{'fit_intercept': True} \n",
      "\n",
      "-0.09388322707727477 \n",
      "\n"
     ]
    }
   ],
   "source": [
    "# Mostramos el mejor estimador, sus hyperparametros seleccionados y su resultado\n",
    "print(gs.best_estimator_, \"\\n\")\n",
    "print(gs.best_params_, \"\\n\")\n",
    "print(gs.best_score_, \"\\n\")"
   ]
  },
  {
   "cell_type": "code",
   "execution_count": 76,
   "metadata": {},
   "outputs": [],
   "source": [
    "# Usamos x_test para predecir con el mejor estimador\n",
    "linear_prediction = gs.best_estimator_.predict(x_test_scaled)\n",
    "#Calculamos las metricas R2, MSE y MAE\n",
    "linear_r2 = r2_score(y_true=y_test, y_pred=linear_prediction)\n",
    "linear_mse = mean_squared_error(y_true=y_test, y_pred=linear_prediction)\n",
    "linear_mae = mean_absolute_error(y_true=y_test, y_pred=linear_prediction)"
   ]
  },
  {
   "cell_type": "code",
   "execution_count": 77,
   "metadata": {},
   "outputs": [
    {
     "name": "stdout",
     "output_type": "stream",
     "text": [
      "R2 score: 0.427065\n",
      "MAE: 0.224683\n",
      "MSE: 0.098116\n"
     ]
    }
   ],
   "source": [
    "print(f'R2 score: {linear_r2:.6f}')\n",
    "print(f'MAE: {linear_mae:.6f}')\n",
    "print(f'MSE: {linear_mse:.6f}')"
   ]
  },
  {
   "cell_type": "code",
   "execution_count": 78,
   "metadata": {},
   "outputs": [
    {
     "data": {
      "text/html": [
       "<div>\n",
       "<style scoped>\n",
       "    .dataframe tbody tr th:only-of-type {\n",
       "        vertical-align: middle;\n",
       "    }\n",
       "\n",
       "    .dataframe tbody tr th {\n",
       "        vertical-align: top;\n",
       "    }\n",
       "\n",
       "    .dataframe thead th {\n",
       "        text-align: right;\n",
       "    }\n",
       "</style>\n",
       "<table border=\"1\" class=\"dataframe\">\n",
       "  <thead>\n",
       "    <tr style=\"text-align: right;\">\n",
       "      <th></th>\n",
       "      <th>Model</th>\n",
       "      <th>Features</th>\n",
       "      <th>R2</th>\n",
       "      <th>MSE</th>\n",
       "      <th>MAE</th>\n",
       "    </tr>\n",
       "  </thead>\n",
       "  <tbody>\n",
       "    <tr>\n",
       "      <th>0</th>\n",
       "      <td>Linear with log10</td>\n",
       "      <td>Lineal</td>\n",
       "      <td>0.427065</td>\n",
       "      <td>0.098116</td>\n",
       "      <td>0.224683</td>\n",
       "    </tr>\n",
       "  </tbody>\n",
       "</table>\n",
       "</div>"
      ],
      "text/plain": [
       "               Model Features        R2       MSE       MAE\n",
       "0  Linear with log10   Lineal  0.427065  0.098116  0.224683"
      ]
     },
     "execution_count": 78,
     "metadata": {},
     "output_type": "execute_result"
    }
   ],
   "source": [
    "#Guardamos los resultados\n",
    "results_df = results_df.append({'Model':'Linear with log10',\n",
    "                                'Features':'Lineal',\n",
    "                                'R2':linear_r2,\n",
    "                                'MSE':linear_mse,\n",
    "                                'MAE':linear_mae\n",
    "                                   },ignore_index=True)\n",
    "results_df"
   ]
  },
  {
   "cell_type": "markdown",
   "metadata": {},
   "source": [
    "# Regresion Ridge"
   ]
  },
  {
   "cell_type": "code",
   "execution_count": 79,
   "metadata": {},
   "outputs": [],
   "source": [
    "est = Ridge()\n",
    "\n",
    "# Lista del parametro lambda (llamado 'alpha' en el GridSearch )\n",
    "lambdas = [0.1,1,10,20,25,30]\n",
    "\n",
    "# Juntamos el diccionario de parametros\n",
    "parameters = {\n",
    "                'alpha': lambdas\n",
    "            }\n",
    "\n",
    "# Definimos nuevamente el objeto GS con los parametros previamente definidos\n",
    "gs1 = GridSearchCV(est, param_grid=parameters,refit=True, cv=n_folds, scoring=\"neg_mean_squared_error\")"
   ]
  },
  {
   "cell_type": "code",
   "execution_count": 80,
   "metadata": {},
   "outputs": [
    {
     "data": {
      "text/plain": [
       "GridSearchCV(cv=5, estimator=Ridge(),\n",
       "             param_grid={'alpha': [0.1, 1, 10, 20, 25, 30]},\n",
       "             scoring='neg_mean_squared_error')"
      ]
     },
     "execution_count": 80,
     "metadata": {},
     "output_type": "execute_result"
    }
   ],
   "source": [
    "# Entrenamos\n",
    "gs1.fit(x_train_scaled, y_train)"
   ]
  },
  {
   "cell_type": "code",
   "execution_count": 81,
   "metadata": {},
   "outputs": [
    {
     "name": "stdout",
     "output_type": "stream",
     "text": [
      "Ridge(alpha=10) \n",
      "\n",
      "{'alpha': 10} \n",
      "\n",
      "-0.09383478255004532 \n",
      "\n"
     ]
    }
   ],
   "source": [
    "# Mostramos el mejor estimador, sus hyperparametros seleccionados y su resultado\n",
    "print(gs1.best_estimator_, \"\\n\")\n",
    "print(gs1.best_params_, \"\\n\")\n",
    "print(gs1.best_score_, \"\\n\")"
   ]
  },
  {
   "cell_type": "code",
   "execution_count": 82,
   "metadata": {},
   "outputs": [],
   "source": [
    "#Predicciones + Metricas\n",
    "ridge_prediction = gs1.best_estimator_.predict(x_test_scaled)\n",
    "ridge_r2 = r2_score(y_true=y_test, y_pred=ridge_prediction)\n",
    "ridge_mse = mean_squared_error(y_true=y_test, y_pred=ridge_prediction)\n",
    "ridge_mae = mean_absolute_error(y_true=y_test, y_pred=ridge_prediction)"
   ]
  },
  {
   "cell_type": "code",
   "execution_count": 83,
   "metadata": {},
   "outputs": [
    {
     "name": "stdout",
     "output_type": "stream",
     "text": [
      "R2 score: 0.427645\n",
      "MAE: 0.224514\n",
      "MSE: 0.098016\n"
     ]
    }
   ],
   "source": [
    "print(f'R2 score: {ridge_r2:.6f}')\n",
    "print(f'MAE: {ridge_mae:.6f}')\n",
    "print(f'MSE: {ridge_mse:.6f}')"
   ]
  },
  {
   "cell_type": "code",
   "execution_count": 84,
   "metadata": {},
   "outputs": [
    {
     "data": {
      "text/html": [
       "<div>\n",
       "<style scoped>\n",
       "    .dataframe tbody tr th:only-of-type {\n",
       "        vertical-align: middle;\n",
       "    }\n",
       "\n",
       "    .dataframe tbody tr th {\n",
       "        vertical-align: top;\n",
       "    }\n",
       "\n",
       "    .dataframe thead th {\n",
       "        text-align: right;\n",
       "    }\n",
       "</style>\n",
       "<table border=\"1\" class=\"dataframe\">\n",
       "  <thead>\n",
       "    <tr style=\"text-align: right;\">\n",
       "      <th></th>\n",
       "      <th>Model</th>\n",
       "      <th>Features</th>\n",
       "      <th>R2</th>\n",
       "      <th>MSE</th>\n",
       "      <th>MAE</th>\n",
       "    </tr>\n",
       "  </thead>\n",
       "  <tbody>\n",
       "    <tr>\n",
       "      <th>0</th>\n",
       "      <td>Linear with log10</td>\n",
       "      <td>Lineal</td>\n",
       "      <td>0.427065</td>\n",
       "      <td>0.098116</td>\n",
       "      <td>0.224683</td>\n",
       "    </tr>\n",
       "    <tr>\n",
       "      <th>1</th>\n",
       "      <td>Ridge with log10</td>\n",
       "      <td>Lineal</td>\n",
       "      <td>0.427645</td>\n",
       "      <td>0.098016</td>\n",
       "      <td>0.224514</td>\n",
       "    </tr>\n",
       "  </tbody>\n",
       "</table>\n",
       "</div>"
      ],
      "text/plain": [
       "               Model Features        R2       MSE       MAE\n",
       "0  Linear with log10   Lineal  0.427065  0.098116  0.224683\n",
       "1   Ridge with log10   Lineal  0.427645  0.098016  0.224514"
      ]
     },
     "execution_count": 84,
     "metadata": {},
     "output_type": "execute_result"
    }
   ],
   "source": [
    "#Guardamos resultados\n",
    "results_df = results_df.append({'Model':'Ridge with log10',\n",
    "                                'Features':'Lineal',\n",
    "                                'R2':ridge_r2,\n",
    "                                'MSE':ridge_mse,\n",
    "                                'MAE':ridge_mae},ignore_index=True)\n",
    "results_df"
   ]
  },
  {
   "cell_type": "markdown",
   "metadata": {},
   "source": [
    "# Regresion Support Vector con kernel Gaussiano"
   ]
  },
  {
   "cell_type": "code",
   "execution_count": 117,
   "metadata": {},
   "outputs": [],
   "source": [
    "est = SVR()\n",
    "\n",
    "# Lista del parametro lambda (parametro 'alpha')\n",
    "parameters = {\n",
    "                'C' : [1,10,50,100],\n",
    "                'epsilon' : [0.0001,0.0015,0.001, 0.01, 0.1,1],\n",
    "                'gamma':[0.001, 0.01, 0.1,1, 10,100]\n",
    "             }\n",
    "\n",
    "# Definimos nuevamente el objeto GS con los parametros previamente definidos\n",
    "gs2 = GridSearchCV(est, param_grid=parameters,refit=True,\n",
    "                  cv=n_folds, scoring=\"neg_mean_squared_error\",\n",
    "                  verbose=3, n_jobs=3)"
   ]
  },
  {
   "cell_type": "code",
   "execution_count": 118,
   "metadata": {},
   "outputs": [
    {
     "name": "stdout",
     "output_type": "stream",
     "text": [
      "Fitting 5 folds for each of 144 candidates, totalling 720 fits\n"
     ]
    },
    {
     "name": "stderr",
     "output_type": "stream",
     "text": [
      "[Parallel(n_jobs=3)]: Using backend LokyBackend with 3 concurrent workers.\n",
      "[Parallel(n_jobs=3)]: Done  26 tasks      | elapsed:   27.2s\n",
      "[Parallel(n_jobs=3)]: Done 122 tasks      | elapsed:  2.2min\n",
      "[Parallel(n_jobs=3)]: Done 282 tasks      | elapsed:  5.3min\n",
      "[Parallel(n_jobs=3)]: Done 506 tasks      | elapsed: 12.5min\n",
      "[Parallel(n_jobs=3)]: Done 720 out of 720 | elapsed: 21.6min finished\n"
     ]
    },
    {
     "data": {
      "text/plain": [
       "GridSearchCV(cv=5, estimator=SVR(), n_jobs=3,\n",
       "             param_grid={'C': [1, 10, 50, 100],\n",
       "                         'epsilon': [0.0001, 0.0015, 0.001, 0.01, 0.1, 1],\n",
       "                         'gamma': [0.001, 0.01, 0.1, 1, 10, 100]},\n",
       "             scoring='neg_mean_squared_error', verbose=3)"
      ]
     },
     "execution_count": 118,
     "metadata": {},
     "output_type": "execute_result"
    }
   ],
   "source": [
    "# Entrenamos\n",
    "gs2.fit(x_train_scaled, y_train)"
   ]
  },
  {
   "cell_type": "code",
   "execution_count": 119,
   "metadata": {},
   "outputs": [
    {
     "name": "stdout",
     "output_type": "stream",
     "text": [
      "SVR(C=100, gamma=0.001) \n",
      "\n",
      "{'C': 100, 'epsilon': 0.1, 'gamma': 0.001} \n",
      "\n",
      "-0.0903222695335081 \n",
      "\n"
     ]
    }
   ],
   "source": [
    "print(gs2.best_estimator_, \"\\n\")\n",
    "print(gs2.best_params_, \"\\n\")\n",
    "print(gs2.best_score_, \"\\n\")"
   ]
  },
  {
   "cell_type": "code",
   "execution_count": 120,
   "metadata": {},
   "outputs": [],
   "source": [
    "# Prediccion + Metricas\n",
    "svr_prediction = gs2.best_estimator_.predict(x_test_scaled)\n",
    "svr_r2 = r2_score(y_true=y_test, y_pred=svr_prediction)\n",
    "svr_mse = mean_squared_error(y_true=y_test, y_pred=svr_prediction)\n",
    "svr_mae = mean_absolute_error(y_true=y_test, y_pred=svr_prediction)"
   ]
  },
  {
   "cell_type": "code",
   "execution_count": 121,
   "metadata": {},
   "outputs": [
    {
     "name": "stdout",
     "output_type": "stream",
     "text": [
      "R2 score: 0.451087\n",
      "MAE: 0.218707\n",
      "MSE: 0.094002\n"
     ]
    }
   ],
   "source": [
    "print(f'R2 score: {svr_r2:.6f}')\n",
    "print(f'MAE: {svr_mae:.6f}')\n",
    "print(f'MSE: {svr_mse:.6f}')"
   ]
  },
  {
   "cell_type": "code",
   "execution_count": 122,
   "metadata": {},
   "outputs": [
    {
     "data": {
      "text/html": [
       "<div>\n",
       "<style scoped>\n",
       "    .dataframe tbody tr th:only-of-type {\n",
       "        vertical-align: middle;\n",
       "    }\n",
       "\n",
       "    .dataframe tbody tr th {\n",
       "        vertical-align: top;\n",
       "    }\n",
       "\n",
       "    .dataframe thead th {\n",
       "        text-align: right;\n",
       "    }\n",
       "</style>\n",
       "<table border=\"1\" class=\"dataframe\">\n",
       "  <thead>\n",
       "    <tr style=\"text-align: right;\">\n",
       "      <th></th>\n",
       "      <th>Model</th>\n",
       "      <th>Features</th>\n",
       "      <th>R2</th>\n",
       "      <th>MSE</th>\n",
       "      <th>MAE</th>\n",
       "    </tr>\n",
       "  </thead>\n",
       "  <tbody>\n",
       "    <tr>\n",
       "      <th>0</th>\n",
       "      <td>Linear with log10</td>\n",
       "      <td>Lineal</td>\n",
       "      <td>0.427065</td>\n",
       "      <td>0.098116</td>\n",
       "      <td>0.224683</td>\n",
       "    </tr>\n",
       "    <tr>\n",
       "      <th>1</th>\n",
       "      <td>Ridge with log10</td>\n",
       "      <td>Lineal</td>\n",
       "      <td>0.427645</td>\n",
       "      <td>0.098016</td>\n",
       "      <td>0.224514</td>\n",
       "    </tr>\n",
       "    <tr>\n",
       "      <th>2</th>\n",
       "      <td>KNN Reg with log10</td>\n",
       "      <td>Linear</td>\n",
       "      <td>0.367188</td>\n",
       "      <td>0.108370</td>\n",
       "      <td>0.234143</td>\n",
       "    </tr>\n",
       "    <tr>\n",
       "      <th>3</th>\n",
       "      <td>Tree Dec with log10</td>\n",
       "      <td>Linear</td>\n",
       "      <td>0.401841</td>\n",
       "      <td>0.102435</td>\n",
       "      <td>0.230663</td>\n",
       "    </tr>\n",
       "    <tr>\n",
       "      <th>4</th>\n",
       "      <td>SVR with log10</td>\n",
       "      <td>Linear</td>\n",
       "      <td>0.451087</td>\n",
       "      <td>0.094002</td>\n",
       "      <td>0.218707</td>\n",
       "    </tr>\n",
       "  </tbody>\n",
       "</table>\n",
       "</div>"
      ],
      "text/plain": [
       "                 Model Features        R2       MSE       MAE\n",
       "0    Linear with log10   Lineal  0.427065  0.098116  0.224683\n",
       "1     Ridge with log10   Lineal  0.427645  0.098016  0.224514\n",
       "2   KNN Reg with log10   Linear  0.367188  0.108370  0.234143\n",
       "3  Tree Dec with log10   Linear  0.401841  0.102435  0.230663\n",
       "4       SVR with log10   Linear  0.451087  0.094002  0.218707"
      ]
     },
     "execution_count": 122,
     "metadata": {},
     "output_type": "execute_result"
    }
   ],
   "source": [
    "results_df = results_df.append({'Model':'SVR with log10',\n",
    "                                'Features':'Linear',\n",
    "                                'R2':svr_r2,\n",
    "                                'MSE':svr_mse,\n",
    "                                'MAE':svr_mae},ignore_index=True)\n",
    "results_df"
   ]
  },
  {
   "cell_type": "code",
   "execution_count": null,
   "metadata": {},
   "outputs": [],
   "source": [
    "\n"
   ]
  },
  {
   "cell_type": "code",
   "execution_count": null,
   "metadata": {},
   "outputs": [],
   "source": []
  },
  {
   "cell_type": "markdown",
   "metadata": {},
   "source": [
    "# Regresion por Arbol de Decision"
   ]
  },
  {
   "cell_type": "code",
   "execution_count": 111,
   "metadata": {},
   "outputs": [],
   "source": [
    "est = DecisionTreeRegressor(random_state=0)\n",
    "\n",
    "parameters = {\n",
    "                'max_depth':[1,5,10,15],\n",
    "                 'min_samples_split': [1,5,10,15],\n",
    "                 'min_samples_leaf': [1,5,10,15,20,25,30,35,40],\n",
    "                 'max_features': ['auto', 'sqrt', 'log2']\n",
    "            }\n",
    "\n",
    "# Definimos nuevamente el objeto GS con los parametros previamente definidos\n",
    "gs3 = GridSearchCV(est, param_grid=parameters,refit=True,\n",
    "                  cv=n_folds, scoring=\"neg_mean_squared_error\",\n",
    "                  verbose=3, n_jobs=3)"
   ]
  },
  {
   "cell_type": "code",
   "execution_count": 112,
   "metadata": {},
   "outputs": [
    {
     "name": "stdout",
     "output_type": "stream",
     "text": [
      "Fitting 5 folds for each of 432 candidates, totalling 2160 fits\n"
     ]
    },
    {
     "name": "stderr",
     "output_type": "stream",
     "text": [
      "[Parallel(n_jobs=3)]: Using backend LokyBackend with 3 concurrent workers.\n",
      "[Parallel(n_jobs=3)]: Done 122 tasks      | elapsed:    0.7s\n",
      "[Parallel(n_jobs=3)]: Done 1658 tasks      | elapsed:    9.7s\n",
      "[Parallel(n_jobs=3)]: Done 2160 out of 2160 | elapsed:   13.3s finished\n"
     ]
    },
    {
     "data": {
      "text/plain": [
       "GridSearchCV(cv=5, estimator=DecisionTreeRegressor(random_state=0), n_jobs=3,\n",
       "             param_grid={'max_depth': [1, 5, 10, 15],\n",
       "                         'max_features': ['auto', 'sqrt', 'log2'],\n",
       "                         'min_samples_leaf': [1, 5, 10, 15, 20, 25, 30, 35, 40],\n",
       "                         'min_samples_split': [1, 5, 10, 15]},\n",
       "             scoring='neg_mean_squared_error', verbose=3)"
      ]
     },
     "execution_count": 112,
     "metadata": {},
     "output_type": "execute_result"
    }
   ],
   "source": [
    "# Entrenamos\n",
    "gs3.fit(x_train_scaled, y_train)"
   ]
  },
  {
   "cell_type": "code",
   "execution_count": 113,
   "metadata": {},
   "outputs": [
    {
     "name": "stdout",
     "output_type": "stream",
     "text": [
      "DecisionTreeRegressor(max_depth=10, max_features='auto', min_samples_leaf=35,\n",
      "                      min_samples_split=5, random_state=0) \n",
      "\n",
      "{'max_depth': 10, 'max_features': 'auto', 'min_samples_leaf': 35, 'min_samples_split': 5} \n",
      "\n",
      "-0.09298261778649033 \n",
      "\n"
     ]
    }
   ],
   "source": [
    "print(gs3.best_estimator_, \"\\n\")\n",
    "print(gs3.best_params_, \"\\n\")\n",
    "print(gs3.best_score_, \"\\n\")"
   ]
  },
  {
   "cell_type": "code",
   "execution_count": 114,
   "metadata": {},
   "outputs": [],
   "source": [
    "# Prediccion + Metricas\n",
    "rtd_prediction = gs3.best_estimator_.predict(x_test_scaled)\n",
    "rtd_r2 = r2_score(y_true=y_test, y_pred=rtd_prediction)\n",
    "rtd_mse = mean_squared_error(y_true=y_test, y_pred=rtd_prediction)\n",
    "rtd_mae = mean_absolute_error(y_true=y_test, y_pred=rtd_prediction)"
   ]
  },
  {
   "cell_type": "code",
   "execution_count": 115,
   "metadata": {},
   "outputs": [
    {
     "name": "stdout",
     "output_type": "stream",
     "text": [
      "R2 score: 0.401841\n",
      "MAE: 0.230663\n",
      "MSE: 0.102435\n"
     ]
    }
   ],
   "source": [
    "print(f'R2 score: {rtd_r2:.6f}')\n",
    "print(f'MAE: {rtd_mae:.6f}')\n",
    "print(f'MSE: {rtd_mse:.6f}')"
   ]
  },
  {
   "cell_type": "code",
   "execution_count": 116,
   "metadata": {},
   "outputs": [
    {
     "data": {
      "text/html": [
       "<div>\n",
       "<style scoped>\n",
       "    .dataframe tbody tr th:only-of-type {\n",
       "        vertical-align: middle;\n",
       "    }\n",
       "\n",
       "    .dataframe tbody tr th {\n",
       "        vertical-align: top;\n",
       "    }\n",
       "\n",
       "    .dataframe thead th {\n",
       "        text-align: right;\n",
       "    }\n",
       "</style>\n",
       "<table border=\"1\" class=\"dataframe\">\n",
       "  <thead>\n",
       "    <tr style=\"text-align: right;\">\n",
       "      <th></th>\n",
       "      <th>Model</th>\n",
       "      <th>Features</th>\n",
       "      <th>R2</th>\n",
       "      <th>MSE</th>\n",
       "      <th>MAE</th>\n",
       "    </tr>\n",
       "  </thead>\n",
       "  <tbody>\n",
       "    <tr>\n",
       "      <th>0</th>\n",
       "      <td>Linear with log10</td>\n",
       "      <td>Lineal</td>\n",
       "      <td>0.427065</td>\n",
       "      <td>0.098116</td>\n",
       "      <td>0.224683</td>\n",
       "    </tr>\n",
       "    <tr>\n",
       "      <th>1</th>\n",
       "      <td>Ridge with log10</td>\n",
       "      <td>Lineal</td>\n",
       "      <td>0.427645</td>\n",
       "      <td>0.098016</td>\n",
       "      <td>0.224514</td>\n",
       "    </tr>\n",
       "    <tr>\n",
       "      <th>2</th>\n",
       "      <td>KNN Reg with log10</td>\n",
       "      <td>Linear</td>\n",
       "      <td>0.367188</td>\n",
       "      <td>0.108370</td>\n",
       "      <td>0.234143</td>\n",
       "    </tr>\n",
       "    <tr>\n",
       "      <th>3</th>\n",
       "      <td>Tree Dec with log10</td>\n",
       "      <td>Linear</td>\n",
       "      <td>0.401841</td>\n",
       "      <td>0.102435</td>\n",
       "      <td>0.230663</td>\n",
       "    </tr>\n",
       "  </tbody>\n",
       "</table>\n",
       "</div>"
      ],
      "text/plain": [
       "                 Model Features        R2       MSE       MAE\n",
       "0    Linear with log10   Lineal  0.427065  0.098116  0.224683\n",
       "1     Ridge with log10   Lineal  0.427645  0.098016  0.224514\n",
       "2   KNN Reg with log10   Linear  0.367188  0.108370  0.234143\n",
       "3  Tree Dec with log10   Linear  0.401841  0.102435  0.230663"
      ]
     },
     "execution_count": 116,
     "metadata": {},
     "output_type": "execute_result"
    }
   ],
   "source": [
    "results_df = results_df.append({'Model':'Tree Dec with log10',\n",
    "                                'Features':'Linear',\n",
    "                                'R2':rtd_r2,\n",
    "                                'MSE':rtd_mse,\n",
    "                                'MAE':rtd_mae},ignore_index=True)\n",
    "results_df"
   ]
  },
  {
   "cell_type": "code",
   "execution_count": null,
   "metadata": {},
   "outputs": [],
   "source": [
    "#results_df = results_df.drop(index=2)"
   ]
  },
  {
   "cell_type": "code",
   "execution_count": 110,
   "metadata": {},
   "outputs": [
    {
     "data": {
      "text/html": [
       "<div>\n",
       "<style scoped>\n",
       "    .dataframe tbody tr th:only-of-type {\n",
       "        vertical-align: middle;\n",
       "    }\n",
       "\n",
       "    .dataframe tbody tr th {\n",
       "        vertical-align: top;\n",
       "    }\n",
       "\n",
       "    .dataframe thead th {\n",
       "        text-align: right;\n",
       "    }\n",
       "</style>\n",
       "<table border=\"1\" class=\"dataframe\">\n",
       "  <thead>\n",
       "    <tr style=\"text-align: right;\">\n",
       "      <th></th>\n",
       "      <th>Model</th>\n",
       "      <th>Features</th>\n",
       "      <th>R2</th>\n",
       "      <th>MSE</th>\n",
       "      <th>MAE</th>\n",
       "    </tr>\n",
       "  </thead>\n",
       "  <tbody>\n",
       "    <tr>\n",
       "      <th>0</th>\n",
       "      <td>Linear with log10</td>\n",
       "      <td>Lineal</td>\n",
       "      <td>0.427065</td>\n",
       "      <td>0.098116</td>\n",
       "      <td>0.224683</td>\n",
       "    </tr>\n",
       "    <tr>\n",
       "      <th>1</th>\n",
       "      <td>Ridge with log10</td>\n",
       "      <td>Lineal</td>\n",
       "      <td>0.427645</td>\n",
       "      <td>0.098016</td>\n",
       "      <td>0.224514</td>\n",
       "    </tr>\n",
       "    <tr>\n",
       "      <th>2</th>\n",
       "      <td>KNN Reg with log10</td>\n",
       "      <td>Linear</td>\n",
       "      <td>0.367188</td>\n",
       "      <td>0.108370</td>\n",
       "      <td>0.234143</td>\n",
       "    </tr>\n",
       "  </tbody>\n",
       "</table>\n",
       "</div>"
      ],
      "text/plain": [
       "                Model Features        R2       MSE       MAE\n",
       "0   Linear with log10   Lineal  0.427065  0.098116  0.224683\n",
       "1    Ridge with log10   Lineal  0.427645  0.098016  0.224514\n",
       "2  KNN Reg with log10   Linear  0.367188  0.108370  0.234143"
      ]
     },
     "execution_count": 110,
     "metadata": {},
     "output_type": "execute_result"
    }
   ],
   "source": [
    "results_df"
   ]
  },
  {
   "cell_type": "markdown",
   "metadata": {},
   "source": [
    "# KNN Regresion"
   ]
  },
  {
   "cell_type": "code",
   "execution_count": 103,
   "metadata": {},
   "outputs": [],
   "source": [
    "est = KNeighborsRegressor()\n",
    "\n",
    "parameters = {\n",
    "                'n_neighbors':[1,10,30,50,70,100],\n",
    "                'weights': ['uniform', 'distance']\n",
    "            }\n",
    "    \n",
    "# Definimos nuevamente el objeto GS con los parametros previamente definidos\n",
    "gs4 = GridSearchCV(est, param_grid=parameters,refit=True,\n",
    "                  cv=n_folds, scoring=\"neg_mean_squared_error\",\n",
    "                  verbose=3, n_jobs=3)"
   ]
  },
  {
   "cell_type": "code",
   "execution_count": 104,
   "metadata": {},
   "outputs": [
    {
     "name": "stdout",
     "output_type": "stream",
     "text": [
      "Fitting 5 folds for each of 12 candidates, totalling 60 fits\n"
     ]
    },
    {
     "name": "stderr",
     "output_type": "stream",
     "text": [
      "[Parallel(n_jobs=3)]: Using backend LokyBackend with 3 concurrent workers.\n",
      "[Parallel(n_jobs=3)]: Done  26 tasks      | elapsed:    7.0s\n",
      "[Parallel(n_jobs=3)]: Done  60 out of  60 | elapsed:   12.0s finished\n"
     ]
    },
    {
     "data": {
      "text/plain": [
       "GridSearchCV(cv=5, estimator=KNeighborsRegressor(), n_jobs=3,\n",
       "             param_grid={'n_neighbors': [1, 10, 30, 50, 70, 100],\n",
       "                         'weights': ['uniform', 'distance']},\n",
       "             scoring='neg_mean_squared_error', verbose=3)"
      ]
     },
     "execution_count": 104,
     "metadata": {},
     "output_type": "execute_result"
    }
   ],
   "source": [
    "#Entrenamos \n",
    "gs4.fit(x_train_scaled, y_train)\n"
   ]
  },
  {
   "cell_type": "code",
   "execution_count": 105,
   "metadata": {},
   "outputs": [
    {
     "name": "stdout",
     "output_type": "stream",
     "text": [
      "KNeighborsRegressor(n_neighbors=30, weights='distance') \n",
      "\n",
      "{'n_neighbors': 30, 'weights': 'distance'} \n",
      "\n",
      "-0.10397760438225374 \n",
      "\n"
     ]
    }
   ],
   "source": [
    "print(gs4.best_estimator_, \"\\n\")\n",
    "print(gs4.best_params_, \"\\n\")\n",
    "print(gs4.best_score_, \"\\n\")"
   ]
  },
  {
   "cell_type": "code",
   "execution_count": 106,
   "metadata": {},
   "outputs": [],
   "source": [
    "# Prediccion + Metricas\n",
    "knn_prediction = gs4.best_estimator_.predict(x_test_scaled)\n",
    "knn_r2 = r2_score(y_true=y_test, y_pred=knn_prediction)\n",
    "knn_mse = mean_squared_error(y_true=y_test, y_pred=knn_prediction)\n",
    "knn_mae = mean_absolute_error(y_true=y_test, y_pred=knn_prediction)"
   ]
  },
  {
   "cell_type": "code",
   "execution_count": 107,
   "metadata": {},
   "outputs": [
    {
     "name": "stdout",
     "output_type": "stream",
     "text": [
      "R2 score: 0.367188\n",
      "MAE: 0.234143\n",
      "MSE: 0.108370\n"
     ]
    }
   ],
   "source": [
    "print(f'R2 score: {knn_r2:.6f}')\n",
    "print(f'MAE: {knn_mae:.6f}')\n",
    "print(f'MSE: {knn_mse:.6f}')"
   ]
  },
  {
   "cell_type": "code",
   "execution_count": 108,
   "metadata": {},
   "outputs": [
    {
     "data": {
      "text/html": [
       "<div>\n",
       "<style scoped>\n",
       "    .dataframe tbody tr th:only-of-type {\n",
       "        vertical-align: middle;\n",
       "    }\n",
       "\n",
       "    .dataframe tbody tr th {\n",
       "        vertical-align: top;\n",
       "    }\n",
       "\n",
       "    .dataframe thead th {\n",
       "        text-align: right;\n",
       "    }\n",
       "</style>\n",
       "<table border=\"1\" class=\"dataframe\">\n",
       "  <thead>\n",
       "    <tr style=\"text-align: right;\">\n",
       "      <th></th>\n",
       "      <th>Model</th>\n",
       "      <th>Features</th>\n",
       "      <th>R2</th>\n",
       "      <th>MSE</th>\n",
       "      <th>MAE</th>\n",
       "    </tr>\n",
       "  </thead>\n",
       "  <tbody>\n",
       "    <tr>\n",
       "      <th>0</th>\n",
       "      <td>Linear with log10</td>\n",
       "      <td>Lineal</td>\n",
       "      <td>0.427065</td>\n",
       "      <td>0.098116</td>\n",
       "      <td>0.224683</td>\n",
       "    </tr>\n",
       "    <tr>\n",
       "      <th>1</th>\n",
       "      <td>Ridge with log10</td>\n",
       "      <td>Lineal</td>\n",
       "      <td>0.427645</td>\n",
       "      <td>0.098016</td>\n",
       "      <td>0.224514</td>\n",
       "    </tr>\n",
       "    <tr>\n",
       "      <th>2</th>\n",
       "      <td>KNN Reg with log10</td>\n",
       "      <td>Linear</td>\n",
       "      <td>0.367188</td>\n",
       "      <td>0.108370</td>\n",
       "      <td>0.234143</td>\n",
       "    </tr>\n",
       "    <tr>\n",
       "      <th>3</th>\n",
       "      <td>KNN Reg with log10</td>\n",
       "      <td>Linear</td>\n",
       "      <td>0.367188</td>\n",
       "      <td>0.108370</td>\n",
       "      <td>0.234143</td>\n",
       "    </tr>\n",
       "  </tbody>\n",
       "</table>\n",
       "</div>"
      ],
      "text/plain": [
       "                Model Features        R2       MSE       MAE\n",
       "0   Linear with log10   Lineal  0.427065  0.098116  0.224683\n",
       "1    Ridge with log10   Lineal  0.427645  0.098016  0.224514\n",
       "2  KNN Reg with log10   Linear  0.367188  0.108370  0.234143\n",
       "3  KNN Reg with log10   Linear  0.367188  0.108370  0.234143"
      ]
     },
     "execution_count": 108,
     "metadata": {},
     "output_type": "execute_result"
    }
   ],
   "source": [
    "results_df = results_df.append({'Model':'KNN Reg with log10',\n",
    "                                'Features':'Linear',\n",
    "                                'R2':knn_r2,\n",
    "                                'MSE':knn_mse,\n",
    "                                'MAE':knn_mae},ignore_index=True)\n",
    "results_df"
   ]
  },
  {
   "cell_type": "code",
   "execution_count": 123,
   "metadata": {},
   "outputs": [
    {
     "name": "stderr",
     "output_type": "stream",
     "text": [
      "C:\\Users\\Notebook Asus\\anaconda3\\envs\\my_env\\lib\\site-packages\\seaborn\\_decorators.py:36: FutureWarning: Pass the following variables as keyword args: x, y. From version 0.12, the only valid positional argument will be `data`, and passing other arguments without an explicit keyword will result in an error or misinterpretation.\n",
      "  warnings.warn(\n"
     ]
    },
    {
     "data": {
      "text/plain": [
       "[<matplotlib.lines.Line2D at 0x2ceec796a30>]"
      ]
     },
     "execution_count": 123,
     "metadata": {},
     "output_type": "execute_result"
    },
    {
     "data": {
      "image/png": "[encoded data removed]",
      "text/plain": [
       "<Figure size 432x288 with 1 Axes>"
      ]
     },
     "metadata": {
      "needs_background": "light"
     },
     "output_type": "display_data"
    }
   ],
   "source": [
    "#Realizamos un grafico para mostrar como predice el modelo a lo largo de todos los valores\n",
    "\n",
    "sns.scatterplot(y_test, svr_prediction)\n",
    "plt.plot((2,6), (2,6), '--', color= 'r', alpha= 0.7, label= 'ideal')\n"
   ]
  },
  {
   "cell_type": "code",
   "execution_count": 124,
   "metadata": {},
   "outputs": [],
   "source": [
    "base=10\n",
    "exp=np.mean(svr_prediction-y_test)"
   ]
  },
  {
   "cell_type": "code",
   "execution_count": 125,
   "metadata": {},
   "outputs": [
    {
     "name": "stdout",
     "output_type": "stream",
     "text": [
      "El valor de la media de los residuos es:  1.081\n"
     ]
    },
    {
     "data": {
      "image/png": "[encoded data removed]",
      "text/plain": [
       "<Figure size 360x360 with 1 Axes>"
      ]
     },
     "metadata": {
      "needs_background": "light"
     },
     "output_type": "display_data"
    }
   ],
   "source": [
    "#Realizamos un displot para ver como se distribuyen las predicciones y los valores reales\n",
    "\n",
    "sns.displot((svr_prediction-y_test))\n",
    "print (\"El valor de la media de los residuos es: \", np.round(pow(base,exp),3))"
   ]
  },
  {
   "cell_type": "code",
   "execution_count": null,
   "metadata": {},
   "outputs": [],
   "source": []
  }
 ],
 "metadata": {
  "kernelspec": {
   "display_name": "Python 3",
   "language": "python",
   "name": "python3"
  },
  "language_info": {
   "codemirror_mode": {
    "name": "ipython",
    "version": 3
   },
   "file_extension": ".py",
   "mimetype": "text/x-python",
   "name": "python",
   "nbconvert_exporter": "python",
   "pygments_lexer": "ipython3",
   "version": "3.8.5"
  }
 },
 "nbformat": 4,
 "nbformat_minor": 4
}
